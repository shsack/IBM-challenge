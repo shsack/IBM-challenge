{
 "cells": [
  {
   "cell_type": "markdown",
   "id": "2d79f811-56d9-453a-bd2b-1dc6c6bfc014",
   "metadata": {},
   "source": [
    "<h1><center>IBM Open Science Prize 2022 </center></h1>\n",
    "\n",
    "**Group:** _Stefan Sack, Stefano Barison_"
   ]
  },
  {
   "cell_type": "markdown",
   "id": "b27ee4b8",
   "metadata": {},
   "source": [
    "##TODO: \n",
    "\n",
    " - <s>little introduction?</s>\n",
    " - <s>better explanation of ZNE</s>\n",
    " - <s>better explanation of \"bitstring removal\"</s>\n",
    " - banner for the intro\n",
    " - <s>image for YBE</s>\n",
    " - <s>citation for YBE conjecture</s>\n",
    " - hide pVQD optimization log and put it in pVQD_log.txt\n",
    " - better documentation of the code\n",
    " - <s>add pVQD image</s>\n",
    " - add pVQD explanation\n",
    " - explain decision on qubit routing\n",
    " - add better explanation in Trotter functions\n"
   ]
  },
  {
   "cell_type": "markdown",
   "id": "13babdc0",
   "metadata": {},
   "source": [
    "## 1 - Introduction"
   ]
  },
  {
   "cell_type": "markdown",
   "id": "19f74c80",
   "metadata": {},
   "source": [
    "Quantum simulation is one of the first envisioned application of quantum computing and has been proved to be of polynomial complexity on devices making use of quantum resources.\n",
    "\n",
    "Due to its potential impact on many different areas of physics, chemistry and materials science, significant amounts of research have been devoted to such application.\n",
    "\n",
    "However, the realisation of an universal quantum simulator remains far in the future due to combined effect of limited connectivity and noisy gates: the noise sets a maximum number of operations that can be performed without affecting the fidelity, and the sparse connection graph among qubits increases the total number of physical operations that must be performed to implement an algorithm.\n",
    "\n",
    "This challenge required us to consider the $XXX$-Heisenberg spin model \n",
    "\n",
    "$$\n",
    "\\begin{equation}\n",
    "H_{\\text{Heis}} = \\sum_{\\langle ij \\rangle}^{N} J \\left(\\sigma_x^{(i)}\\sigma_x^{(j)} + \\sigma_y^{(i)}\\sigma_y^{(j)} + \\sigma_z^{(i)}\\sigma_z^{(j)}\\right) \n",
    "\\end{equation}\n",
    "$$\n",
    "and significantly improve its state-of-the-art simulation.\n",
    "\n",
    "In particular, the requirement is to simulate the time evolution of the Heisenberg model with $N=3$ spins arranged in a line and $J=1$ up to $t=\\pi$ using at least 4 Trotter steps.\n"
   ]
  },
  {
   "cell_type": "code",
   "execution_count": 18,
   "id": "6ded4eac",
   "metadata": {},
   "outputs": [],
   "source": [
    "import numpy as np\n",
    "import matplotlib.pyplot as plt\n",
    "plt.rcParams.update({'font.size': 16})  # enlarge matplotlib fonts\n",
    "\n",
    "# Import qubit states Zero (|0>) and One (|1>), and Pauli operators (X, Y, Z)\n",
    "from qiskit.opflow import Zero, One, I, X, Y, Z\n",
    "\n",
    "# Suppress warnings\n",
    "import warnings\n",
    "warnings.filterwarnings('ignore')"
   ]
  },
  {
   "cell_type": "markdown",
   "id": "3050649e",
   "metadata": {},
   "source": [
    "### 1.1 - Classical simulation \n",
    "\n",
    "We start by showing some classical simulation of the model.\n",
    "\n",
    "Once we have the Hamiltonian matrix of the system  $H_{\\text{Heis3}}$, the time evolution operator that solves the Schr\\\"odinger equation can be obtained by matrix exponentiation\n",
    "$$\n",
    "\\begin{equation}\n",
    "U_{\\text{Heis3}}(t) = e^{-it H_\\text{Heis3}} = \\exp\\left(-it H_\\text{Heis3}\\right) \\, .\n",
    "\\end{equation}\n",
    "$$\n",
    "\n",
    "This operation is very accurate, but the computational cost scales exponentially with the system size on a classical computer.\n",
    "\n",
    "As the system contains only 3 spins, the classical simulation will be the blueprint to evaluate the quality of our quantum simulation.\n",
    "\n",
    "We start by creating the function that returns the Hesienberg Hamiltonian:"
   ]
  },
  {
   "cell_type": "code",
   "execution_count": 5,
   "id": "3739dad3-1874-4133-8703-7ff1d157622c",
   "metadata": {},
   "outputs": [],
   "source": [
    "# Returns the matrix representation of the XXX Heisenberg model for 3 spin-1/2 particles in a line\n",
    "def H_heis3():\n",
    "    # Interactions (I is the identity matrix; X, Y, and Z are Pauli matricies; ^ is a tensor product)\n",
    "    XXs = (I^X^X) + (X^X^I)\n",
    "    YYs = (I^Y^Y) + (Y^Y^I)\n",
    "    ZZs = (I^Z^Z) + (Z^Z^I)\n",
    "    \n",
    "    # Sum interactions\n",
    "    H = XXs + YYs + ZZs\n",
    "    \n",
    "    # Return Hamiltonian\n",
    "    return H"
   ]
  },
  {
   "cell_type": "markdown",
   "id": "7afab5eb",
   "metadata": {},
   "source": [
    "and then the function that return the time evolution operator up to time $t$"
   ]
  },
  {
   "cell_type": "code",
   "execution_count": 6,
   "id": "7ea74155",
   "metadata": {},
   "outputs": [],
   "source": [
    "# Returns the matrix representation of U_heis3(t) for a given time t assuming an XXX Heisenberg Hamiltonian for 3 spins-1/2 particles in a line\n",
    "def U_heis3(t):\n",
    "    # Compute XXX Hamiltonian for 3 spins in a line\n",
    "    H = H_heis3()\n",
    "    \n",
    "    # Return the exponential of -i multipled by time t multipled by the 3 spin XXX Heisenberg Hamilonian \n",
    "    return (t * H).exp_i()"
   ]
  },
  {
   "cell_type": "markdown",
   "id": "7d5ba1a6",
   "metadata": {},
   "source": [
    "We will use this operator to compute the evolution of the state $|110\\rangle$ up to $t=\\pi$.\n",
    "\n",
    "Here below we compute and plot the probability of remaining in $|110\\rangle$ state over an array of time points, namely\n",
    "\n",
    "$$\n",
    "\\begin{equation}\n",
    "p_{110}(t) =|\\langle 110 |e^{-it H_\\text{Heis3}}|110\\rangle|^2\n",
    "\\end{equation}\n",
    "$$"
   ]
  },
  {
   "cell_type": "code",
   "execution_count": 7,
   "id": "2fb4e328",
   "metadata": {},
   "outputs": [
    {
     "data": {
      "image/png": "[encoded data removed]",
      "text/plain": [
       "<Figure size 432x288 with 1 Axes>"
      ]
     },
     "metadata": {
      "needs_background": "light"
     },
     "output_type": "display_data"
    }
   ],
   "source": [
    "# Define array of time points\n",
    "ts = np.linspace(0, np.pi, 100)\n",
    "\n",
    "# Define initial state |110>\n",
    "initial_state = One^One^Zero\n",
    "\n",
    "# Compute probability of remaining in |110> state over the array of time points\n",
    " # ~initial_state gives the bra of the initial state (<110|)\n",
    " # @ is short hand for matrix multiplication\n",
    " # U_heis3(t) is the unitary time evolution at time t\n",
    " # t needs to be wrapped with float(t) to avoid a bug\n",
    " # (...).eval() returns the inner product <110|U_heis3(t)|110>\n",
    " #  np.abs(...)**2 is the modulus squared of the innner product which is the expectation value, or probability, of remaining in |110>\n",
    "probs_110_exact = [np.abs((~initial_state @ U_heis3(float(t)) @ initial_state).eval())**2 for t in ts]\n",
    "\n",
    "# Plot evolution of |110>\n",
    "plt.plot(ts, probs_110_exact,linestyle=\"dashed\",color=\"black\")\n",
    "plt.xlabel('time')\n",
    "plt.ylabel(r'probability of state $|110\\rangle$')\n",
    "plt.title(r'Evolution of state $|110\\rangle$ under $H_{Heis3}$')\n",
    "plt.grid()\n",
    "plt.show()"
   ]
  },
  {
   "cell_type": "markdown",
   "id": "f689414c",
   "metadata": {},
   "source": [
    "## 2- The Open Science Prize"
   ]
  },
  {
   "cell_type": "markdown",
   "id": "c136b9a0",
   "metadata": {},
   "source": [
    "We have already said that on a quantum computer the simulation of quantum dynamics is proven to be of polynomial complexity.\n",
    "This is true provided that we employ the Trotter-Suzuki approximation of the time evolution operator: given an Hamiltonian which can be written has a sum of local terms $H=\\sum_l H_l$, we can write\n",
    "\n",
    "$$\n",
    "e^{-i\\sum_{l}H_l t} = \\bigg( \\prod_{l} e^{-iH_{l}\\frac{t}{n}}\\bigg) ^{n} + O\\bigg( \\frac{t^2}{n}\\bigg)\n",
    "$$\n",
    "\n",
    "meaning that the time evolution operator can be approximated as a product of local operators, that can be implemented efficiently as quantum gates acting on the qubits.\n",
    "The error of this approximation can be decreased arbitrarily provided $n$ sufficiently big.\n",
    "Unfortunately, the depth of such a circuit is of $O(n)$, which means that with current error rates and no error correction schemes at the end the result will be completely dominated by noise.\n",
    "\n",
    "We are thus required to find a trade-off between simulation accuracy and circuit depth and to make all that we can in order to mitigate the noise acting on the system.\n",
    "\n",
    "More information on how quantum computers can be used to simualte quantum systems can be found in [Quantum computers as universal quantum simulators: state-of-art and perspectives](https://arxiv.org/abs/1907.03505), that we will often use as a reference for circuits through this notebook.\n",
    "\n",
    "In this case, we are required to use at least $4$ steps ($n\\geq4$) to time evolve the state $|110\\rangle$ to time $t=\\pi$ under $H_{\\text{heis3}}$.\n",
    "\n",
    "For this reason, we start from simply considering the Trotter time evolution for different values of $n\\geq4$ to assess the accuracy of this approximation."
   ]
  },
  {
   "cell_type": "markdown",
   "id": "6a41a81d",
   "metadata": {},
   "source": [
    "### 2.1 - Trotterization comparison\n",
    "\n",
    "For this reason, we will start analysing how a Trotterization on a perfect quantum device will evolve the state $|110\\rangle$ to time $t=\\pi$ given a fixed number of Trotter steps."
   ]
  },
  {
   "cell_type": "code",
   "execution_count": 19,
   "id": "a847a957",
   "metadata": {},
   "outputs": [],
   "source": [
    "## Import functions from Qiskit\n",
    "from qiskit                     import QuantumCircuit, QuantumRegister, IBMQ, execute, transpile, Aer\n",
    "from qiskit.providers.aer       import QasmSimulator\n",
    "from qiskit.tools.monitor       import job_monitor\n",
    "from qiskit.circuit             import Parameter, ParameterVector\n",
    "from qiskit.quantum_info        import Statevector, Pauli\n",
    "from qiskit.opflow.state_fns    import CircuitStateFn\n",
    "from qiskit.opflow.expectations import PauliExpectation\n",
    "from qiskit.utils               import QuantumInstance\n",
    "from qiskit.opflow              import PauliOp, SummedOp, CircuitSampler, StateFn"
   ]
  },
  {
   "cell_type": "code",
   "execution_count": 20,
   "id": "04a7d9b9",
   "metadata": {},
   "outputs": [],
   "source": [
    "## We have inlcuded a file called \"trotter_function.py\"\n",
    "## that contains different implementations of a Trotter step that we will use in this notebook\n",
    "\n",
    "# In this case, we import the standard Trotterization of the XXX Hamiltonian \n",
    "# as indicated in Fig. 4a of arXiv:1907.03505v2\n",
    "from trotter_functions import Heisenberg_Trotter"
   ]
  },
  {
   "cell_type": "code",
   "execution_count": 10,
   "id": "07d32eab",
   "metadata": {},
   "outputs": [
    {
     "name": "stdout",
     "output_type": "stream",
     "text": [
      "4 steps completed\n",
      "8 steps completed\n",
      "12 steps completed\n"
     ]
    }
   ],
   "source": [
    "# Simulate the system with a different number of Trotter steps and compare with the matrix exponentiation\n",
    "# In this case, we will consider 4, 8 and 12 Trotter steps\n",
    "probs_110_trott = {4:[],8:[],12:[]}\n",
    "t = Parameter(\"t\")\n",
    "\n",
    "for t_n in probs_110_trott.keys():\n",
    "    for sim_t in ts:\n",
    "        # Initialise the circuit\n",
    "        trott_qr = QuantumRegister(3)\n",
    "        trott_qc = QuantumCircuit(trott_qr)\n",
    "        trott_qc.x([1,2])\n",
    "    \n",
    "        # Append the Trotterization\n",
    "        trott_step = Heisenberg_Trotter(num_qubits=3,trotter_steps=t_n,p=t,target_time=sim_t).to_instruction()\n",
    "        trott_qc.append(trott_step, [trott_qr[0], trott_qr[1], trott_qr[2]])\n",
    "    \n",
    "    \n",
    "        trott_wfn = CircuitStateFn(trott_qc)\n",
    "        trott_ovp = np.abs((~initial_state@trott_wfn).eval())**2\n",
    "        probs_110_trott[t_n].append(trott_ovp)\n",
    "    print(str(t_n)+\" steps completed\")"
   ]
  },
  {
   "cell_type": "code",
   "execution_count": 9,
   "id": "66a6a9b6",
   "metadata": {},
   "outputs": [
    {
     "data": {
      "image/png": "[encoded data removed]",
      "text/plain": [
       "<Figure size 432x288 with 1 Axes>"
      ]
     },
     "metadata": {
      "needs_background": "light"
     },
     "output_type": "display_data"
    }
   ],
   "source": [
    "# Now plot the comparison\n",
    "plt.plot(ts, probs_110_exact,linestyle=\"dashed\",color=\"black\",label=\"Exact\")\n",
    "for (i,t_n) in enumerate(t_steps):\n",
    "    plt.plot(ts, probs_110_trott[t_n],color=\"C\"+str(i),label=str(t_n)+\" steps\")\n",
    "plt.xlabel('time')\n",
    "plt.ylabel(r'probability of state $|110\\rangle$')\n",
    "plt.title(r'Trotterization comparison')\n",
    "plt.legend()\n",
    "plt.grid()\n",
    "plt.show()"
   ]
  },
  {
   "cell_type": "markdown",
   "id": "459d6d97",
   "metadata": {},
   "source": [
    "As we can see, four Trotter steps are not enough to correctly time evolve the target state to $t=\\pi$.\n",
    "As expected, increasing the number of Trotter steps we get closer and closer to the exact simulation.\n",
    "\n",
    "However, in the present form a single Trotter step requires 12 CNOTs, resulting 48 CNOTs for $n=4$ and 144 CNOTs for $n=12$, a circuit too deep for current hardware. This forces us to compress the greatest Trotterization accuracy into the shortest possible circuit, before even applying error mitigation techniques."
   ]
  },
  {
   "cell_type": "markdown",
   "id": "ed1da18d",
   "metadata": {},
   "source": [
    "### 2.2 Compress the Trotter step\n",
    "\n",
    "The first step is to reduce the number of gates required by a single Trotter step. \n",
    "To this point, a single Trotter step requires $12$ CNOTs.\n",
    "\n",
    "We can easily reduce it to $6$ using an optimal circuit for the $XX+YY+ZZ$ rotation presented in in Fig. 4b of [Quantum computers as universal quantum simulators: state-of-art and perspectives](https://arxiv.org/abs/1907.03505).\n",
    "\n",
    "With this decomposition, 4 Trotter steps on 3 qubits will now require 24 CNOTs instead of 48."
   ]
  },
  {
   "cell_type": "code",
   "execution_count": 21,
   "id": "52d7bc6f",
   "metadata": {},
   "outputs": [],
   "source": [
    "# From the same file as before, we import the compressed Trotterization of Fig. 4b of arXiv:1907.03505v2\n",
    "from trotter_functions import Heisenberg_Trotter_compressed"
   ]
  },
  {
   "cell_type": "code",
   "execution_count": 11,
   "id": "778708de",
   "metadata": {},
   "outputs": [
    {
     "data": {
      "image/png": "[encoded data removed]",
      "text/plain": [
       "<Figure size 1042.39x204.68 with 1 Axes>"
      ]
     },
     "execution_count": 11,
     "metadata": {},
     "output_type": "execute_result"
    }
   ],
   "source": [
    "## Ad an example of the new Trotter step\n",
    "\n",
    "compression_example = Heisenberg_Trotter_compressed(num_qubits=3,trotter_steps=1,p=t,target_time=np.pi/4)\n",
    "compression_example.decompose().decompose().draw(output='mpl')"
   ]
  },
  {
   "cell_type": "markdown",
   "id": "455bdaa1-343a-410f-a0a2-83dcaf8433f8",
   "metadata": {},
   "source": [
    "To show that the two decompositions are equivalent, let us simulate again the system with $4$ steps up to $t=\\pi$."
   ]
  },
  {
   "cell_type": "code",
   "execution_count": 12,
   "id": "00c0d01d",
   "metadata": {},
   "outputs": [],
   "source": [
    "probs_110_trott_c = []\n",
    "for sim_t in ts:\n",
    "    # Initialise the circuit\n",
    "    trott_qr_c = QuantumRegister(3)\n",
    "    trott_qc_c = QuantumCircuit(trott_qr_c)\n",
    "    trott_qc_c.x([1,2])\n",
    "    \n",
    "    # Append the Trotterization\n",
    "    trott_step_c = Heisenberg_Trotter_compressed(num_qubits=3,trotter_steps=4,p=t,target_time=sim_t).to_instruction()\n",
    "    trott_qc_c.append(trott_step_c, [trott_qr_c[0], trott_qr_c[1], trott_qr_c[2]])\n",
    "    \n",
    "    \n",
    "    trott_wfn_c = CircuitStateFn(trott_qc_c)\n",
    "    trott_ovp_c = np.abs((~initial_state@trott_wfn_c).eval())**2\n",
    "    probs_110_trott_c.append(trott_ovp_c)"
   ]
  },
  {
   "cell_type": "code",
   "execution_count": 13,
   "id": "59829c33",
   "metadata": {},
   "outputs": [
    {
     "data": {
      "image/png": "[encoded data removed]",
      "text/plain": [
       "<Figure size 432x288 with 1 Axes>"
      ]
     },
     "metadata": {
      "needs_background": "light"
     },
     "output_type": "display_data"
    }
   ],
   "source": [
    "## Now plot the exact simulation, the initial Trotter and the Trotter compressed\n",
    "plt.plot(ts, probs_110_exact,linestyle=\"dashed\",color=\"black\",label=\"Exact\")\n",
    "plt.plot(ts, probs_110_trott[4],color=\"C0\",label=\"Trotter\")\n",
    "plt.plot(ts, probs_110_trott_c,color=\"C1\",marker=\".\",linestyle=\"\",label=\"Trotter compressed\")\n",
    "plt.xlabel('time')\n",
    "plt.ylabel(r'probability of state $|110\\rangle$')\n",
    "plt.title(r'Compression comparison')\n",
    "plt.legend()\n",
    "plt.grid()\n",
    "plt.show()"
   ]
  },
  {
   "cell_type": "markdown",
   "id": "a38fee47-3c2a-4ae5-9f36-878c84c4243e",
   "metadata": {},
   "source": [
    "As can be seen, the two circuits give the exact same probability at all times!"
   ]
  },
  {
   "cell_type": "markdown",
   "id": "f838e575",
   "metadata": {},
   "source": [
    "### 2.3 Using the Yang - Baxter Equivalence (YBE) "
   ]
  },
  {
   "cell_type": "markdown",
   "id": "d341ddf5",
   "metadata": {},
   "source": [
    "The circuit now has 24 CNOTs which is already very good, though it can be compressed even further! To this end we will be using the [Yang-Baxter Equation](https://www.worldscientific.com/doi/epdf/10.1142/S0217751X89001503) (YBE) which has recently been used by [Gulania et. al](https://arxiv.org/abs/2112.01690) to compress the circuit for a Trotterized time evolution of the XY Heisenberg model. \n",
    "\n",
    "The YBE equation works in the following way:"
   ]
  },
  {
   "cell_type": "markdown",
   "id": "55ca75a7",
   "metadata": {},
   "source": [
    "![YBE](images/YBE.png)"
   ]
  },
  {
   "cell_type": "markdown",
   "id": "52aedfc7",
   "metadata": {},
   "source": [
    "$\\mathcal{R}$ is in our case one $XX+YY+ZZ$ rotation on a pair of qubits. The YBE tells us that we can mirror whenever we encounter three $\\mathcal{R}$ terms. Repeating this procedure allows to bring multiple $\\mathcal{R}$ onto the same pair of qubits, they can then be combined into a single rotation with a new rotational angle. In our case this allow us to propose a circuit with only $15$ CNOT gates instead of $24$. \n",
    "\n",
    "Unfortunately, the paper doesn't present an analytical relationship between the Trotter circuit and the YBE-compressed circuit rotational angles when considering the XXX Hamiltonian. It is however conjectured to generally exist for gates with such alternating pattern (see [Bassman et. al](https://arxiv.org/abs/2103.07429)).\n",
    "\n",
    "Since there is no known analytical expression for the new angles of the compressed circuit in our case, we propose to find them variationally.\n",
    "\n",
    "We want to highlight that we are not going to use these parameters in the final circuit.\n",
    "The aim of this section is to demonstrate that at every time $t$ a set of parameters can be found in order for the YBE circuit to be equivalent to the Trotter one. Even if the relationship is not known analitically, we find it variationally. "
   ]
  },
  {
   "cell_type": "code",
   "execution_count": 22,
   "id": "18e1df85",
   "metadata": {},
   "outputs": [],
   "source": [
    "# Import the YBE circuit \n",
    "from trotter_functions import Heisenberg_YBE_variational"
   ]
  },
  {
   "cell_type": "code",
   "execution_count": 15,
   "id": "ef95c61a",
   "metadata": {},
   "outputs": [
    {
     "data": {
      "image/png": "[encoded data removed]",
      "text/plain": [
       "<Figure size 1591.6x445.48 with 1 Axes>"
      ]
     },
     "execution_count": 15,
     "metadata": {},
     "output_type": "execute_result"
    }
   ],
   "source": [
    "# Here we show an example of the circuit\n",
    "example = Heisenberg_YBE_variational(3,ParameterVector('t',15))\n",
    "example.decompose().draw(output='mpl')"
   ]
  },
  {
   "cell_type": "markdown",
   "id": "8264e674",
   "metadata": {},
   "source": [
    "At every time $t$, we want the YBE circuit to be equivalent to the Trotter circuit with 4 steps.\n",
    "\n",
    "We will do so by using the compute-uncompute method, namely finding $\\theta_{t}$ that maximizes at every time $t$\n",
    "\n",
    "$$\n",
    "|\\langle \\psi_0 |U^{\\dagger}_{T}(t)U_{YBE}(\\theta_t) |\\psi_0\\rangle|^2 \\,\n",
    "$$\n",
    "\n",
    "where $U_{4T}(t)$ indicates the 4-steps Trotter-Suzuki circuit, $U_{YBE}(\\theta_t)$ is its compressed version with the Yang Baxter equation and $|\\psi_0\\rangle = |110\\rangle$.\n",
    "\n",
    "To this purpose, we need to create a method to compute this overlap and its gradient, then a method to update the parameters.\n",
    "\n",
    "We put these functions in...\n"
   ]
  },
  {
   "cell_type": "code",
   "execution_count": 16,
   "id": "ecbc2bb9",
   "metadata": {},
   "outputs": [],
   "source": [
    "from pVQD    import adam_gradient, projector_zero, ei"
   ]
  },
  {
   "cell_type": "code",
   "execution_count": 17,
   "id": "5e0843d5",
   "metadata": {},
   "outputs": [],
   "source": [
    "def ybe_overlap_and_gradient(right,state_wfn,parameters,expectator,sampler):\n",
    "\n",
    "    nparameters = len(parameters)\n",
    "    # build dictionary of parameters to values\n",
    "    # {left[0]: parameters[0], .. ., right[0]: parameters[0] + shift[0], ...}\n",
    "    # First create the dictionary for overlap\n",
    "    values_dict = [dict(zip(right[:], parameters.tolist()))]\n",
    "\n",
    "\n",
    "    # Then the values for the gradient\n",
    "    for i in range(nparameters):\n",
    "        values_dict.append(dict(zip(right[:] , (parameters  + ei(i,nparameters)*np.pi/2.0).tolist())))\n",
    "        values_dict.append(dict(zip(right[:] , (parameters  - ei(i,nparameters)*np.pi/2.0).tolist())))\n",
    "\n",
    "    # Now evaluate the circuits with the parameters assigned\n",
    "\n",
    "    results = []\n",
    "\n",
    "    for values in values_dict:\n",
    "        sampled_op = sampler.convert(state_wfn,params=values)\n",
    "\n",
    "        mean  = sampled_op.eval().real\n",
    "        est_err = 0\n",
    "\n",
    "        results.append([mean,est_err])\n",
    "    \n",
    "    E = np.zeros(2)\n",
    "    g = np.zeros((nparameters,2))\n",
    "\n",
    "    E[0],E[1] = results[0]\n",
    "\n",
    "    for i in range(nparameters):\n",
    "        rplus  = results[1+2*i]\n",
    "        rminus = results[2+2*i]\n",
    "        # G      = (Ep - Em)/2\n",
    "        # var(G) = var(Ep) * (dG/dEp)**2 + var(Em) * (dG/dEm)**2\n",
    "        g[i,:] = (rplus[0]-rminus[0])/2.0,np.sqrt(rplus[1]**2+rminus[1]**2)/2.0\n",
    "\n",
    "    return E,g"
   ]
  },
  {
   "cell_type": "code",
   "execution_count": 18,
   "id": "93f803ed",
   "metadata": {},
   "outputs": [],
   "source": [
    "## Define quantities for the optimization\n",
    "\n",
    "ybe_ts         = np.linspace(0, np.pi, 60)\n",
    "# For YBE circuit\n",
    "ybe_params_vec = ParameterVector('p',15)\n",
    "right          = ParameterVector('r', 15)\n",
    "ybe_parameters = np.zeros(15)\n",
    "num_parameters = len(ybe_parameters)\n",
    "# For Trotter circuit\n",
    "t              = Parameter(\"t\")\n",
    "\n",
    "# For the optimization\n",
    "opt_steps      = 600\n",
    "opt_ths        = 0.9999\n",
    "zero_prj       = StateFn(projector_zero(3),is_measurement = True)"
   ]
  },
  {
   "cell_type": "code",
   "execution_count": 19,
   "id": "93f4e5fc",
   "metadata": {},
   "outputs": [],
   "source": [
    "## How to run the circuit\n",
    "backend     = Aer.get_backend('statevector_simulator')\n",
    "instance    = QuantumInstance(backend=backend)\n",
    "expectation = PauliExpectation()\n",
    "sampler     = CircuitSampler(instance)"
   ]
  },
  {
   "cell_type": "code",
   "execution_count": null,
   "id": "9ec79d1a",
   "metadata": {
    "scrolled": true,
    "tags": []
   },
   "outputs": [],
   "source": [
    "ybe_params = []\n",
    "\n",
    "for (t_step,sim_t) in enumerate(ybe_ts):\n",
    "\n",
    "    print(\"Step: \"+str(t_step))\n",
    "    ## Create the optimization circuit\n",
    "    l_ansatz   = QuantumCircuit(3)\n",
    "    l_ansatz.x([1,2])\n",
    "    l_ansatz   = l_ansatz.compose(Heisenberg_Trotter_compressed(num_qubits=3,trotter_steps=4,p=t,target_time=sim_t))\n",
    "\n",
    "    r_ansatz   = Heisenberg_YBE_variational(3,ybe_params_vec)\n",
    "    r_circ     = r_ansatz.assign_parameters({ybe_params_vec: right})\n",
    "\n",
    "    total_circ = r_circ+l_ansatz.inverse()\n",
    "    state_wfn  = expectation.convert(zero_prj @ StateFn(total_circ))\n",
    "\n",
    "\n",
    "    # Initialise step-quantities\n",
    "    count          = 0\n",
    "    overlap        = [0.01,0]\n",
    "    max_ovp        = 0.01\n",
    "    new_parameters = ybe_parameters\n",
    "\n",
    "    # Initialise quantities for the Adam optimiser\n",
    "    m = np.zeros(num_parameters)\n",
    "    v = np.zeros(num_parameters)\n",
    "\n",
    "    while overlap[0] < opt_ths and count < opt_steps:\n",
    "        print(\"Optimizing step:\",count+1)\n",
    "        count = count +1 \n",
    "\n",
    "        ## Measure energy and gradient\n",
    "\n",
    "        E,g = ybe_overlap_and_gradient(right,state_wfn,new_parameters,expectation,sampler)\n",
    "\n",
    "        print('Overlap',E[0])\n",
    "        overlap = E\n",
    "\n",
    "\n",
    "        meas_grad = np.asarray(g[:,0])\n",
    "        new_parameters = np.asarray(adam_gradient(new_parameters,new_parameters,count,m,v,meas_grad))\n",
    "\n",
    "\n",
    "        if E[0] > max_ovp:\n",
    "            max_ovp        = E[0]\n",
    "            ybe_parameters = new_parameters\n",
    "    \n",
    "\n",
    "    ybe_params.append(list(ybe_parameters))\n",
    "    # Update parameters\n",
    "\n",
    "    print('\\n---------------------------------- \\n')\n",
    "    print(\"New overlap: \" ,max_ovp)"
   ]
  },
  {
   "cell_type": "markdown",
   "id": "ea1f95b5",
   "metadata": {},
   "source": [
    "Now that the optimization is finished, we want to compute the overlap with the target state at every time $t$:"
   ]
  },
  {
   "cell_type": "code",
   "execution_count": null,
   "id": "c07ccec4",
   "metadata": {},
   "outputs": [],
   "source": [
    "def ybe_probs_target(target,ybe_circ,param_list):\n",
    "\n",
    "    ovlp_list = []\n",
    "    \n",
    "    for params in param_list:\n",
    "        circ   = ybe_circ(3,params)\n",
    "        t_wfn  = CircuitStateFn(circ)\n",
    "        t_ovlp = np.abs((~target@t_wfn).eval())**2\n",
    "\n",
    "        ovlp_list.append(t_ovlp)\n",
    "\n",
    "    return ovlp_list"
   ]
  },
  {
   "cell_type": "code",
   "execution_count": null,
   "id": "e0fd4956",
   "metadata": {},
   "outputs": [],
   "source": [
    "probs_110_ybe  = ybe_probs_target(One^One^Zero,Heisenberg_YBE_variational,ybe_params)"
   ]
  },
  {
   "cell_type": "code",
   "execution_count": null,
   "id": "65dd6c26",
   "metadata": {},
   "outputs": [],
   "source": [
    "## Now plot the exact simulation, the Trotter compressed and the YBE equivalent\n",
    "plt.plot(ts, probs_110_exact,linestyle=\"dashed\",color=\"black\",label=\"Exact\")\n",
    "plt.plot(ts, probs_110_trott_c,color=\"C0\",label=\"Trotter compressed\")\n",
    "plt.plot(ybe_ts, probs_110_ybe,color=\"C1\",marker=\".\",linestyle=\"\",label=\"YBE compression\")\n",
    "plt.xlabel('time')\n",
    "plt.ylabel(r'probability of state $|110\\rangle$')\n",
    "plt.title(r'YBE comparison')\n",
    "plt.legend()\n",
    "plt.grid()\n",
    "plt.show()"
   ]
  },
  {
   "cell_type": "markdown",
   "id": "c4687e1e",
   "metadata": {},
   "source": [
    "As can be seen, at every time $t$ we are able to find a set of parameters that makes the YBE compressed circuit with $15$ equivalent to the $24$ CNOTs Trotter circuit.\n",
    "\n",
    "From this moment on, we will be using this circuit for the challenge."
   ]
  },
  {
   "cell_type": "markdown",
   "id": "9b7aa0dd",
   "metadata": {},
   "source": [
    "### 2.4 Qubit routing"
   ]
  },
  {
   "cell_type": "markdown",
   "id": "0eb477f8",
   "metadata": {},
   "source": [
    "\n",
    "Note, that due to the circuit compression there is now an unequal number of CNOT gates acting on the two pairs of qubits. \n",
    "We know that in the Jakarta hardware the error rates between qubit $3$ and $5$ are lower than between $1$ and $3$, \n",
    "we therefore chose to compress the circuit such that one more CNOT is acting on qubits $3$ and $5$ than on $1$ and $3$.\n",
    "\n",
    "![jakarta](images/jakarta.png)"
   ]
  },
  {
   "cell_type": "markdown",
   "id": "fed70138",
   "metadata": {},
   "source": [
    "### 2.5 Variational compression - the pVQD algorithm"
   ]
  },
  {
   "cell_type": "markdown",
   "id": "4c8913fd",
   "metadata": {},
   "source": [
    "![pvqd_sketch](images/pvqd_sketch.png)"
   ]
  },
  {
   "cell_type": "markdown",
   "id": "615efdab",
   "metadata": {},
   "source": [
    "We showed that the YBE circuit is equivalent to the Trotter circuit with 4 Trotter steps.\n",
    "For this reason, we will have the same accuracy.\n",
    "\n",
    "We want to compress more Trotter steps into the same circuit, in order to gain accuracy without adding noise due to gate error rates. This can be done by using the pVQD algorithm optimize them.\n",
    "\n",
    "We highlight that we are not modifying the circuit, instead we are optimizing the same gates in order to make the circuit contain a more accurate state."
   ]
  },
  {
   "cell_type": "code",
   "execution_count": null,
   "id": "a24b5c6a",
   "metadata": {},
   "outputs": [],
   "source": [
    "def pvqd_overlap_and_gradient(left,right,state_wfn,parameters,shift,expectator,sampler):\n",
    "\n",
    "\tnparameters = len(parameters)\n",
    "\t# build dictionary of parameters to values\n",
    "\t# {left[0]: parameters[0], .. ., right[0]: parameters[0] + shift[0], ...}\n",
    "\t# First create the dictionary for overlap\n",
    "\tvalues_dict = [dict(zip(right[:] + left[:], parameters.tolist() + (parameters + shift).tolist()))]\n",
    "\t\t\n",
    "\n",
    "\t# Then the values for the gradient\n",
    "\tfor i in range(nparameters):\n",
    "\t\tvalues_dict.append(dict(zip(right[:] + left[:], parameters.tolist() + (parameters + shift + ei(i,nparameters)*np.pi/2.0).tolist())))\n",
    "\t\tvalues_dict.append(dict(zip(right[:] + left[:], parameters.tolist() + (parameters + shift - ei(i,nparameters)*np.pi/2.0).tolist())))\n",
    "\n",
    "\t# Now evaluate the circuits with the parameters assigned\n",
    "\n",
    "\tresults = []\n",
    "\n",
    "\tfor values in values_dict:\n",
    "\t\tsampled_op = sampler.convert(state_wfn,params=values)\n",
    "\n",
    "\t\tmean  = sampled_op.eval().real\n",
    "\t\test_err = 0\n",
    "\n",
    "\t\tresults.append([mean,est_err])\n",
    "\n",
    "\tE = np.zeros(2)\n",
    "\tg = np.zeros((nparameters,2))\n",
    "\n",
    "\tE[0],E[1] = results[0]\n",
    "\n",
    "\tfor i in range(nparameters):\n",
    "\t\trplus  = results[1+2*i]\n",
    "\t\trminus = results[2+2*i]\n",
    "\t\t# G      = (Ep - Em)/2\n",
    "\t\t# var(G) = var(Ep) * (dG/dEp)**2 + var(Em) * (dG/dEm)**2\n",
    "\t\tg[i,:] = (rplus[0]-rminus[0])/2.0,np.sqrt(rplus[1]**2+rminus[1]**2)/2.0\n",
    "\n",
    "\treturn E,g "
   ]
  },
  {
   "cell_type": "markdown",
   "id": "9750cd50",
   "metadata": {},
   "source": [
    "Since we have $3$ rotations depending on $t$ for every compressed gate, this will result in a total of 15 parameters to optimize"
   ]
  },
  {
   "cell_type": "code",
   "execution_count": null,
   "id": "b60bb47d",
   "metadata": {
    "scrolled": true
   },
   "outputs": [],
   "source": [
    "# Here we put the optimization loop of the pVQD algorithm\n",
    "backend       = Aer.get_backend('statevector_simulator')\n",
    "instance      = QuantumInstance(backend=backend)\n",
    "num_qubits    = 3\n",
    "\n",
    "parameters    = np.zeros(15)\n",
    "shift         = 0.01*np.ones(15)\n",
    "params_vec    = ParameterVector('p',len(parameters))\n",
    "\n",
    "\n",
    "dt            = np.pi/60\n",
    "max_iter      = 100\n",
    "n_steps       = 60\n",
    "ths           = 0.9999\n",
    "\n",
    "\n",
    "\n",
    "## Initialize quantities that will be equal all over the calculation\n",
    "num_parameters = len(parameters)\n",
    "# ParameterVector for left and right circuit\n",
    "\n",
    "left  = ParameterVector('l', num_parameters)\n",
    "right = ParameterVector('r', num_parameters)\n",
    "\n",
    "\n",
    "## initialize useful quantities once\n",
    "expectation = PauliExpectation()\n",
    "sampler     = CircuitSampler(instance)\n",
    "\n",
    "## Now prepare the state in order to compute the overlap and its gradient\n",
    "# First use a single compressed Trotter step\n",
    "U_dt      = Heisenberg_Trotter_compressed(num_qubits,1,t,dt)\n",
    "ansatz    = Heisenberg_YBE_variational(num_qubits,params_vec)\n",
    "\n",
    "# Then, create the total circuit\n",
    "\n",
    "l_circ     = ansatz.assign_parameters({params_vec: left})\n",
    "r_circ     = ansatz.assign_parameters({params_vec: right})\n",
    "zero_prj   = StateFn(projector_zero(U_dt.num_qubits),is_measurement = True)\n",
    "total_circ = r_circ.compose(U_dt)+l_circ.inverse()\n",
    "state_wfn  = expectation.convert(zero_prj @ StateFn(total_circ))\n",
    "\n",
    "#######################################################"
   ]
  },
  {
   "cell_type": "code",
   "execution_count": null,
   "id": "7ebbcd88",
   "metadata": {},
   "outputs": [],
   "source": [
    "times = [i*dt for i in range(n_steps+1)]\n",
    "tot_steps= 0\n",
    "print(\"Running the algorithm\")\n",
    "\n",
    "pvqd_params = []\n",
    "pvqd_params.append(list(parameters))\n",
    "\n",
    "\n",
    "for i in range(n_steps):\n",
    "\n",
    "    print('\\n================================== \\n')\n",
    "    print(\"Time slice:\",i+1)\n",
    "    print(\"Shift before optimizing this step:\",shift)\n",
    "    print(\"Initial parameters:\", parameters)\n",
    "    print('\\n================================== \\n')\n",
    "\n",
    "    count = 0\n",
    "    overlap = [0.01,0]\n",
    "\n",
    "    # Initialise quantities for the Adam optimiser\n",
    "    m = np.zeros(num_parameters)\n",
    "    v = np.zeros(num_parameters)\n",
    "\n",
    "\n",
    "    while overlap[0] < ths and count < max_iter:\n",
    "        print(\"Shift optimizing step:\",count+1)\n",
    "        count = count +1 \n",
    "\n",
    "        ## Measure energy and gradient\n",
    "\n",
    "        E,g = pvqd_overlap_and_gradient(left,right,state_wfn,parameters,shift,expectation,sampler)\n",
    "        tot_steps = tot_steps+1\n",
    "\n",
    "\n",
    "        print('Overlap',E[0])\n",
    "        overlap = E\n",
    "        #print('Gradient',g[:,0])\n",
    "\n",
    "\n",
    "        meas_grad = np.asarray(g[:,0])\n",
    "        shift = np.asarray(adam_gradient(parameters,shift,count,m,v,meas_grad))\n",
    "\n",
    "\n",
    "    # Update parameters\n",
    "\n",
    "    print('\\n---------------------------------- \\n')\n",
    "\n",
    "    print(\"Shift after optimizing:\",shift)\n",
    "    print(\"New parameters:\"        ,parameters + shift)\n",
    "    print(\"New overlap: \"          ,E[0])\n",
    "\n",
    "    parameters = parameters + shift\n",
    "    pvqd_params.append(list(parameters))"
   ]
  },
  {
   "cell_type": "markdown",
   "id": "bb1ddeaa",
   "metadata": {},
   "source": [
    "From the pVQD routine we get a list of parameters sets.\n",
    "\n",
    "What we are interested in is the last set of parameters, corresponding to the evolution of the wavefunction at the final time $t=\\pi$.\n",
    "\n",
    "For completeness, we will also plot the probability of geting $|110\\rangle$ throught the overall evolution."
   ]
  },
  {
   "cell_type": "code",
   "execution_count": null,
   "id": "dc54a1e7",
   "metadata": {},
   "outputs": [],
   "source": [
    "def pvqd_probs_target(target,ansatz,param_list):\n",
    "\n",
    "    ovp_list = []\n",
    "    \n",
    "    for params in param_list:\n",
    "        circ  = ansatz(3,params)\n",
    "        t_wfn = CircuitStateFn(circ)\n",
    "        t_ovp = np.abs((~target@t_wfn).eval())**2\n",
    "\n",
    "        ovp_list.append(t_ovp)\n",
    "\n",
    "    return ovp_list"
   ]
  },
  {
   "cell_type": "code",
   "execution_count": null,
   "id": "80c4359e",
   "metadata": {},
   "outputs": [],
   "source": [
    "probs_110_pvqd   = ybe_probs_target(One^One^Zero,Heisenberg_YBE_variational,pvqd_params)"
   ]
  },
  {
   "cell_type": "code",
   "execution_count": null,
   "id": "faafcaf6",
   "metadata": {},
   "outputs": [],
   "source": [
    "plt.plot(ts, probs_110_exact,linestyle=\"dashed\",color=\"black\",label=\"Exact\")\n",
    "plt.plot(times,probs_110_pvqd,label=\"pVQD\",marker=\".\",color=\"C0\")\n",
    "for (i,t_n) in enumerate(t_steps):\n",
    "    plt.plot(ts, probs_110_trott[t_n],color=\"C\"+str(i+1),label=str(t_n)+\" steps\",linewidth=2,linestyle=\"dotted\")\n",
    "\n",
    "plt.xlabel('time')\n",
    "plt.ylabel(r'probability of state $|110\\rangle$')\n",
    "#plt.title(r'pVQD performance')\n",
    "plt.legend(loc=\"upper center\",bbox_to_anchor=(0.5, 1.35),ncol=3,fancybox=True)\n",
    "plt.grid()\n",
    "plt.show()"
   ]
  },
  {
   "cell_type": "markdown",
   "id": "70f31790",
   "metadata": {},
   "source": [
    "As can be seen, we have an improvement through the whole simulation, not just for the final state.\n",
    "At $t \\sim 1.5$ the Trotter approximation with $4$ steps starts detaching from the exact simulation, while the pVQD stay closer, with performances comparable to the 12 steps approximation.\n",
    "\n",
    "We highlight that this technique is completely general: given a Trotter step $U(dt)$ we can compress its repeated application into a variational circuit of choice.\n",
    "\n",
    "Moreover, this technique can also be performed entirely on hardware, as shown in [this article](https://arxiv.org/pdf/2112.12654.pdf)."
   ]
  },
  {
   "cell_type": "code",
   "execution_count": null,
   "id": "c1b94732",
   "metadata": {},
   "outputs": [],
   "source": [
    "#Here we show the parameters that we are going to use \n",
    "pvqd_opt_params = pvqd_params[-1]\n",
    "pvqd_opt_params"
   ]
  },
  {
   "cell_type": "markdown",
   "id": "7aaa4c2b",
   "metadata": {},
   "source": [
    "# 3- Final Implementation"
   ]
  },
  {
   "cell_type": "markdown",
   "id": "1eac92d7",
   "metadata": {},
   "source": [
    "## 3.1 Error mitigation"
   ]
  },
  {
   "cell_type": "markdown",
   "id": "3795d55d",
   "metadata": {},
   "source": [
    "To optimize the results that are obtained with the current noise level on quantum computers we will use two different strategies for error mitgation. The general idea for error mitigation is to try to estimate what the output of the quantum computer would be with a smaller noise level. For this there already exists a plethora of different strategies, though it is still a very active field of research. For our purposes we will two different simple strategies to vastly improve the final fidelity that is obtained in the tomography. "
   ]
  },
  {
   "cell_type": "markdown",
   "id": "ed8ba5ec",
   "metadata": {},
   "source": [
    "### 3.1.1 Zero Noise Extrapolation"
   ]
  },
  {
   "cell_type": "markdown",
   "id": "dd9b01a3-b1be-4da3-a46c-8f920b949847",
   "metadata": {},
   "source": [
    "Zero Noise Extrapolation (ZNE) is a common tool to estimate what the output would be on a quantum computer without any noise. To do this, the circuit depth is extended by unfolding gates, $G \\rightarrow G G^\\dagger G$, so in essence simply inserting the identity. The circuit remains the same this way (since $G^\\dagger G = I$), though the noise level is increased. This way we can obtain results for different noise levels and extrapolate to the ideal, zero noise case. This prodecure is readily implemented in [mitiq](https://mitiq.readthedocs.io/en/stable/from). In particular, we will unfold the circuit a total of 5 times and extrapolate the noise level to zero by fitting the counts that are obtained in the tomography to a third order polynomial. Written out as an equation we roughly have $\\text{counts}(x)=a+bx+cx^2+dx^3$, where $x$ is the noise level that is controlled by the number of unfoldings that are used. Once the paramters $a$, $b$ ,$c$ and $d$ are fitted, the expression is evalutated for the zero noise level ($x=0$). Which is then the counts that we use for the fidelity estimation. "
   ]
  },
  {
   "cell_type": "code",
   "execution_count": 23,
   "id": "193366b2",
   "metadata": {},
   "outputs": [],
   "source": [
    "## Mitiq import and helper functions\n",
    "import re\n",
    "import copy\n",
    "from mitiq import zne\n",
    "from itertools import chain\n",
    "from qiskit.result import Result\n",
    "from qiskit.result.models import ExperimentResult\n",
    "from qiskit.result.models import ExperimentResultData\n",
    "from qiskit.result.models import QobjExperimentHeader"
   ]
  },
  {
   "cell_type": "code",
   "execution_count": 39,
   "id": "f3f4228a",
   "metadata": {},
   "outputs": [],
   "source": [
    "# We use a total of 5 unfolds\n",
    "scale_factors = [1.0, 2.0, 3.0, 4.0, 5.0]"
   ]
  },
  {
   "cell_type": "code",
   "execution_count": 43,
   "id": "14029bc5",
   "metadata": {},
   "outputs": [],
   "source": [
    "def zne_job_launch(tomo_circs, backend, optimization_level, shots, scale_factors):\n",
    "\n",
    "    # This function executes the tomography circuits on hardware with unrolled gates to increase the noise level\n",
    "    noise_scaled_circuits = [[zne.scaling.fold_global(circ, s) for s in scale_factors] for circ in tomo_circs] \n",
    "    noise_scaled_circuits = list(chain(*noise_scaled_circuits)) \n",
    "    \n",
    "    job = execute(noise_scaled_circuits, backend=backend, optimization_level=optimization_level, shots=shots)\n",
    "    job_id = job.job_id()\n",
    "\n",
    "    print(\"JOB \"+str(job_id)+\" SUBMITTED\")\n",
    "    \n",
    "    return str(job_id)"
   ]
  },
  {
   "cell_type": "code",
   "execution_count": 41,
   "id": "061b2205",
   "metadata": {},
   "outputs": [],
   "source": [
    "def zne_results_collect_nofile(backend, jobid, tomo_circs, zne_order, shots, scale_factors):\n",
    "\n",
    "    # This function runs the tomography circuits and unrolls the gates to increase the noise level\n",
    "    # The counts that are obtained for the differnt noise levels are then extrapolated to the zero-noise level\n",
    "    \n",
    "    job = backend.retrieve_job(jobid) \n",
    "    result = job.result()\n",
    "    \n",
    "    count_list = result.get_counts()\n",
    "    ordered_bitstrings = dict(sorted(count_list[0].items()))\n",
    "    \n",
    "    zne_result_list = []\n",
    "\n",
    "    for i in range(len(tomo_circs)):\n",
    "        counts_dict = {}\n",
    "\n",
    "        # Loop over the results of the scaled circuits and collect the data in the correct form\n",
    "        for key in ordered_bitstrings.keys():\n",
    "            counts_list_zne = []\n",
    "            for count in count_list[i*len(scale_factors):len(scale_factors)*(i+1)]:\n",
    "                counts_list_zne.append(count[key])\n",
    "            # Here we extrapolate the counts to zero noise and round to the closest integer\n",
    "            zne_counts_value = int(zne.PolyFactory.extrapolate(scale_factors, counts_list_zne, order=zne_order)) \n",
    "            if zne_counts_value < 0:\n",
    "                zne_counts_value = 0\n",
    "            counts_dict[key] = zne_counts_value\n",
    "        zne_result_list.append(counts_dict)\n",
    "        \n",
    "    # To work with the StateTomographyFitter we need to put the result into a Qiskit Result() object\n",
    "    name_list = [circ.name for circ in tomo_circs]\n",
    "    results_tmp = [[ExperimentResult(shots=shots, success=True, data=ExperimentResultData(counts=result_i), header=QobjExperimentHeader(name=name_i))] for (name_i, result_i) in zip(name_list, zne_result_list)]\n",
    "    results = [Result(backend_name=\"zne\", backend_version=\"zne\", qobj_id='0', job_id='0', success=True, results=result_i) for result_i in results_tmp]\n",
    "\n",
    "    return results, tomo_circs"
   ]
  },
  {
   "cell_type": "markdown",
   "id": "5635e163",
   "metadata": {},
   "source": [
    "### 3.1.2 Removal of unphysical bitstrings"
   ]
  },
  {
   "cell_type": "markdown",
   "id": "a2e388b5",
   "metadata": {},
   "source": [
    "There is one last error mitigation that we will use to further improve our results. In particular, we know that for the Heisenberg model $H_{\\text{Heis}}$ the magnetization $M=\\sum_i \\sigma_i^z$ is a conserved quantity. This can be seen from the fact that it commutes with the Hamiltonian $[H_{\\text{Heis}}, M]=0$. The initial state $|110\\rangle$ that we time evolve has a magnetization of $M=2$ since two spins are in the $1$ state. The magnetization $M$ thus has to be conserved during our time evolution. This allows us to remove some unphysical bitstrings that are obtained due to hardware noise in the tomography. In the state tomography local basis changes are performed to obtain the counts in the $x$, $y$ and $z$-basis. There are two types of circuits for which we can remove unphysical bitstrings. Namely, the one where all qubits are measured in the $z$ basis and the ones where two qubits are measured in the $z$-basis. For the first we know that bitstrings with either all qubits in the $1$ state or all qubits in the $0$ state are unphysical since they give a magnetization of $3$ and $0$, respectively. For the second circuit type we know that for both the qubits that are measured in the $z$-basis the qubits cannot both be in the $0$ state since the remaining qubit that is measured in a different basis, regardless of its state, is not enough to obtain a total magnetization of $2$. In total there are 7 circuits for which we can set uphysical counts to zero."
   ]
  },
  {
   "cell_type": "code",
   "execution_count": 42,
   "id": "926fc4a5",
   "metadata": {},
   "outputs": [],
   "source": [
    "def remove_unphysical_bitstrings(result):\n",
    "\n",
    "    # This function loops over the result that is obtained from the tomography \n",
    "    # and removes the bitstrings that violate the conservation of the magnetization\n",
    "    result_new = copy.copy(result)\n",
    "    for i in range(len(result_new)):\n",
    "        name = result_new[i].results[0].header.name\n",
    "        res = \"\".join(re.findall(\"[XYZ]+\", name))\n",
    "        res_2 = \"\".join(re.findall(\"[Z]+\", res))\n",
    "        \n",
    "        # Set unphysical bitstrings to zero if all qubits are measured in the z-basis\n",
    "        if len(res_2) == 3:\n",
    "            bitstring_1 = res.replace('Z', '0')\n",
    "            bitstring_2 = res.replace('Z', '1')\n",
    "            result_new[i].results[0].data.counts[bitstring_1] = 0\n",
    "            result_new[i].results[0].data.counts[bitstring_2] = 0\n",
    "\n",
    "         # Set unphysical bitstrings to zero if two qubits (out of three) are measured in the z-basis\n",
    "        if len(res_2) == 2:    \n",
    "            bitstring = res.replace('Z', '0')\n",
    "            bitstring_1 = bitstring.replace('X', '0')\n",
    "            bitstring_1 = bitstring_1.replace('Y', '0')\n",
    "            bitstring_2 = bitstring.replace('X', '1')\n",
    "            bitstring_2 = bitstring_2.replace('Y', '1')\n",
    "            result_new[i].results[0].data.counts[bitstring_1] = 0\n",
    "            result_new[i].results[0].data.counts[bitstring_2] = 0\n",
    "\n",
    "    return result_new"
   ]
  },
  {
   "cell_type": "markdown",
   "id": "41343a90",
   "metadata": {},
   "source": [
    "## 3.2 Execution on hardware"
   ]
  },
  {
   "cell_type": "code",
   "execution_count": 26,
   "id": "2ff485b6",
   "metadata": {},
   "outputs": [],
   "source": [
    "pvqd_opt_params = [0.6382017062070897,\n",
    "0.5999999987484098,\n",
    "0.6382017062066773,\n",
    "3.0088034895496003,\n",
    "-3.0869200336945677,\n",
    "0.4709531470409451,\n",
    "2.163149581322057,\n",
    "3.480816125849344,\n",
    "-2.0741264452466974,\n",
    "1.2330206913091548,\n",
    "3.1275100711382064,\n",
    "1.593744340473751,\n",
    "6.107319841483039,\n",
    "3.0177717815840808,\n",
    "-3.24901805128811]"
   ]
  },
  {
   "cell_type": "code",
   "execution_count": 27,
   "id": "0532584d",
   "metadata": {},
   "outputs": [
    {
     "data": {
      "text/plain": [
       "<qiskit.circuit.instructionset.InstructionSet at 0x7f8e237cedf0>"
      ]
     },
     "execution_count": 27,
     "metadata": {},
     "output_type": "execute_result"
    }
   ],
   "source": [
    "# Define the final circuit that is used to compute the fidelity \n",
    "fqr = QuantumRegister(7)\n",
    "fqc = QuantumCircuit(fqr)\n",
    "#fqc.rx(np.pi, [3, 5]) # Cannot use X gate due to a bug in mitq, rx(pi) does the same thing\n",
    "fqc.id([0, 1, 2, 4, 6]) # Need to put identities since mitq cannot handle unused qubits\n",
    "fqc.append(Heisenberg_YBE_variational(3,pvqd_opt_params), [fqr[1], fqr[3], fqr[5]])"
   ]
  },
  {
   "cell_type": "code",
   "execution_count": 28,
   "id": "5fc5bf9e",
   "metadata": {},
   "outputs": [
    {
     "data": {
      "image/png": "[encoded data removed]",
      "text/plain": [
       "<Figure size 1604.58x927.08 with 1 Axes>"
      ]
     },
     "execution_count": 28,
     "metadata": {},
     "output_type": "execute_result"
    }
   ],
   "source": [
    "#fc = final_circ(ybe_optimal)\n",
    "fqc.decompose().draw(output=\"mpl\")"
   ]
  },
  {
   "cell_type": "code",
   "execution_count": 47,
   "id": "14a457c5-1df6-4994-a843-ef627af5f5d4",
   "metadata": {},
   "outputs": [],
   "source": [
    "## Import functions that are needed for the tomography\n",
    "from qiskit.ignis.verification.tomography import state_tomography_circuits, StateTomographyFitter\n",
    "from qiskit.quantum_info                  import state_fidelity"
   ]
  },
  {
   "cell_type": "code",
   "execution_count": 48,
   "id": "70c83ae5-ee16-4288-8d05-b1328c5a70dd",
   "metadata": {},
   "outputs": [
    {
     "name": "stderr",
     "output_type": "stream",
     "text": [
      "ibmqfactory.load_account:WARNING:2022-04-05 09:59:36,881: Credentials are already in use. The existing account in the session will be replaced.\n"
     ]
    }
   ],
   "source": [
    "provider = IBMQ.load_account()"
   ]
  },
  {
   "cell_type": "code",
   "execution_count": 49,
   "id": "04cc9192",
   "metadata": {},
   "outputs": [],
   "source": [
    "provider = IBMQ.get_provider(hub='ibm-q-community', group='ibmquantumawards', project='open-science-22')\n",
    "jakarta = provider.get_backend('ibmq_jakarta')\n",
    "# Simulated backend based on ibmq_jakarta's device noise profile\n",
    "#sim_noisy_jakarta = QasmSimulator.from_backend(provider.get_backend('ibmq_jakarta'))"
   ]
  },
  {
   "cell_type": "code",
   "execution_count": 50,
   "id": "effc6815-14bf-4a4b-b3d8-ea44702670c5",
   "metadata": {},
   "outputs": [],
   "source": [
    "# Setting all the parameters that are need\n",
    "shots = 8192\n",
    "backend = jakarta"
   ]
  },
  {
   "cell_type": "code",
   "execution_count": 34,
   "id": "f2619fcf",
   "metadata": {},
   "outputs": [],
   "source": [
    "# Create the tomography circuits\n",
    "st_qcs = state_tomography_circuits(fqc.decompose(), [fqr[1], fqr[3], fqr[5]])"
   ]
  },
  {
   "cell_type": "markdown",
   "id": "49570bc4",
   "metadata": {},
   "source": [
    "## 3.2.1 Submit jobs "
   ]
  },
  {
   "cell_type": "code",
   "execution_count": 60,
   "id": "851f6ca5",
   "metadata": {},
   "outputs": [
    {
     "name": "stdout",
     "output_type": "stream",
     "text": [
      "\n",
      " REPETITION 1\n",
      "\n",
      "JOB 624bf80372af3f1d39ca58a6 SUBMITTED\n",
      "\n",
      " REPETITION 2\n",
      "\n",
      "JOB 624bf82e72af3f0c47ca58a8 SUBMITTED\n",
      "\n",
      " REPETITION 3\n",
      "\n",
      "JOB 624bf86172af3f7de7ca58a9 SUBMITTED\n",
      "\n",
      " REPETITION 4\n",
      "\n",
      "JOB 624bf8a843644d4410949334 SUBMITTED\n",
      "\n",
      " REPETITION 5\n",
      "\n",
      "JOB 624bf8e843644d7e94949336 SUBMITTED\n",
      "\n",
      " REPETITION 6\n",
      "\n",
      "JOB 624bf92b72af3f55c2ca58ad SUBMITTED\n",
      "\n",
      " REPETITION 7\n",
      "\n",
      "JOB 624bf962be0ba32789f12f17 SUBMITTED\n",
      "\n",
      " REPETITION 8\n",
      "\n",
      "JOB 624bf99043644df49094933c SUBMITTED\n"
     ]
    }
   ],
   "source": [
    "# Repeat fidelity measurement\n",
    "reps = 8 \n",
    "job_id_list = []\n",
    "    \n",
    "# Now launch the jobs\n",
    "for count in range(reps):\n",
    "    print(\"\\n REPETITION \"+str(count+1)+\"\\n\")\n",
    "    zne_job_id = zne_job_launch(st_qcs, backend=backend, optimization_level=0, shots=shots, scale_factors=scale_factors)\n",
    "    job_id_list.append(zne_job_id)"
   ]
  },
  {
   "cell_type": "code",
   "execution_count": 61,
   "id": "b69a679d",
   "metadata": {},
   "outputs": [
    {
     "data": {
      "text/plain": [
       "['624bf80372af3f1d39ca58a6',\n",
       " '624bf82e72af3f0c47ca58a8',\n",
       " '624bf86172af3f7de7ca58a9',\n",
       " '624bf8a843644d4410949334',\n",
       " '624bf8e843644d7e94949336',\n",
       " '624bf92b72af3f55c2ca58ad',\n",
       " '624bf962be0ba32789f12f17',\n",
       " '624bf99043644df49094933c']"
      ]
     },
     "execution_count": 61,
     "metadata": {},
     "output_type": "execute_result"
    }
   ],
   "source": [
    "job_id_list"
   ]
  },
  {
   "cell_type": "code",
   "execution_count": 53,
   "id": "06b15a40",
   "metadata": {},
   "outputs": [],
   "source": [
    "# For convenience we provide the job ids we obtained for a previous run on hardware,\n",
    "# the needs to be updated if the fidelity measurement is repeated again\n",
    "job_id_list = ['623f2b1ed97bffed4c69508b',\n",
    "'623f2b3f0af65dbf3dd93d91',\n",
    "'623f2b60d97bff7ce369508f',\n",
    "'623f2b8219e6894babc81713',\n",
    "'623f2ba309995c2ba64932af',\n",
    "'623f2bc374de0ec93f85b846',\n",
    "'623f2be4d97bff59ad695094',\n",
    "'623f2c058293e94ac21e66d4']"
   ]
  },
  {
   "cell_type": "markdown",
   "id": "90c82d84",
   "metadata": {},
   "source": [
    "## 3.2.2 Collect results and compute fidelity"
   ]
  },
  {
   "cell_type": "code",
   "execution_count": 54,
   "id": "77d65df4",
   "metadata": {},
   "outputs": [],
   "source": [
    "# Compute the state tomography based on the st_qcs quantum circuits and the results from those ciricuits\n",
    "def state_tomo(result, st_qcs):\n",
    "    # The expected final state; necessary to determine state tomography fidelity\n",
    "    target_state = (One^One^Zero).to_matrix()  # DO NOT MODIFY (|q_5,q_3,q_1> = |110>)\n",
    "    # Fit state tomography results\n",
    "    tomo_fitter = StateTomographyFitter(result, st_qcs)\n",
    "    rho_fit = tomo_fitter.fit(method='lstsq')\n",
    "    # Compute fidelity\n",
    "    fid = state_fidelity(rho_fit, target_state)\n",
    "    return fid"
   ]
  },
  {
   "cell_type": "code",
   "execution_count": 56,
   "id": "c8d1753f-32ba-4faa-98ef-238f06f163a0",
   "metadata": {},
   "outputs": [],
   "source": [
    "ibmq_fids = []\n",
    "\n",
    "# Loop over the 8 fidelity measurements, perform error mitigation on the counts \n",
    "# and compute the fidelity for every experiment\n",
    "for job in job_id_list:\n",
    "    zne_res, zne_circs = zne_results_collect_nofile(backend=backend,jobid=job,tomo_circs=st_qcs, zne_order=3, shots=shots, scale_factors=scale_factors)\n",
    "    zne_res_physical = remove_unphysical_bitstrings(zne_res)\n",
    "    ibmq_fids.append(state_tomo(zne_res_physical, zne_circs))"
   ]
  },
  {
   "cell_type": "code",
   "execution_count": 57,
   "id": "038e6753-9e25-4609-8c86-07e5a55e4dcf",
   "metadata": {},
   "outputs": [
    {
     "name": "stdout",
     "output_type": "stream",
     "text": [
      "state tomography fidelity = 0.8822 ± 0.0197\n"
     ]
    }
   ],
   "source": [
    "## Print the final result\n",
    "print('state tomography fidelity = {:.4f} \\u00B1 {:.4f}'.format(np.mean(ibmq_fids), np.std(ibmq_fids)))"
   ]
  },
  {
   "cell_type": "code",
   "execution_count": null,
   "id": "dceb0102",
   "metadata": {},
   "outputs": [],
   "source": []
  }
 ],
 "metadata": {
  "kernelspec": {
   "display_name": "Python 3",
   "language": "python",
   "name": "python3"
  },
  "language_info": {
   "codemirror_mode": {
    "name": "ipython",
    "version": 3
   },
   "file_extension": ".py",
   "mimetype": "text/x-python",
   "name": "python",
   "nbconvert_exporter": "python",
   "pygments_lexer": "ipython3",
   "version": "3.8.8"
  }
 },
 "nbformat": 4,
 "nbformat_minor": 5
}
