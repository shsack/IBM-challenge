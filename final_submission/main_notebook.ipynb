{
 "cells": [
  {
   "cell_type": "markdown",
   "id": "b78ff277",
   "metadata": {},
   "source": [
    "![jakarta](images/banner.png)"
   ]
  },
  {
   "cell_type": "markdown",
   "id": "2d79f811-56d9-453a-bd2b-1dc6c6bfc014",
   "metadata": {},
   "source": [
    "## Group \n",
    "<i ><font size=\"+1\">Stefan Sack, Stefano Barison</font></i>"
   ]
  },
  {
   "cell_type": "markdown",
   "id": "3425aace",
   "metadata": {},
   "source": [
    "## Category\n",
    "<font size=\"+1\">Qiskit Default</font>"
   ]
  },
  {
   "cell_type": "markdown",
   "id": "cb41e11d",
   "metadata": {},
   "source": [
    "## Table of Contents\n",
    "* [1 Introduction](#1---introduction)\n",
    "    * [1.1 Classical simulation](#11---classical-simulation)\n",
    "* [2 Solution proposal](#2--solution-proposal)\n",
    "    * [2.1 Trotterization comparison](#21---trotterization-comparison)\n",
    "    * [2.2 Circuit compression](#22-circuit-compression)\n",
    "        * [2.2.1 Compression of Trotter step](#221-compression-of-trotter-step)\n",
    "        * [2.2.2 Yang - Baxter Equivalence (YBE)](#222yang---baxter-equivalence-ybe)\n",
    "    * [2.3 Projected Variational Quantum Dynamics (pVQD)](#23-projected-variational-quantum-dynamics-pvqd)\n",
    "    * [2.4 Error mitigation](#24-error-mitigation)\n",
    "        * [2.4.1 Qubit routing](#241--qubit-routing)\n",
    "        * [2.4.2 Zero Noise Extrapolation (ZNE)](#242-zero-noise-extrapolation-zne)\n",
    "        * [2.4.3 Removal of unphysical bitstrings](#243-removal-of-unphysical-bitstrings)\n",
    "* [3 Execution](#3-execution)\n",
    "    * [3.1 On noisy simulator](#31-noisy-simulator)\n",
    "        * [3.1.1 Submit jobs](#311-submit-jobs)\n",
    "        * [3.1.2 Collect results and compute fidelity](#312-collect-results-and-compute-fidelity)\n",
    "    * [3.2 On hardware](#32-hardware)\n",
    "        * [3.2.1 Submit jobs](#321-submit-jobs)\n",
    "        * [3.2.2 Collect results and compute fidelity](#322-collect-results-and-compute-fidelity)"
   ]
  },
  {
   "cell_type": "markdown",
   "id": "ddc7921f",
   "metadata": {},
   "source": [
    "## Notebook styling"
   ]
  },
  {
   "cell_type": "code",
   "execution_count": 1,
   "id": "94f2abfb",
   "metadata": {},
   "outputs": [
    {
     "data": {
      "text/html": [
       "<style>\n",
       ".output_png {\n",
       "    display: table-cell;\n",
       "    text-align: center;\n",
       "    vertical-align: middle;\n",
       "}\n",
       "\n",
       "h1 {\n",
       "    color: #3A5FBC;\n",
       "}\n",
       "\n",
       "h2 {\n",
       "    color: #3A5FBC;\n",
       "    font-weight:700;\n",
       "    font-size: 35px;\n",
       "}\n",
       "\n",
       "h3 {\n",
       "    color: #3A5FBC;\n",
       "}\n",
       "\n",
       "\n",
       ".text_cell_render p {\n",
       "    text-align: justify;\n",
       "    text-justify: inter-word;\n",
       "}\n",
       "\n",
       "\n",
       "\n",
       "ul li::marker {\n",
       "  color: #3A5FBC;\n",
       "  font-size:  25px;\n",
       "}\n",
       "\n",
       "ol li::marker {\n",
       "  color: #3A5FBC;\n",
       "  font-size:  18px;\n",
       "}\n",
       "\n",
       "\n",
       "a:link {\n",
       "  color: black;\n",
       "}\n",
       "a:active {\n",
       "  color: black;\n",
       "}\n",
       "a:hover {\n",
       "  color: black;\n",
       "}\n",
       "a:visited {\n",
       "  color: black;\n",
       "}\n",
       "\n",
       "li + li {\n",
       "  margin-top: 10px;\n",
       "}\n",
       "\n",
       "</style>"
      ],
      "text/plain": [
       "<IPython.core.display.HTML object>"
      ]
     },
     "execution_count": 1,
     "metadata": {},
     "output_type": "execute_result"
    }
   ],
   "source": [
    "# Add some custom styling to the notebook\n",
    "# Run this cell to add a custom style to the notebook (highly recommended since it's very nice)\n",
    "\n",
    "from IPython.core.display import HTML\n",
    "def css_styling():\n",
    "    styles = open(\"notebook_style.css\", \"r\").read() \n",
    "    return HTML(styles)\n",
    "\n",
    "css_styling()"
   ]
  },
  {
   "cell_type": "markdown",
   "id": "98624ac0",
   "metadata": {},
   "source": [
    "## What's in this submission? "
   ]
  },
  {
   "cell_type": "markdown",
   "id": "2b85f905",
   "metadata": {},
   "source": [
    "The present notebook contains the proposed solution for the IBM Open Science Prize 2021.\n",
    "\n",
    "However, the submission contains other files:\n",
    "\n",
    "- the `trotter_function.py` file contains all the functions related to the Trotter decomposition of the evolution operator. Since in the notebook we will incrementally optimize the proposed circuit, we decided to group all the functions in a separate file\n",
    "- the `optimization_functions.py` contains a set of function that will be used to optimize our circuits. The functions contained and their usage will be explicitly stated in the notebok when needed.\n",
    "- the `pvqd_logfile.dat` contains data about the Trotterization compression method that we don't show explicitly in the notebook\n",
    "- the `images` directory, as the name suggests, contains the images that are used in the notebook\n",
    "- the `notebook_style.css` contains the style guide for this notebook, like colors of titles, bullets, text-alignement and so on "
   ]
  },
  {
   "cell_type": "markdown",
   "id": "e4db314a",
   "metadata": {},
   "source": [
    "## What packages do we need to install?"
   ]
  },
  {
   "cell_type": "markdown",
   "id": "e496c5e6",
   "metadata": {},
   "source": [
    "As requested by the guideline of the challenge, this notebook contains only functions that are either written from scratch using Qiskit or that are only one `pip install` away.\n",
    "\n",
    "Here we list the libraries needed to fully run the notebook:\n",
    "\n",
    "- the Qiskit library via `pip install qiskit`\n",
    "- the Mitiq library  via `pip install mitiq`, make sure that the version installed is `>= 0.11.1` \n",
    "- the ipywidget library to visualize the final Qiskit table via `pip install ipywidgets`\n",
    "\n",
    "\n",
    "Other libraries are considered already installed, like jupyter notebook, matplotlib, numpy, ... as represent the common usage of Python. \n",
    "\n",
    "For convenience we have added `requirements.txt` which contains an installation instruction for all the libraries that we used to successfully run the notebook. It can be installed executing the cell below."
   ]
  },
  {
   "cell_type": "code",
   "execution_count": null,
   "id": "0d33e366",
   "metadata": {},
   "outputs": [],
   "source": [
    "# Execute to install the libraries that are required to successfully run the notebook \n",
    "!pip install -r requirements.txt"
   ]
  },
  {
   "cell_type": "markdown",
   "id": "b27ee4b8",
   "metadata": {},
   "source": [
    "### DONE: \n",
    "\n",
    " - <s>little introduction?</s>\n",
    " - <s>better explanation of ZNE</s>\n",
    " - <s>better explanation of \"bitstring removal\"</s>\n",
    " - <s>banner for the intro</s>\n",
    " - <s>image for YBE</s>\n",
    " - <s>citation for YBE conjecture</s>\n",
    " - <s>better documentation of the code</s>\n",
    " - <s>add pVQD image</s>\n",
    " - <s>add pVQD explanation</s>\n",
    " - <s>explain decision on qubit routing</s>\n",
    " - <s>add better explanation in Trotter functions</s>\n",
    " - <s>Documentation of error mitgation functions</s>\n",
    " - <s>Add citation for ZNE </s>\n",
    " - <s>Make result retrival also work for noisy simulation</s>\n",
    " - <s>hide pVQD optimization log and put it in pVQD_log.txt</s>\n",
    " - <s>add Qiskit version information at the end (just like they do in their site)</s>\n",
    " - <s>description of what files contains</s>\n",
    " - <s> Fix active links color</s>\n",
    " - <s> YBE rerun with 0.9995</s>\n",
    " - <s>Rerun the pVQD to state the runtime </s>\n",
    " \n",
    "### TO DO:\n",
    " \n",
    " - <s>Test ZNE on simulator</s>\n",
    " - <s>Fix ZNE documentation</s>\n",
    " - Add requirements.txt (pip freeze > requirements.txt) \n",
    "\n",
    " \n",
    " - Remove the TODO list\n",
    " \n",
    " "
   ]
  },
  {
   "cell_type": "markdown",
   "id": "13babdc0",
   "metadata": {},
   "source": [
    "# 1 - Introduction  <a class=\"anchor\" id=\"1---introduction\"></a>"
   ]
  },
  {
   "cell_type": "markdown",
   "id": "19f74c80",
   "metadata": {},
   "source": [
    "Quantum simulation is one of the first envisioned application of quantum computing and has been proved to be of polynomial complexity on devices making use of quantum resources.\n",
    "\n",
    "Due to its potential impact on many different areas of physics, chemistry and materials science, significant amounts of research have been devoted to such application.\n",
    "\n",
    "However, the realisation of an universal quantum simulator remains far in the future due to combined effect of limited connectivity and noisy gates: the noise sets a maximum number of operations that can be performed without affecting the fidelity, while the sparse connection graph among qubits increases the total number of physical operations that must be performed to implement an algorithm.\n",
    "\n",
    "This challenge required us to consider the $XXX$-Heisenberg spin model \n",
    "\n",
    "$$\n",
    "\\begin{equation}\n",
    "H_{\\text{Heis}} = \\sum_{\\langle ij \\rangle}^{N} J \\left(\\sigma_x^{(i)}\\sigma_x^{(j)} + \\sigma_y^{(i)}\\sigma_y^{(j)} + \\sigma_z^{(i)}\\sigma_z^{(j)}\\right) \n",
    "\\end{equation}\n",
    "$$\n",
    "and significantly improve its state-of-the-art simulation.\n",
    "\n",
    "In particular, the challenge is to simulate the time evolution of the Heisenberg model with $N=3$ spins arranged in a line and $J=1$ up to $t=\\pi$ using at least 4 Trotter steps.\n"
   ]
  },
  {
   "cell_type": "code",
   "execution_count": 5,
   "id": "6ded4eac",
   "metadata": {},
   "outputs": [],
   "source": [
    "import numpy as np\n",
    "import matplotlib.pyplot as plt\n",
    "import json\n",
    "plt.rcParams.update({'font.size': 16})  # enlarge matplotlib fonts\n",
    "\n",
    "# Import qubit states Zero (|0>) and One (|1>), and Pauli operators (X, Y, Z)\n",
    "from qiskit.opflow import Zero, One, I, X, Y, Z\n",
    "\n",
    "# Suppress warnings\n",
    "import warnings\n",
    "warnings.filterwarnings('ignore')"
   ]
  },
  {
   "cell_type": "markdown",
   "id": "3050649e",
   "metadata": {},
   "source": [
    "### 1.1 - Classical simulation <a class=\"anchor\" id=\"11---classical-simulation\"></a> \n",
    "We start by showing some classical simulation of the model.\n",
    "\n",
    "Once we have the Hamiltonian matrix of the system  $H_{\\text{Heis3}}$, the time evolution operator that solves the Schrödinger equation can be obtained by matrix exponentiation\n",
    "$$\n",
    "\\begin{equation}\n",
    "U_{\\text{Heis3}}(t) = e^{-it H_\\text{Heis3}} = \\exp\\left(-it H_\\text{Heis3}\\right) \\, .\n",
    "\\end{equation}\n",
    "$$\n",
    "\n",
    "This operation is very accurate, but the computational cost scales exponentially with the system size on a classical computer.\n",
    "\n",
    "As the system contains only 3 spins, the classical simulation will be the blueprint to evaluate the quality of our quantum simulation.\n",
    "\n",
    "We start by creating the function that returns the Heisenberg Hamiltonian:"
   ]
  },
  {
   "cell_type": "code",
   "execution_count": 4,
   "id": "3739dad3-1874-4133-8703-7ff1d157622c",
   "metadata": {},
   "outputs": [],
   "source": [
    "# Returns the matrix representation of the XXX Heisenberg model for 3 spin-1/2 particles in a line\n",
    "def H_heis3():\n",
    "    # Interactions (I is the identity matrix; X, Y, and Z are Pauli matricies; ^ is a tensor product)\n",
    "    XXs = (I^X^X) + (X^X^I)\n",
    "    YYs = (I^Y^Y) + (Y^Y^I)\n",
    "    ZZs = (I^Z^Z) + (Z^Z^I)\n",
    "    \n",
    "    # Sum interactions\n",
    "    H = XXs + YYs + ZZs\n",
    "    \n",
    "    # Return Hamiltonian\n",
    "    return H"
   ]
  },
  {
   "cell_type": "markdown",
   "id": "7afab5eb",
   "metadata": {},
   "source": [
    "and then the function that return the time evolution operator up to time $t$"
   ]
  },
  {
   "cell_type": "code",
   "execution_count": 5,
   "id": "7ea74155",
   "metadata": {},
   "outputs": [],
   "source": [
    "# Returns the matrix representation of U_heis3(t) for a given time t assuming an XXX Heisenberg Hamiltonian \n",
    "# for 3 spins-1/2 particles in a line\n",
    "def U_heis3(t):\n",
    "    # Compute XXX Hamiltonian for 3 spins in a line\n",
    "    H = H_heis3()\n",
    "    \n",
    "    # Return the exponential of -i multipled by time t multipled by the 3 spin XXX Heisenberg Hamilonian \n",
    "    return (t * H).exp_i()"
   ]
  },
  {
   "cell_type": "markdown",
   "id": "7d5ba1a6",
   "metadata": {},
   "source": [
    "We will use this operator to compute the evolution of the state $|110\\rangle$ up to $t=\\pi$.\n",
    "\n",
    "Here below we compute and plot the probability of remaining in $|110\\rangle$ state over an array of time points, namely\n",
    "\n",
    "$$\n",
    "\\begin{equation}\n",
    "p_{110}(t) =|\\langle 110 |e^{-it H_\\text{Heis3}}|110\\rangle|^2\n",
    "\\end{equation}\n",
    "$$"
   ]
  },
  {
   "cell_type": "code",
   "execution_count": 6,
   "id": "2fb4e328",
   "metadata": {},
   "outputs": [
    {
     "data": {
      "image/png": "[encoded data removed]",
      "text/plain": [
       "<Figure size 432x288 with 1 Axes>"
      ]
     },
     "metadata": {
      "needs_background": "light"
     },
     "output_type": "display_data"
    }
   ],
   "source": [
    "# Define array of time points\n",
    "ts = np.linspace(0, np.pi, 100)\n",
    "\n",
    "# Define initial state |110>\n",
    "initial_state = One^One^Zero\n",
    "\n",
    "# Compute probability of remaining in |110> state over the array of time points\n",
    " # ~initial_state gives the bra of the initial state (<110|)\n",
    " # @ is short hand for matrix multiplication\n",
    " # U_heis3(t) is the unitary time evolution at time t\n",
    " # t needs to be wrapped with float(t) to avoid a bug\n",
    " # (...).eval() returns the inner product <110|U_heis3(t)|110>\n",
    " #  np.abs(...)**2 is the modulus squared of the innner product which is the expectation value, or probability, of remaining in |110>\n",
    "probs_110_exact = [np.abs((~initial_state @ U_heis3(float(t)) @ initial_state).eval())**2 for t in ts]\n",
    "\n",
    "# Plot evolution of |110>\n",
    "plt.plot(ts, probs_110_exact,linestyle=\"dashed\",color=\"black\")\n",
    "plt.xlabel('time')\n",
    "plt.ylabel(r'probability of state $|110\\rangle$')\n",
    "plt.title(r'Evolution of state $|110\\rangle$ under $H_{Heis3}$')\n",
    "plt.grid()\n",
    "plt.show()"
   ]
  },
  {
   "cell_type": "markdown",
   "id": "f689414c",
   "metadata": {},
   "source": [
    "# 2- Solution proposal <a class=\"anchor\" id=\"2--solution-proposal\"></a>"
   ]
  },
  {
   "cell_type": "markdown",
   "id": "c136b9a0",
   "metadata": {},
   "source": [
    "We have already said that on a quantum computer the simulation of quantum dynamics is proven to be of polynomial complexity.\n",
    "This is true provided that we employ the Trotter-Suzuki approximation of the time evolution operator: given an Hamiltonian which can be written has a sum of local terms $H=\\sum_l H_l$, we can write\n",
    "\n",
    "$$\n",
    "e^{-i\\sum_{l}H_l t} = \\bigg( \\prod_{l} e^{-iH_{l}\\frac{t}{n}}\\bigg) ^{n} + O\\bigg( \\frac{t^2}{n}\\bigg)\n",
    "$$\n",
    "\n",
    "meaning that the time evolution operator can be approximated as a product of local operators, that can be implemented efficiently as quantum gates acting on the qubits.\n",
    "The error of this approximation can be decreased arbitrarily provided $n$ sufficiently big.\n",
    "Unfortunately, the depth of such a circuit is of $O(n)$, which means that with current error rates and no error correction schemes at the end the result will be completely dominated by noise.\n",
    "\n",
    "We are thus required to find a trade-off between simulation accuracy and circuit depth and use state of the art techniques to mitigate the noise acting on the system.\n",
    "\n",
    "More information on how quantum computers can be used to simulate quantum systems can be found in \\[1\\].\n",
    "\n",
    "In our case, we are required to use at least $4$ steps ($n\\geq4$) to time evolve the state $|110\\rangle$ to time $t=\\pi$ under $H_{\\text{heis3}}$.\n",
    "\n",
    "For this reason, we start from simply considering the Trotter time evolution for different values of $n\\geq4$ to assess the accuracy of this approximation.\n",
    "\n",
    "---\n",
    "\\[1\\] F. Tacchino, et al., *Quantum Computers as Universal Quantum Simulators: State-of-the-Art and Perspectives*, [Adv. Quantum Technol. *3* 3 (2020)](https://doi.org/10.1002/qute.201900052) "
   ]
  },
  {
   "cell_type": "markdown",
   "id": "6a41a81d",
   "metadata": {},
   "source": [
    "### 2.1 - Trotterization comparison <a class=\"anchor\" id=\"21---trotterization-comparison\"></a> \n",
    "\n",
    "We will start analysing how a Trotterization on a perfect quantum device will evolve the state $|110\\rangle$ to time $t=\\pi$ given a fixed number of Trotter steps."
   ]
  },
  {
   "cell_type": "code",
   "execution_count": 6,
   "id": "a847a957",
   "metadata": {},
   "outputs": [],
   "source": [
    "## Import functions from Qiskit\n",
    "from qiskit                     import QuantumCircuit, QuantumRegister, IBMQ, execute, transpile, Aer\n",
    "from qiskit.providers.aer       import QasmSimulator\n",
    "from qiskit.tools.monitor       import job_monitor\n",
    "from qiskit.circuit             import Parameter, ParameterVector\n",
    "from qiskit.quantum_info        import Statevector, Pauli\n",
    "from qiskit.opflow.state_fns    import CircuitStateFn\n",
    "from qiskit.opflow.expectations import PauliExpectation\n",
    "from qiskit.utils               import QuantumInstance\n",
    "from qiskit.opflow              import PauliOp, SummedOp, CircuitSampler, StateFn"
   ]
  },
  {
   "cell_type": "code",
   "execution_count": 16,
   "id": "04a7d9b9",
   "metadata": {},
   "outputs": [],
   "source": [
    "## We have included a file called \"trotter_function.py\"\n",
    "## that contains different implementations of a Trotter step that we will use in this notebook\n",
    "\n",
    "# In this case, we import the standard Trotterization of the XXX Hamiltonian \n",
    "# as indicated in Fig. 4a of arXiv:1907.03505v2\n",
    "from trotter_functions import Heisenberg_Trotter"
   ]
  },
  {
   "cell_type": "markdown",
   "id": "ae30bda5",
   "metadata": {},
   "source": [
    "We start from the naive approach to Trotterization, that requires implementing every gate $XX(2t) = \\exp\\left(-it \\sigma_x\\sigma_x\\right)$, $YY(2t) = \\exp\\left(-it \\sigma_y\\sigma_y\\right)$, and $ZZ(2t) = \\exp\\left(-it \\sigma_z\\sigma_z\\right)$ separately, as indicated in Fig. 4a of \\[1\\]. For 3 spins and $n$ Trotter steps this has the form:\n",
    "\n",
    "$$\n",
    "U_{\\text{Heis3}}(t) \\approx \\left[XX\\left(\\frac{2t}{n}\\right)^{(0,1)} YY\\left(\\frac{2t}{n}\\right)^{(0,1)} ZZ\\left(\\frac{2t}{n}\\right)^{(0,1)} XX\\left(\\frac{2t}{n}\\right)^{(1,2)} YY\\left(\\frac{2t}{n}\\right)^{(1,2)} ZZ\\left(\\frac{2t}{n}\\right)^{(1,2)} \\right]^{n}\n",
    "$$\n",
    "\n",
    "where the superscript $(i,j)$ indicates on which spins (qubits) the operator is acting on.\n",
    "\n",
    "---\n",
    "\\[1\\] F. Tacchino, et al., *Quantum Computers as Universal Quantum Simulators: State-of-the-Art and Perspectives*, [Adv. Quantum Technol. *3*, 1900052 (2020)](https://doi.org/10.1002/qute.201900052) "
   ]
  },
  {
   "cell_type": "code",
   "execution_count": 9,
   "id": "07d32eab",
   "metadata": {},
   "outputs": [
    {
     "name": "stdout",
     "output_type": "stream",
     "text": [
      "4 steps completed\n",
      "8 steps completed\n",
      "12 steps completed\n"
     ]
    }
   ],
   "source": [
    "# Simulate the system with a different number of Trotter steps and compare with the matrix exponentiation\n",
    "# In this case, we will consider 4, 8 and 12 Trotter steps\n",
    "probs_110_trott = {4:[],8:[],12:[]}\n",
    "t = Parameter(\"t\")\n",
    "\n",
    "# We loop over different number of Trotter steps\n",
    "for n in probs_110_trott.keys():\n",
    "    for sim_t in ts:\n",
    "        # Initialise the circuit\n",
    "        trott_qr = QuantumRegister(3)\n",
    "        trott_qc = QuantumCircuit(trott_qr)\n",
    "        trott_qc.x([1,2])\n",
    "    \n",
    "        # Append the Trotterization\n",
    "        trott_step = Heisenberg_Trotter(num_qubits=3,trotter_steps=n,t=t,target_time=sim_t).to_instruction()\n",
    "        trott_qc.append(trott_step, [trott_qr[0], trott_qr[1], trott_qr[2]])\n",
    "    \n",
    "        trott_wfn = CircuitStateFn(trott_qc)\n",
    "        trott_ovp = np.abs((~initial_state@trott_wfn).eval())**2\n",
    "        probs_110_trott[n].append(trott_ovp)\n",
    "    print(str(n)+\" steps completed\")"
   ]
  },
  {
   "cell_type": "code",
   "execution_count": 10,
   "id": "66a6a9b6",
   "metadata": {},
   "outputs": [
    {
     "data": {
      "image/png": "[encoded data removed]",
      "text/plain": [
       "<Figure size 432x288 with 1 Axes>"
      ]
     },
     "metadata": {
      "needs_background": "light"
     },
     "output_type": "display_data"
    }
   ],
   "source": [
    "# Now plot the comparison\n",
    "plt.plot(ts, probs_110_exact,linestyle=\"dashed\",color=\"black\",label=\"Exact\")\n",
    "for (i,n) in enumerate(probs_110_trott.keys()):\n",
    "    plt.plot(ts, probs_110_trott[n],color=\"C\"+str(i),label=str(n)+\" steps\")\n",
    "plt.xlabel('time')\n",
    "plt.ylabel(r'probability of state $|110\\rangle$')\n",
    "plt.title(r'Trotterization comparison')\n",
    "plt.legend()\n",
    "plt.grid()\n",
    "plt.show()"
   ]
  },
  {
   "cell_type": "markdown",
   "id": "459d6d97",
   "metadata": {},
   "source": [
    "As we can see, four Trotter steps are not enough to correctly time evolve the target state to $t=\\pi$.\n",
    "As expected, with an increasing number of Trotter steps we get closer and closer to the exact simulation.\n",
    "\n",
    "However, in the present form a single Trotter step requires 12 CNOTs, resulting in a total of 48 CNOTs for $n=4$ and 144 CNOTs for $n=12$, a circuit significantly too deep for current hardware. This forces us to compress the greatest Trotterization accuracy into the shortest possible circuit, before even considering to evalute the circuit on hardware."
   ]
  },
  {
   "cell_type": "markdown",
   "id": "02cc2c64",
   "metadata": {},
   "source": [
    "## 2.2 Circuit compression <a class=\"anchor\" id=\"22-circuit-compression\"></a> \n"
   ]
  },
  {
   "cell_type": "markdown",
   "id": "ed1da18d",
   "metadata": {},
   "source": [
    "### 2.2.1 Compression of Trotter step <a class=\"anchor\" id=\"221-compression-of-trotter-step\"></a> \n",
    "\n",
    "The first step is to reduce the number of gates required by a single Trotter step. \n",
    "To this point, a single Trotter step requires $12$ CNOTs.\n",
    "\n",
    "We can easily reduce it to $6$ using an optimal circuit for the $e^{-it(XX+YY+ZZ)}$ rotation presented in in Fig. 4b of \\[1\\].\n",
    "\n",
    "With this decomposition, 4 Trotter steps on 3 qubits will now require 24 CNOTs instead of 48. \n",
    "\n",
    "---\n",
    "\\[1\\] F. Tacchino, et al., *Quantum Computers as Universal Quantum Simulators: State-of-the-Art and Perspectives*, [Adv. Quantum Technol. *3*, 1900052 (2020)](https://doi.org/10.1002/qute.201900052) "
   ]
  },
  {
   "cell_type": "code",
   "execution_count": 7,
   "id": "52d7bc6f",
   "metadata": {},
   "outputs": [],
   "source": [
    "# From the same file as before, we import the compressed Trotterization of Fig. 4b of arXiv:1907.03505v2\n",
    "from trotter_functions import Heisenberg_Trotter_compressed"
   ]
  },
  {
   "cell_type": "code",
   "execution_count": 17,
   "id": "778708de",
   "metadata": {},
   "outputs": [
    {
     "data": {
      "image/png": "[encoded data removed]",
      "text/plain": [
       "<Figure size 1042.39x204.68 with 1 Axes>"
      ]
     },
     "execution_count": 17,
     "metadata": {},
     "output_type": "execute_result"
    }
   ],
   "source": [
    "## An an example of a single Trotter step using the optimized decomposition\n",
    "\n",
    "compression_example = Heisenberg_Trotter_compressed(num_qubits=3,trotter_steps=1,t=t,target_time=np.pi/4)\n",
    "compression_example.decompose().decompose().draw(output='mpl')"
   ]
  },
  {
   "cell_type": "markdown",
   "id": "455bdaa1-343a-410f-a0a2-83dcaf8433f8",
   "metadata": {},
   "source": [
    "To show that the two decompositions are equivalent, let us simulate again the system with $4$ steps up to $t=\\pi$."
   ]
  },
  {
   "cell_type": "code",
   "execution_count": 13,
   "id": "00c0d01d",
   "metadata": {},
   "outputs": [],
   "source": [
    "probs_110_trott_c = []\n",
    "for sim_t in ts:\n",
    "    # Initialise the circuit\n",
    "    trott_qr_c = QuantumRegister(3)\n",
    "    trott_qc_c = QuantumCircuit(trott_qr_c)\n",
    "    trott_qc_c.x([1,2])\n",
    "    \n",
    "    # Append the Trotterization\n",
    "    trott_step_c = Heisenberg_Trotter_compressed(num_qubits=3,trotter_steps=4,t=t,target_time=sim_t).to_instruction()\n",
    "    trott_qc_c.append(trott_step_c, [trott_qr_c[0], trott_qr_c[1], trott_qr_c[2]])\n",
    "    \n",
    "    # Measure the overlap with |110> As in the first case\n",
    "    trott_wfn_c = CircuitStateFn(trott_qc_c)\n",
    "    trott_ovp_c = np.abs((~initial_state@trott_wfn_c).eval())**2\n",
    "    probs_110_trott_c.append(trott_ovp_c)"
   ]
  },
  {
   "cell_type": "code",
   "execution_count": 14,
   "id": "59829c33",
   "metadata": {},
   "outputs": [
    {
     "data": {
      "image/png": "[encoded data removed]",
      "text/plain": [
       "<Figure size 432x288 with 1 Axes>"
      ]
     },
     "metadata": {
      "needs_background": "light"
     },
     "output_type": "display_data"
    }
   ],
   "source": [
    "## Now plot the exact simulation, the initial Trotter and the Trotter compressed\n",
    "plt.plot(ts, probs_110_exact,linestyle=\"dashed\",color=\"black\",label=\"Exact\")\n",
    "plt.plot(ts, probs_110_trott[4],color=\"C0\",label=\"Trotter\")\n",
    "plt.plot(ts, probs_110_trott_c,color=\"C1\",marker=\".\",linestyle=\"\",label=\"Trotter compressed\")\n",
    "plt.xlabel('time')\n",
    "plt.ylabel(r'probability of state $|110\\rangle$')\n",
    "plt.title(r'Compression comparison')\n",
    "plt.legend()\n",
    "plt.grid()\n",
    "plt.show()"
   ]
  },
  {
   "cell_type": "markdown",
   "id": "a38fee47-3c2a-4ae5-9f36-878c84c4243e",
   "metadata": {},
   "source": [
    "As we can see, the two circuits give exactly the same probability at all times!"
   ]
  },
  {
   "cell_type": "markdown",
   "id": "f838e575",
   "metadata": {},
   "source": [
    "### 2.2.2 Yang - Baxter Equivalence (YBE) <a class=\"anchor\" id=\"222yang---baxter-equivalence-ybe\"></a>"
   ]
  },
  {
   "cell_type": "markdown",
   "id": "d341ddf5",
   "metadata": {},
   "source": [
    "The circuit now has 24 CNOTs which is already very good, though it can be compressed even further!\n",
    "\n",
    "To this end we will be using the Yang-Baxter Equation (YBE) \\[2\\] which has recently been used by \\[3\\] to compress the circuit for a Trotterized time evolution of the XY Heisenberg model. \n",
    "\n",
    "The YBE equation works in the following way (Fig.3 in \\[3\\]):"
   ]
  },
  {
   "cell_type": "markdown",
   "id": "61ac3d83",
   "metadata": {},
   "source": [
    "![YBE](images/YBE.png)"
   ]
  },
  {
   "cell_type": "markdown",
   "id": "190e6b3e",
   "metadata": {},
   "source": [
    "In our case $\\mathcal{R}=e^{-it(XX+YY+ZZ)}$ which is one rotation gate acting on a pair of qubits.\n",
    "\n",
    "The current circuit with $24$ CNOT gates has the following structure:"
   ]
  },
  {
   "cell_type": "code",
   "execution_count": 16,
   "id": "e5c11792",
   "metadata": {},
   "outputs": [
    {
     "data": {
      "image/png": "[encoded data removed]",
      "text/plain": [
       "<Figure size 861.647x204.68 with 1 Axes>"
      ]
     },
     "execution_count": 16,
     "metadata": {},
     "output_type": "execute_result"
    }
   ],
   "source": [
    "compression_example = Heisenberg_Trotter_compressed(num_qubits=3,trotter_steps=4,t=t,target_time=np.pi)\n",
    "compression_example.decompose().draw(output='mpl')"
   ]
  },
  {
   "cell_type": "markdown",
   "id": "5b21f856",
   "metadata": {},
   "source": [
    "The YBE tells us that we can \"mirror\" the gates the whenever we encounter three $\\mathcal{R}$ terms. \n",
    "\n",
    "Repeating this procedure allows to bring multiple $\\mathcal{R}$ onto the same pair of qubits, they can then be combined into a single rotation with a new rotational angle.\n",
    "\n",
    "The procedure is outlined in the figure below, in our case this allow us to propose a circuit with only $15$ CNOT gates instead of $24$ since each $\\mathcal{R}$ contains 3 CNOT gates."
   ]
  },
  {
   "cell_type": "markdown",
   "id": "1c491b6c",
   "metadata": {},
   "source": [
    "![YBE](images/YBE_on_circuit.png)"
   ]
  },
  {
   "cell_type": "markdown",
   "id": "52aedfc7",
   "metadata": {},
   "source": [
    "Unfortunately, the paper doesn't present an analytical relationship between the Trotter circuit and the YBE-compressed circuit rotational angles when considering the XXX Hamiltonian. It is however conjectured to generally exist for gates with such alternating pattern (see \\[4\\]).\n",
    "\n",
    "Since there is no known analytical expression for the new angles of the compressed circuit in our case, we propose to find them variationally.\n",
    "\n",
    "We want to highlight that we are not going to use these parameters in the final circuit.\n",
    "The aim of this section is to demonstrate that at every time $t$ a set of parameters can be found in order for the YBE circuit to be equivalent to the Trotter one. Even if the relationship is not known analytically, we find it variationally. \n",
    "\n",
    "---\n",
    "\\[2\\] Jimbo M. , *Introduction to the Yang-Baxter Equation*, [International Journal of Modern Physics A, vol. 04, no.15](https://www.worldscientific.com/doi/epdf/10.1142/S0217751X89001503)\n",
    "\n",
    "\\[3\\] Gulania et al, *Quantum time dynamics of 1D-Heisenberg models employing the Yang-Baxter equation for circuit compression*, [arXiv:2112.01690](https://arxiv.org/abs/2112.01690)\n",
    "\n",
    "\\[4\\] Bassman et al, *Constant-Depth Circuits for Dynamic Simulations of Materials on Quantum Computers*, [arXiv:2103.07429](https://arxiv.org/abs/2103.07429)"
   ]
  },
  {
   "cell_type": "code",
   "execution_count": 8,
   "id": "18e1df85",
   "metadata": {},
   "outputs": [],
   "source": [
    "# Import the YBE circuit \n",
    "# The function returns the circuit corresponding to the YBE compression of a 4 Trotter steps circuit in 3 spins \n",
    "from trotter_functions import Heisenberg_YBE_variational"
   ]
  },
  {
   "cell_type": "code",
   "execution_count": 19,
   "id": "ef95c61a",
   "metadata": {},
   "outputs": [
    {
     "data": {
      "image/png": "[encoded data removed]",
      "text/plain": [
       "<Figure size 1591.6x445.48 with 1 Axes>"
      ]
     },
     "execution_count": 19,
     "metadata": {},
     "output_type": "execute_result"
    }
   ],
   "source": [
    "# Here we show an example of the circuit\n",
    "example = Heisenberg_YBE_variational(ParameterVector('t',15))\n",
    "example.draw(output='mpl')"
   ]
  },
  {
   "cell_type": "markdown",
   "id": "8264e674",
   "metadata": {},
   "source": [
    "At every time $t$, we want the YBE circuit to be equivalent to the Trotter circuit with 4 steps.\n",
    "\n",
    "We will do so by  finding $\\theta_{t}$ that maximizes at every time $t$ the overlap\n",
    "\n",
    "$$\n",
    "|\\langle \\psi_0 |U^{\\dagger}_{T}(t)U_{YBE}(\\theta_t) |\\psi_0\\rangle|^2 \\,\n",
    "$$\n",
    "\n",
    "where $U_{T}(t)$ indicates the 4-steps Trotter-Suzuki circuit, $U_{YBE}(\\theta_t)$ is its compressed version with the Yang-Baxter Equation and $|\\psi_0\\rangle = U_0|000\\rangle =|110\\rangle$.\n",
    "\n",
    "To do this on a quantum circuit, we will use the compute-uncompute method which works as follows:\n",
    "\n",
    "given\n",
    "\n",
    "$$\n",
    "|\\langle \\psi_0 |U^{\\dagger}_{T}(t)U_{YBE}(\\theta_t) |\\psi_0\\rangle|^2 = \n",
    "\\langle 000| U^{\\dagger}_0 U^{\\dagger}_{YBE}(\\theta_t)U_{T}(t)U_0\n",
    "|000\\rangle \\langle 000| \n",
    "U^{\\dagger}_0U^{\\dagger}_{T}(t)U_{YBE}(\\theta_t)U_0|000\\rangle = \\langle \\psi|P_0|\\psi\\rangle\n",
    "$$\n",
    "\n",
    "we prepare the state $|\\psi\\rangle = U^{\\dagger}_0U^{\\dagger}_{T}(t)U_{YBE}(\\theta_t)U_0|000\\rangle$ and measure the operator $P_{0} =|000\\rangle \\langle 000|$.\n",
    "\n",
    "Then, we compute the gradient of this expectation value using the parameter-shift rule \\[5,6\\] and pass this information to a classical optimizer like ADAM \\[7\\] to update the YBE parameters $\\theta_t$.\n",
    "\n",
    "Therefore, we need a method to compute this overlap and its gradient, then a method to update the parameters.\n",
    "\n",
    "---\n",
    "\\[5\\] A. Mari et al., *Estimating the gradient and higher-order derivatives on quantum hardware*, [Phys. Rev. A 103 012405](https://doi.org/10.1103/PhysRevA.103.012405)\n",
    "\n",
    "\\[6\\] D. Wierichs et al., *General parameter-shift rules for quantum gradients* [Quantum 6, 677](https://quantum-journal.org/papers/q-2022-03-30-677/)\n",
    "\n",
    "\\[7\\] Kingma D. P. and Ba J.L. , *Adam: A Method for Stochastic Optimization*, [arXiv:1412.6980](https://doi.org/10.48550/arxiv.1412.6980)"
   ]
  },
  {
   "cell_type": "code",
   "execution_count": 9,
   "id": "ecbc2bb9",
   "metadata": {},
   "outputs": [],
   "source": [
    "# Here we import the required functions from \"optimization_functions.py\"\n",
    "from optimization_functions import adam_gradient, projector_zero, ei"
   ]
  },
  {
   "cell_type": "code",
   "execution_count": 21,
   "id": "5e0843d5",
   "metadata": {},
   "outputs": [],
   "source": [
    "def ybe_overlap_and_gradient(θ_params,state_wfn,θ_t,sampler):\n",
    "    \n",
    "    '''\n",
    "   This function computes the overlap between the wavefunction obtained with 4 Trotter steps at time t\n",
    "   and the YBE compressed circuit.\n",
    "   It also computes the gradient with the respect to the YBE parameters, using the parameter-shift rule\n",
    "    \n",
    "    Args:\n",
    "        - θ_params   : Qiskit ParameterVector, to bind θ_t parameters and shifts for gradient\n",
    "        - state_wfn  : StateFn P_0 @ |ψ> converted by Qiskit Expectator\n",
    "        - θ_t        : the array of parameters for U_{YBE}(θ_t)\n",
    "        - sampler    : Qiskit CircuitSampler to sample from the circuit created given the QuantumInstance\n",
    "        \n",
    "    Returns:\n",
    "        - Overlap between U_T(t)|110> and U_{YBE}(θ_t)|110>\n",
    "        - Gradient with respect to the YBE parameters\n",
    "    '''\n",
    "\n",
    "    nparameters = len(θ_t)\n",
    "    # build dictionary of parameters to values\n",
    "    # {left[0]: parameters[0], .. ., right[0]: parameters[0] + shift[0], ...}\n",
    "    # First create the dictionary for overlap\n",
    "    values_dict = [dict(zip(θ_params[:], θ_t.tolist()))]\n",
    "\n",
    "    # Then the values for the gradient\n",
    "    for i in range(nparameters):\n",
    "        values_dict.append(dict(zip(θ_params[:] , (θ_t  + ei(i,nparameters)*np.pi/2.0).tolist())))\n",
    "        values_dict.append(dict(zip(θ_params[:] , (θ_t  - ei(i,nparameters)*np.pi/2.0).tolist())))\n",
    "\n",
    "    # Now evaluate the circuits with the parameters assigned and save the results in a list \n",
    "    results = []\n",
    "    for values in values_dict:\n",
    "        sampled_op = sampler.convert(state_wfn,params=values)\n",
    "        # It's an exact value, no statistical uncertainties\n",
    "        mean = sampled_op.eval().real\n",
    "        results.append(mean)\n",
    "    \n",
    "    # The first element of the result list is the overlap\n",
    "    E = results[0]\n",
    "    g = np.zeros(nparameters)\n",
    "\n",
    "    # Parameter shift rule to evaluate the gradient components\n",
    "    for i in range(nparameters):\n",
    "        rplus  = results[1+2*i]\n",
    "        rminus = results[2+2*i]\n",
    "        g[i] = (rplus-rminus)/2.0\n",
    "\n",
    "    return E,g"
   ]
  },
  {
   "cell_type": "code",
   "execution_count": 22,
   "id": "93f803ed",
   "metadata": {},
   "outputs": [],
   "source": [
    "## Define quantities for the optimization\n",
    "\n",
    "# Array of time points for the YBE compression example\n",
    "ybe_ts = np.linspace(0, np.pi, 50)\n",
    "\n",
    "# For YBE circuit\n",
    "ybe_params_vec = ParameterVector('θ',15)\n",
    "# Initial parameters\n",
    "ybe_parameters = np.zeros(15)\n",
    "num_parameters = len(ybe_parameters)\n",
    "\n",
    "# Parameter for Trotter circuit\n",
    "t = Parameter(\"t\")\n",
    "\n",
    "# For the optimization\n",
    "# Number of parameter optimizations per time step\n",
    "opt_steps = 600\n",
    "# Overlap threshold\n",
    "opt_ths = 0.9995\n",
    "# P_0 = |000><000|\n",
    "zero_prj = StateFn(projector_zero(3),is_measurement = True)"
   ]
  },
  {
   "cell_type": "code",
   "execution_count": 23,
   "id": "93f4e5fc",
   "metadata": {},
   "outputs": [],
   "source": [
    "## Create QuantumInstance to run the circuit\n",
    "backend     = Aer.get_backend('statevector_simulator')\n",
    "instance    = QuantumInstance(backend=backend)\n",
    "expectation = PauliExpectation()\n",
    "sampler     = CircuitSampler(instance)"
   ]
  },
  {
   "cell_type": "markdown",
   "id": "6897c316",
   "metadata": {},
   "source": [
    "**WARNING :** The execution of the next cell takes several minutes (up to 13 minutes). \n",
    "For convenience, we already provide the result below."
   ]
  },
  {
   "cell_type": "code",
   "execution_count": 24,
   "id": "9ec79d1a",
   "metadata": {
    "tags": []
   },
   "outputs": [
    {
     "name": "stdout",
     "output_type": "stream",
     "text": [
      "Starting YBE compression...\n",
      "----------------------------------\n",
      "Step:  0 , overlap:  0.9999999999999992\n",
      "----------------------------------\n",
      "Step:  10 , overlap:  0.9995027329509395\n",
      "----------------------------------\n",
      "Step:  20 , overlap:  0.999514506617512\n",
      "----------------------------------\n",
      "Step:  30 , overlap:  0.9995154730929722\n",
      "----------------------------------\n",
      "Step:  40 , overlap:  0.9995120048664665\n",
      "----------------------------------\n",
      "YBE compression completed\n"
     ]
    }
   ],
   "source": [
    "ybe_params = []\n",
    "print(\"Starting YBE compression...\")\n",
    "\n",
    "for (t_step,sim_t) in enumerate(ybe_ts):\n",
    "\n",
    "    # Create the optimization circuit\n",
    "    # Define the left- hand circuit U_T(t)|110>\n",
    "    l_ansatz   = QuantumCircuit(3)\n",
    "    l_ansatz.x([1,2])\n",
    "    l_ansatz   = l_ansatz.compose(Heisenberg_Trotter_compressed(num_qubits=3,trotter_steps=4,t=t,target_time=sim_t))\n",
    "    \n",
    "    # Define the righ-hand circuit U_{YBE}(theta_t)|110>\n",
    "    r_ansatz   = QuantumCircuit(3)\n",
    "    r_ansatz.x([1,2])\n",
    "    r_ansatz   = r_ansatz.compose(Heisenberg_YBE_variational(ybe_params_vec))\n",
    "    # Create the binding for the parameters\n",
    "    r_circ     = r_ansatz.assign_parameters({ybe_params_vec: ybe_params_vec})\n",
    "\n",
    "    total_circ = r_circ+l_ansatz.inverse()\n",
    "    state_wfn  = expectation.convert(zero_prj @ StateFn(total_circ))\n",
    "\n",
    "\n",
    "    # Initialize step-quantities\n",
    "    count          = 0\n",
    "    max_ovp        = 0.01\n",
    "    new_parameters = ybe_parameters\n",
    "\n",
    "    # Set the initial values of the moving averages for the ADAM optimizer \n",
    "    m = np.zeros(num_parameters)\n",
    "    v = np.zeros(num_parameters)\n",
    "    \n",
    "    # Optimize the parameters for #opt_step and up to opt_ths\n",
    "    while max_ovp < opt_ths and count < opt_steps:\n",
    "        \n",
    "        count = count +1 \n",
    "\n",
    "        # Measure energy and gradient\n",
    "        E,g = ybe_overlap_and_gradient(ybe_params_vec,state_wfn,new_parameters,sampler)\n",
    "\n",
    "        # Update the parameters using the evaluated gradient and ADAM optimizer\n",
    "        meas_grad      = np.asarray(g)\n",
    "        new_parameters = np.asarray(adam_gradient(new_parameters,count,m,v,meas_grad))\n",
    "\n",
    "        # Save the best set of parameters found for each time-step\n",
    "        if E > max_ovp:\n",
    "            max_ovp        = E\n",
    "            ybe_parameters = new_parameters\n",
    "    \n",
    "\n",
    "    ybe_params.append(list(ybe_parameters))\n",
    "    # Update parameters\n",
    "    if t_step%10 == 0:\n",
    "        print('----------------------------------')\n",
    "        print(\"Step: \",t_step,\", overlap: \" ,max_ovp)\n",
    "\n",
    "print('----------------------------------')\n",
    "print(\"YBE compression completed\")"
   ]
  },
  {
   "cell_type": "markdown",
   "id": "ea1f95b5",
   "metadata": {},
   "source": [
    "Now that the optimization is finished, we want to compute the overlap with the target state $|110\\rangle$ at every time $t$:"
   ]
  },
  {
   "cell_type": "code",
   "execution_count": 25,
   "id": "c07ccec4",
   "metadata": {},
   "outputs": [],
   "source": [
    "def ybe_probs_target(target,ybe_circ,param_list):\n",
    "    \n",
    "    '''\n",
    "    A function to compute the probability of being in a target state given a YBE circuit.\n",
    "    \n",
    "    Args:\n",
    "        - target     : the target state\n",
    "        - ybe_circ   : Qiskit parameterized QuantumCircuit\n",
    "        - param_list : the list of different parameters\n",
    "        \n",
    "    Returns:\n",
    "        The list of probabilities to be in the target state\n",
    "    '''\n",
    "\n",
    "    ovlp_list = []\n",
    "    \n",
    "    for params in param_list:\n",
    "        # Create the circuit\n",
    "        circ   = QuantumCircuit(3)\n",
    "        circ.x([1,2])\n",
    "        circ   = circ.compose(ybe_circ(params))\n",
    "        # Extract the wavefunction at time t\n",
    "        wfn_t  = CircuitStateFn(circ)\n",
    "        # Evaluate the overlap with the target state\n",
    "        ovlp_t = np.abs((~target@wfn_t).eval())**2\n",
    "\n",
    "        ovlp_list.append(ovlp_t)\n",
    "\n",
    "    return ovlp_list"
   ]
  },
  {
   "cell_type": "code",
   "execution_count": 26,
   "id": "e0fd4956",
   "metadata": {},
   "outputs": [],
   "source": [
    "probs_110_ybe  = ybe_probs_target(One^One^Zero,Heisenberg_YBE_variational,ybe_params)"
   ]
  },
  {
   "cell_type": "code",
   "execution_count": 27,
   "id": "65dd6c26",
   "metadata": {},
   "outputs": [
    {
     "data": {
      "image/png": "[encoded data removed]",
      "text/plain": [
       "<Figure size 432x288 with 1 Axes>"
      ]
     },
     "metadata": {
      "needs_background": "light"
     },
     "output_type": "display_data"
    }
   ],
   "source": [
    "## Now plot the exact simulation, the Trotter compressed and the YBE equivalent\n",
    "plt.plot(ts, probs_110_exact,linestyle=\"dashed\",color=\"black\",label=\"Exact\")\n",
    "plt.plot(ts, probs_110_trott_c,color=\"C0\",label=\"Trotter compressed\")\n",
    "plt.plot(ybe_ts, probs_110_ybe,color=\"C1\",marker=\".\",linestyle=\"\",label=\"YBE compression\",markersize=8)\n",
    "plt.xlabel('time')\n",
    "plt.ylabel(r'probability of state $|110\\rangle$')\n",
    "plt.title(r'YBE comparison')\n",
    "plt.legend()\n",
    "plt.grid()\n",
    "plt.show()"
   ]
  },
  {
   "cell_type": "markdown",
   "id": "c4687e1e",
   "metadata": {},
   "source": [
    "As can be seen, at every time $t$ we are able to find a set of parameters that makes the YBE compressed circuit with $15$ equivalent to the $24$ CNOTs Trotter circuit.\n",
    "\n",
    "From this moment on, we will be using this circuit for the challenge."
   ]
  },
  {
   "cell_type": "markdown",
   "id": "697be5a2",
   "metadata": {},
   "source": [
    "## 2.3 Projected - Variational Quantum Dynamics (pVQD)  <a class=\"anchor\" id=\"23-projected-variational-quantum-dynamics-pvqd\"></a> "
   ]
  },
  {
   "cell_type": "markdown",
   "id": "8b5ba00f",
   "metadata": {},
   "source": [
    "We showed that the YBE circuit is equivalent to the Trotter circuit with 4 Trotter steps.\n",
    "For this reason, we will have the same accuracy.\n",
    "\n",
    "We want to increase the representation accuracy of our circuit without increasing the number of gates, that would add more and more noise due to the high error rates.\n",
    "\n",
    "To this end, we introduce the projected - Variational Quantum Dynamics (pVQD) algorithm \\[8\\]. \n",
    "This method is used to approximate variationally the time evolution of quantum system on quantum computers.\n",
    "\n",
    "We will use it in a slightly different way: instead of considering a generic variational ansatz, we will use the circuit obtained using the YBE compression and optimize its parameters to improve the accuracy of the simulation, not only for the final time $t=\\pi$, but also for the whole simulation.\n",
    "\n",
    "We highlight that the same technique can be used on the 24 CNOTs Trotterization, with the same results.\n",
    "However, on hardware the number of CNOTs used will make a big difference on the final fidelity. \n",
    "\n",
    "We proceed illustrating the algorithm briefly:\n",
    "\n",
    " 1. we consider a total simulation time `target_time` and divide it into many discrete time steps of length $dt$\n",
    " \n",
    " 2. for every time step $t$ we want to minimize the cost function \n",
    " $$\n",
    " L = \\frac{1-|\\langle 110|U^{\\dagger}_{YBE}(\\theta_t +d\\theta)U_{T}(dt)U_{YBE}(\\theta_t)|110\\rangle|^2}{dt^2}\n",
    " $$ \n",
    "    by optimizing $d\\theta$ and, therefore, the overlap in the numerator\n",
    " \n",
    " 3. we use again the compute-uncompute method, preparing $U^{\\dagger}_0U^{\\dagger}_{YBE}(\\theta_t +d\\theta)U_{T}(dt)U_{YBE}(\\theta_t)U_0|000\\rangle$ and measuring $P_0$ as in the YBE compression\n",
    " \n",
    " 4. we use the parameter-shift rule to measure the gradient and optimize $d\\theta$.\n",
    " \n",
    " 5. Once the cost function $L$ has converged with $d\\theta_{opt}$, we can proceed to the next time step using     $\\theta_{t+1} = \\theta_t + d\\theta_{opt}$.\n",
    "\n",
    "A sketch of the algorithm from the paper can be found below (here $w = \\theta$, but we kept $\\theta$ for consistency)"
   ]
  },
  {
   "cell_type": "markdown",
   "id": "23b1f307",
   "metadata": {},
   "source": [
    "![pvqd_sketch](images/pvqd_sketch_minimized.png)"
   ]
  },
  {
   "cell_type": "markdown",
   "id": "615efdab",
   "metadata": {},
   "source": [
    "We note that we are not modifying the Trotter-YBE circuit, instead we are optimizing the same gates in order to make the circuit contain a more accurate state.\n",
    "\n",
    "---\n",
    "\\[8\\] S. Barison et al., *An efficient quantum algorithm for the time evolution of parameterized circuits*, [Quantum 5, 512](https://doi.org/10.22331/q-2021-07-28-512)"
   ]
  },
  {
   "cell_type": "markdown",
   "id": "31d478ec",
   "metadata": {},
   "source": [
    "As for the YBE compression, we need a function to compute the overlap and its gradient.\n",
    "\n",
    "The function will be very similar to the old one, with the excpetion that now both the left- and the right-hand circuits will contain parameters."
   ]
  },
  {
   "cell_type": "code",
   "execution_count": 28,
   "id": "a24b5c6a",
   "metadata": {},
   "outputs": [],
   "source": [
    "def pvqd_overlap_and_gradient(θ_l,θ_r,state_wfn,θ_t,dθ,sampler):\n",
    "    \n",
    "    '''\n",
    "   This function computes the overlap between the wavefunction obtained with 4 Trotter steps at time t\n",
    "   and the YBE compressed circuit.\n",
    "   It also computes the gradient with the respect to the YBE parameters, using the parameter-shift rule\n",
    "    \n",
    "    Args:\n",
    "        - θ_l        : Qiskit ParameterVector for the left-hand circuit, to bind θ_t+dθ parameters\n",
    "        - θ_r        : Qiskit ParameterVector for the right-hand circuit, to bind θ_t parameters\n",
    "        - state_wfn  : StateFn P_0 @ |ψ> converted by Qiskit Expectator\n",
    "        - θ_t        : the array of parameters for U_{YBE}(θ_t)\n",
    "        - dθ         : the shift of the parameters between θ_t and θ_{t+1}, to be optimized\n",
    "        - sampler    : Qiskit CircuitSampler to sample from the circuit created given the QuantumInstance\n",
    "        \n",
    "    Returns:\n",
    "        - Overlap between U_{YBE}(θ_t+dθ)|110> and U_T(dt)U_{YBE}(θ_t)|110>\n",
    "        - Gradient with respect to dθ\n",
    "    '''\n",
    "\n",
    "    nparameters = len(θ_t)\n",
    "    # build dictionary of parameters to values\n",
    "    # {left[0]: parameters[0], .. ., right[0]: parameters[0] + shift[0], ...}\n",
    "    # First create the dictionary for overlap\n",
    "    values_dict = [dict(zip(θ_r[:] + θ_l[:], θ_t.tolist() + (θ_t + dθ).tolist()))]\n",
    "\n",
    "\n",
    "    # Then the values for the gradient\n",
    "    for i in range(nparameters):\n",
    "        values_dict.append(dict(zip(θ_r[:] + θ_l[:], θ_t.tolist() + (θ_t + dθ + ei(i,nparameters)*np.pi/2.0).tolist())))\n",
    "        values_dict.append(dict(zip(θ_r[:] + θ_l[:], θ_t.tolist() + (θ_t + dθ - ei(i,nparameters)*np.pi/2.0).tolist())))\n",
    "\n",
    "    # Now evaluate the circuits with the parameters assigned\n",
    "\n",
    "    results = []\n",
    "\n",
    "    for values in values_dict:\n",
    "        sampled_op = sampler.convert(state_wfn,params=values)\n",
    "\n",
    "        mean  = sampled_op.eval().real\n",
    "        results.append(mean)\n",
    "\n",
    "\n",
    "    g = np.zeros(nparameters)\n",
    "    \n",
    "    # The first element in the results array is the overlap\n",
    "    E = results[0]\n",
    "    \n",
    "    # Parameter shift rule to evaluate the gradient components\n",
    "    for i in range(nparameters):\n",
    "        rplus  = results[1+2*i]\n",
    "        rminus = results[2+2*i]\n",
    "        g[i] = (rplus-rminus)/2.0\n",
    "\n",
    "    return E,g "
   ]
  },
  {
   "cell_type": "code",
   "execution_count": 29,
   "id": "c6dc3854",
   "metadata": {},
   "outputs": [],
   "source": [
    "# As before, we create the QuantumInstance to run the circuit on the simulator\n",
    "# and use it to initialize the expectator and the sampler\n",
    "backend       = Aer.get_backend('statevector_simulator')\n",
    "instance      = QuantumInstance(backend=backend)\n",
    "expectation   = PauliExpectation()\n",
    "sampler       = CircuitSampler(instance)"
   ]
  },
  {
   "cell_type": "code",
   "execution_count": 33,
   "id": "b60bb47d",
   "metadata": {
    "scrolled": true
   },
   "outputs": [],
   "source": [
    "# Initialize parameters and ParameterVector for the pVQD\n",
    "θ_t            = np.zeros(15)\n",
    "num_parameters = len(θ_t)\n",
    "dθ             = 0.01*np.ones(15)\n",
    "θ_params_vec   = ParameterVector('θ',num_parameters)\n",
    "\n",
    "# Different ParameterVector for left and right circuit\n",
    "θ_l            = ParameterVector('l', num_parameters)\n",
    "θ_r            = ParameterVector('r', num_parameters)\n",
    "\n",
    "# Define the evolution time and the time step\n",
    "dt             = np.pi/60\n",
    "n_steps        = 60\n",
    "\n",
    "# Array of time points for the pVQD\n",
    "pvqd_ts        = [i*dt for i in range(n_steps+1)]\n",
    "\n",
    "# Parameter for Trotter circuit\n",
    "t              = Parameter(\"t\")\n",
    "\n",
    "# Number of optimisation steps and threshold\n",
    "max_iter       = 100\n",
    "pvqd_ths       = 0.9999\n",
    "\n",
    "# Now prepare the state in order to compute the overlap and its gradient\n",
    "# First use a single compressed Trotter step\n",
    "U_dt           = Heisenberg_Trotter_compressed(3,1,t,dt)\n",
    "\n",
    "# The YBE circuit for the pVQD algorithm, initalizing the state at |110>\n",
    "ansatz         = QuantumCircuit(3)\n",
    "ansatz.x([1,2])\n",
    "ansatz         = ansatz.compose(Heisenberg_YBE_variational(θ_params_vec))\n",
    "\n",
    "# Then, create the total circuit\n",
    "l_circ         = ansatz.assign_parameters({θ_params_vec: θ_l})\n",
    "r_circ         = ansatz.assign_parameters({θ_params_vec: θ_r})\n",
    "zero_prj       = StateFn(projector_zero(U_dt.num_qubits),is_measurement = True)\n",
    "total_circ     = r_circ.compose(U_dt)+l_circ.inverse()\n",
    "state_wfn      = expectation.convert(zero_prj @ StateFn(total_circ))"
   ]
  },
  {
   "cell_type": "markdown",
   "id": "3bf01485",
   "metadata": {},
   "source": [
    "Unlike the YBE equivalence optimization, this cell is fast to execute (less than 2 minutes)."
   ]
  },
  {
   "cell_type": "code",
   "execution_count": 34,
   "id": "7ebbcd88",
   "metadata": {},
   "outputs": [
    {
     "name": "stdout",
     "output_type": "stream",
     "text": [
      "Running the pVQD algorithm\n",
      "----------------------------------\n",
      "Time slice: 0\n",
      "pVQD overlap:  0.9999002127826854\n",
      "----------------------------------\n",
      "Time slice: 15\n",
      "pVQD overlap:  0.9999091642321721\n",
      "----------------------------------\n",
      "Time slice: 30\n",
      "pVQD overlap:  0.9999054148100901\n",
      "----------------------------------\n",
      "Time slice: 45\n",
      "pVQD overlap:  0.9999051049885351\n",
      "pVQD: Done, parameter list created\n"
     ]
    }
   ],
   "source": [
    "print(\"Running the pVQD algorithm\")\n",
    "\n",
    "pvqd_params = []\n",
    "pvqd_params.append(list(θ_t))\n",
    "\n",
    "\n",
    "for i in range(n_steps):\n",
    "    \n",
    "    if i%15 == 0:\n",
    "        print('----------------------------------')\n",
    "        print(\"Time slice:\",i)\n",
    "\n",
    "    count = 0\n",
    "    E     = 0.01\n",
    "\n",
    "    # Set the initial values of the moving averages for the ADAM optimizer\n",
    "    m = np.zeros(num_parameters)\n",
    "    v = np.zeros(num_parameters)\n",
    "\n",
    "    while E < pvqd_ths and count < max_iter:\n",
    "        \n",
    "        count = count +1 \n",
    "\n",
    "        # Measure energy and gradient\n",
    "        E,g = pvqd_overlap_and_gradient(θ_l,θ_r,state_wfn,θ_t,dθ,sampler)\n",
    "       \n",
    "        meas_grad = np.asarray(g)\n",
    "        dθ        = np.asarray(adam_gradient(dθ,count,m,v,meas_grad))\n",
    "\n",
    "\n",
    "    # Print the current overlap\n",
    "    if i%15 == 0:\n",
    "        print(\"pVQD overlap: \",E)\n",
    "    \n",
    "    #Update parameters\n",
    "    θ_t = θ_t + dθ\n",
    "    pvqd_params.append(list(θ_t))\n",
    "    \n",
    "print(\"pVQD: Done, parameter list created\")"
   ]
  },
  {
   "cell_type": "markdown",
   "id": "bb1ddeaa",
   "metadata": {},
   "source": [
    "From the pVQD routine we get a list of parameters values.\n",
    "\n",
    "What we are interested in is the last set of parameters, corresponding to the evolution of the wavefunction at the final time $t=\\pi$.\n",
    "\n",
    "For completeness, we will also plot the probability of getting $|110\\rangle$ throught the overall evolution."
   ]
  },
  {
   "cell_type": "code",
   "execution_count": 35,
   "id": "80c4359e",
   "metadata": {},
   "outputs": [],
   "source": [
    "probs_110_pvqd = ybe_probs_target(One^One^Zero,Heisenberg_YBE_variational,pvqd_params)"
   ]
  },
  {
   "cell_type": "code",
   "execution_count": 36,
   "id": "faafcaf6",
   "metadata": {},
   "outputs": [
    {
     "data": {
      "image/png": "[encoded data removed]",
      "text/plain": [
       "<Figure size 432x288 with 1 Axes>"
      ]
     },
     "metadata": {
      "needs_background": "light"
     },
     "output_type": "display_data"
    }
   ],
   "source": [
    "plt.plot(ts, probs_110_exact,linestyle=\"dashed\",color=\"black\",label=\"Exact\")\n",
    "plt.plot(pvqd_ts,probs_110_pvqd,label=\"pVQD\",marker=\".\",color=\"C0\")\n",
    "for (i,n) in enumerate(probs_110_trott.keys()):\n",
    "    plt.plot(ts, probs_110_trott[n],color=\"C\"+str(i+1),label=str(n)+\" steps\",linewidth=2,linestyle=\"dotted\")\n",
    "\n",
    "plt.xlabel('time')\n",
    "plt.ylabel(r'probability of state $|110\\rangle$')\n",
    "plt.legend(loc=\"upper center\",bbox_to_anchor=(0.5, 1.35),ncol=3,fancybox=True)\n",
    "plt.grid()\n",
    "plt.show()"
   ]
  },
  {
   "cell_type": "markdown",
   "id": "70f31790",
   "metadata": {},
   "source": [
    "As can be seen, we have an improvement through the whole simulation, not just for the final state.\n",
    "At $t \\sim 1.5$ the Trotter approximation with $4$ steps starts detaching from the exact simulation, while the pVQD stay closer, with performances comparable to the 12 Trotter steps approximation.\n",
    "\n",
    "We highlight that this technique is completely general: given a Trotter step $U(dt)$ we can compress its repeated application into a variational circuit of choice.\n",
    "\n",
    "Moreover, this technique can also be performed entirely on hardware, as shown in \\[9\\].\n",
    "\n",
    "---\n",
    "\\[9\\] N. F. Berthusen et al., *Quantum dynamics simulations beyond the coherence time on NISQ hardware by variational Trotter compressions*, [arXiv:2112.12654](https://arxiv.org/abs/2112.12654)"
   ]
  },
  {
   "cell_type": "code",
   "execution_count": 37,
   "id": "c1b94732",
   "metadata": {},
   "outputs": [
    {
     "data": {
      "text/plain": [
       "[0.638201706904138,\n",
       " 0.6000000001716403,\n",
       " 0.6382017069038879,\n",
       " 3.008803486262198,\n",
       " -3.086920031778619,\n",
       " 0.47095314625605,\n",
       " 2.1631495814111137,\n",
       " 3.480816131205721,\n",
       " -2.0741264476111265,\n",
       " 1.23302069446252,\n",
       " 3.127510077367923,\n",
       " 1.5937443398205002,\n",
       " 6.107319842333266,\n",
       " 3.0177717821835945,\n",
       " -3.249018054808095]"
      ]
     },
     "execution_count": 37,
     "metadata": {},
     "output_type": "execute_result"
    }
   ],
   "source": [
    "#Here we show the parameters that we are going to use \n",
    "pvqd_final_params = pvqd_params[-1]\n",
    "pvqd_final_params"
   ]
  },
  {
   "cell_type": "code",
   "execution_count": 38,
   "id": "745fe013",
   "metadata": {},
   "outputs": [],
   "source": [
    "# Dump all the parameters and the final optimal configuration in a file using json\n",
    "log_data = {}\n",
    "log_data[\"pvqd_params\"]       = pvqd_params\n",
    "log_data[\"pvqd_final_params\"] = pvqd_final_params\n",
    "\n",
    "with open(\"pvqd_logfile.dat\",\"w\") as f:\n",
    "    json.dump(log_data,f)"
   ]
  },
  {
   "cell_type": "markdown",
   "id": "1eac92d7",
   "metadata": {},
   "source": [
    "## 2.4 Error mitigation <a class=\"anchor\" id=\"24-error-mitigation\"></a>"
   ]
  },
  {
   "cell_type": "markdown",
   "id": "3795d55d",
   "metadata": {},
   "source": [
    "To squeeze the best possible performance out of the current generation of quantum computers researchers\n",
    "have come up with a variety of different methods to reduce or mitigate the errors that are accumulated during the computation. \n",
    "\n",
    "In the following we will use three different strategies to help maximizing the final fidelity that is obtained on the quantum computer."
   ]
  },
  {
   "cell_type": "markdown",
   "id": "3d3c3709",
   "metadata": {},
   "source": [
    "### 2.4.1 Qubit routing <a class=\"anchor\" id=\"241--qubit-routing\"></a>"
   ]
  },
  {
   "cell_type": "markdown",
   "id": "aad8ede6",
   "metadata": {},
   "source": [
    "When researchers usually design a quantum algorithm they treat the qubits as ideal, noise-free qubits that can be arbitrarily entangled with each other. \n",
    "This is however far from reality, on a real quantum computer every qubit is slightly different and gate errors vary quite a lot between different qubits. \n",
    "Moreover, not all qubits can directly be entangled with each other. Only the qubits that are physically coupled to each other can directly be entangled. \n",
    "In order to entangle qubits that are far apart on the hardware chip, the states between the intermediate qubits have to be swapped with costly SWAP gates (see \\[9\\] for an overview of these concepts). \n",
    "\n",
    "Luckily, in our challenge we need to entangle qubits $1$, $3$ and $5$ which on the Jakarta chip are all directly physically coupled. So we do not need any SWAPs!\n",
    "\n",
    "\n",
    "\n",
    "Looking at the callibration data from [Jakarta](https://quantum-computing.ibm.com/services?services=systems&system=ibmq_jakarta) we can see that the two qubit error rates are lower between qubit $3$ and $5$ than between $1$ and $3$.\n",
    "We can use this knowledge to our advantage! \n",
    "\n",
    "Due to the YBE compression that we used we have an uneven number of CNOT gates acting on the two qubit pairs. We deliberately choose to use the YBE such that there \n",
    "are more CNOT acting on $3$ and $5$ than on $1$ and $3$, since it gives less errors.\n",
    "\n",
    "![jakarta](images/jakarta.png)\n",
    "\n",
    "---\n",
    "\\[9\\] A. Cowtan et al., *On the qubit routing problem*, [arXiv:1902.08091](https://arxiv.org/abs/1902.08091)"
   ]
  },
  {
   "cell_type": "markdown",
   "id": "ed8ba5ec",
   "metadata": {},
   "source": [
    "### 2.4.2 Zero Noise Extrapolation (ZNE) <a class=\"anchor\" id=\"242-zero-noise-extrapolation-zne\"></a>"
   ]
  },
  {
   "cell_type": "markdown",
   "id": "dd9b01a3-b1be-4da3-a46c-8f920b949847",
   "metadata": {},
   "source": [
    "Zero Noise Extrapolation (ZNE) \\[11, 12, 13\\] is a common tool to estimate what the output would be on a quantum computer without any noise. \n",
    "To do this, the circuit depth is extended by unfolding gates, $G \\rightarrow G G^\\dagger G$, so in essence simply inserting the identity (since $G^\\dagger G = I$).\n",
    "The circuit remains the same this way, though the noise level is increased. \n",
    "This way we can obtain results for different noise levels and extrapolate to the ideal zero-noise case. \n",
    "\n",
    "This prodecure is readily implemented in the popular error mitgation framework [Mitiq](https://mitiq.readthedocs.io/en/stable/from). \n",
    "In particular, we will unfold the circuit $1$, $2$, $3$, $4$ and $5$ times and extrapolate the noise level to zero by fitting the counts that are obtained in the tomography to a third order polynomial. \n",
    "Written out as an equation we roughly have \n",
    "$$\n",
    "\\text{counts}_{\\text{bitstring}}(x)=a+bx+cx^2+dx^3,\n",
    "$$ \n",
    "where $x$ is the noise level that is controlled by the number of unfoldings that are used. Once the paramters $a$, $b$ ,$c$ and $d$ are fitted, the expression is evalutated for the zero noise level ($x=0$). Which is then the counts that we use for the fidelity estimation. \n",
    "\n",
    "---\n",
    "\\[11\\] Y. Li and S. C. Benjamin, *Efficient variational quantum simulator incorporating active error minimisation*, [Phys. Rev. X 7, 021050](https://journals.aps.org/prx/abstract/10.1103/PhysRevX.7.021050)\n",
    "\n",
    "\\[12\\] K. Temme, S. Bravyi and J. M. Gambetta , *Error mitigation for short-depth quantum circuits*, [Phys. Rev. Lett. 119, 180509](https://journals.aps.org/prl/abstract/10.1103/PhysRevLett.119.180509)\n",
    "\n",
    "\\[13\\] A. Kandala et al., *Extending the computational reach of a noisy superconducting quantum processor*, [Nature 567, 491-495 (2019)](https://www.nature.com/articles/s41586-019-1040-7)"
   ]
  },
  {
   "cell_type": "code",
   "execution_count": null,
   "id": "193366b2",
   "metadata": {},
   "outputs": [],
   "source": [
    "## Mitiq import and helper functions\n",
    "## WARNING: Use Mitiq version >= 0.11.1, this is required to work with the X gates in the circuit\n",
    "import re\n",
    "import copy\n",
    "from mitiq import zne\n",
    "from itertools import chain\n",
    "from qiskit.result import Result\n",
    "from qiskit.result.models import ExperimentResult\n",
    "from qiskit.result.models import ExperimentResultData\n",
    "from qiskit.result.models import QobjExperimentHeader"
   ]
  },
  {
   "cell_type": "code",
   "execution_count": 73,
   "id": "f3f4228a",
   "metadata": {},
   "outputs": [],
   "source": [
    "# The gate unfoldings that we use for ZNE\n",
    "scale_factors = [1.0, 2.0, 3.0, 4.0, 5.0]"
   ]
  },
  {
   "cell_type": "markdown",
   "id": "600d1da3",
   "metadata": {},
   "source": [
    "At first, we create a function to perform Zero Noise Extrapolation (ZNE) on results obtainted from either execution on simulated or real hardware."
   ]
  },
  {
   "cell_type": "code",
   "execution_count": 74,
   "id": "53430e35",
   "metadata": {},
   "outputs": [],
   "source": [
    "def zero_noise_extrapolation(job, tomo_circs, shots, scale_factors, zne_order):\n",
    "    \n",
    "    '''\n",
    "    This function takes the result of the unfolded circuits and performs\n",
    "    Zero Noise Extrapolation (ZNE) on the counts of the different measurement \n",
    "    outcomes, i.e. the bitstrings.\n",
    "    \n",
    "    Args:\n",
    "        - result: Qiskit result object that that was obtained by executing the unfolded circuits\n",
    "        - tomo_circs: The quantum state tomography cirucits\n",
    "        - shots: Number of measurements \n",
    "        - scale_factors: List of integers that controls the unfoldings used for ZNE\n",
    "        - zne_order: Order of the polynomial that is used for extrapolation to the zero-noise level\n",
    "        \n",
    "    Returns:\n",
    "        Qiskit Result object that contains the ZNE counts, the tomography circuits\n",
    "    '''\n",
    "        \n",
    "    result = job.result()\n",
    "        \n",
    "    # Create ordered list of all bitstrings that are observed\n",
    "    count_list = result.get_counts()\n",
    "    ordered_bitstrings = dict(sorted(count_list[0].items()))\n",
    "    zne_result_list = []\n",
    "\n",
    "    # Loop over the tomography circuits and perform ZNE on the counts for each circuit\n",
    "    for i in range(len(tomo_circs)):\n",
    "        counts_dict = {}\n",
    "\n",
    "        # Loop over the results of the unfolded circuits and collect the data in the correct form\n",
    "        for key in ordered_bitstrings.keys():\n",
    "            counts_list_zne = []\n",
    "            for count in count_list[i*len(scale_factors):len(scale_factors)*(i+1)]:\n",
    "                counts_list_zne.append(count[key])\n",
    "\n",
    "            # Here we extrapolate the counts to zero noise and round to the closest integer.\n",
    "            # This is done using a polynomial of order \"zne_order\" using the mitiq function PolyFactory \n",
    "            zne_counts_value = int(zne.PolyFactory.extrapolate(scale_factors, counts_list_zne, order=zne_order)) \n",
    "            \n",
    "            # The ZNE result can very occationally be slightly negative.\n",
    "            # Since negative counts are unphysical we set them to zero.  \n",
    "            if zne_counts_value < 0:\n",
    "                zne_counts_value = 0\n",
    "            counts_dict[key] = zne_counts_value\n",
    "        zne_result_list.append(counts_dict)\n",
    "        \n",
    "    # To work with the StateTomographyFitter we need to put the result into a Qiskit Result() object otherwise we get errors\n",
    "    name_list = [circ.name for circ in tomo_circs]\n",
    "    results_tmp = [[ExperimentResult(shots=shots, success=True, data=ExperimentResultData(counts=result_i), header=QobjExperimentHeader(name=name_i))] for (name_i, result_i) in zip(name_list, zne_result_list)]\n",
    "    results = [Result(backend_name=\"zne\", backend_version=\"zne\", qobj_id='0', job_id='0', success=True, results=result_i) for result_i in results_tmp]\n",
    "\n",
    "    return results\n",
    "    "
   ]
  },
  {
   "cell_type": "markdown",
   "id": "4c9b7921",
   "metadata": {},
   "source": [
    "For execution on real hardware submitted circuits often spend a considerable time in a queue. It is therefore convenient to split the execution into two functions:\n",
    "\n",
    "- the `zne_launch` launches the jobs on simulated/real hardware and saves the `JOB_ID` and `JOB` object associated to it\n",
    "- the `zne_collect` collects the jobs using the corresponding `JOB_ID` or `JOB` list passed to it and performs ZNE on the counts. \n",
    "\n",
    "The `JOB_ID` list is used when real hardware was used while the `JOB` list is used when the circuit was executed on a simulator.\n",
    "\n",
    "With this separation, we can submit the job without being forced to keep the notebook running for as long as the queue of the hardware requires."
   ]
  },
  {
   "cell_type": "code",
   "execution_count": 75,
   "id": "779c4636",
   "metadata": {},
   "outputs": [],
   "source": [
    "def zne_launch(tomo_circs, backend, optimization_level, shots, scale_factors):\n",
    "\n",
    "    '''\n",
    "    This function launches the ZNE tomography circuits on real or simultated quantum hardware.\n",
    "    \n",
    "    Args:\n",
    "        - tomo_circs: The quantum state tomography cirucits\n",
    "        - backend: Backend that is used for the execution (can be real hardware of simulated hardware)\n",
    "        - optimization_level: Level of circuit optimization that is done before execution on hardware\n",
    "        - shots: Number of measurements \n",
    "        - scale_factors: List of integers that controls the unfoldings used for ZNE\n",
    "        \n",
    "    Returns:\n",
    "        Job id of the launched job and the job\n",
    "    '''\n",
    "\n",
    "    # Create list of globally (all gates) unfolded circuits using Mitiq\n",
    "    noise_scaled_circuits = [[zne.scaling.fold_global(circ, s) for s in scale_factors] for circ in tomo_circs] \n",
    "    noise_scaled_circuits = list(chain(*noise_scaled_circuits)) \n",
    "    \n",
    "    # Send circuits to real hardware and retrive the job id\n",
    "    job = execute(noise_scaled_circuits, backend=backend, optimization_level=optimization_level, shots=shots)\n",
    "    job_id = job.job_id()\n",
    "\n",
    "    print(\"JOB \"+str(job_id)+\" SUBMITTED\")\n",
    "    \n",
    "    return str(job_id), job"
   ]
  },
  {
   "cell_type": "code",
   "execution_count": 76,
   "id": "5c261897",
   "metadata": {},
   "outputs": [],
   "source": [
    "def zne_collect(real_hardware, backend, tomo_circs, zne_order, shots, scale_factors, job=None, jobid=None):\n",
    "\n",
    "    '''\n",
    "    This function retrives the results of the ZNE state tomography circuits after execution on\n",
    "    real hardware and performs ZNE on the counts for the different bitstrings that are obtained.\n",
    "    For the ZNE we use a polynomial of order \"zne_order\".\n",
    "    \n",
    "    Args:\n",
    "        - real_hardware: Boolean variable so define if a real or simulated hardware was used\n",
    "        - tomo_circs : The quantum state tomography cirucits\n",
    "        - zne_order: Order of the polynomial that is used for extrapolation to the zero-noise level\n",
    "        - shots: Number of measurements \n",
    "        - scale_factors: List of integers that controls the unfoldings used for ZNE\n",
    "        \n",
    "    Returns:\n",
    "        Qiskit Result object that contains the ZNE counts, the tomography circuits\n",
    "    '''\n",
    "    \n",
    "    if real_hardware:\n",
    "        # Retrive the results from IBM     \n",
    "        job = backend.retrieve_job(jobid)\n",
    "            \n",
    "    # Execute ZNE\n",
    "    results = zero_noise_extrapolation(job, tomo_circs, shots, scale_factors, zne_order)\n",
    "    \n",
    "    return results"
   ]
  },
  {
   "cell_type": "markdown",
   "id": "5635e163",
   "metadata": {},
   "source": [
    "### 2.4.3 Removal of unphysical bitstrings <a class=\"anchor\" id=\"243-removal-of-unphysical-bitstrings\"></a>"
   ]
  },
  {
   "cell_type": "markdown",
   "id": "a2e388b5",
   "metadata": {},
   "source": [
    "There is one last error mitigation that we will use to further improve our results.\n",
    "In particular, we know that for the Heisenberg model $H_{\\text{Heis}}$ the magnetization $M=\\sum_i \\sigma_i^z$ is a conserved quantity. \n",
    "This can be seen from the fact that it commutes with the Hamiltonian \n",
    "\n",
    "$$[H_{\\text{Heis}}, M]=0.$$ \n",
    "The initial state $|110\\rangle$ that we time evolve has a magnetization of $\\langle M \\rangle =-1$ since two spins are in the $1$ state, since \n",
    "\n",
    "$$\\langle 0 | \\sigma_z | 0 \\rangle = 1 \\, \\, \\, \\text{and} \\, \\, \\, \\langle 1 | \\sigma_z | 1 \\rangle = -1 \\, .\n",
    "$$ \n",
    "\n",
    "The magnetization $M$ thus has to be conserved during our time evolution. \n",
    "This allows us to remove some unphysical bitstrings that are obtained due to hardware noise in the tomography (a similar technique was recently used in \\[14\\]). \n",
    "\n",
    "In the state tomography local basis changes (using Clifford gates) are performed to obtain the counts in the $x$, $y$ and $z$-basis.\n",
    "There are two types of circuits for which we can remove unphysical bitstrings:\n",
    "\n",
    "1. The one where **all** qubits are measured in the $z$-basis\n",
    "2. and the ones where **two** qubits are measured in the $z$-basis. \n",
    "   \n",
    "For the first we know that bitstrings with either all qubits in the $1$ state or all qubits in the $0$ state are unphysical since they give a magnetization of $-3$ and $3$, respectively. \n",
    "For the second circuit type we know that for both the qubits that are measured in the $z$-basis the qubits cannot both be in the $0$ state since the remaining qubit that is measured in a different basis, regardless of its state, is not enough to obtain a total magnetization of $-1$. In total there are 7 circuits for which we can set uphysical counts to zero.\n",
    "\n",
    "---\n",
    "\\[14\\] J. Vovrosh and J. Knolle, *Confinement and entanglement dynamics on a digital quantum computer*, [Scientific Reports 11, 11577 (2021)](https://www.nature.com/articles/s41598-021-90849-5#:~:text=Confinement%20describes%20the%20phenomenon%20when,chromodynamics%20(QCD)%20between%20quarks)\n"
   ]
  },
  {
   "cell_type": "code",
   "execution_count": 77,
   "id": "926fc4a5",
   "metadata": {},
   "outputs": [],
   "source": [
    "def remove_unphysical_bitstrings(result):\n",
    "\n",
    "    '''\n",
    "    This function removes the unphysical bitstrings that are obtained in the tomography measurement.\n",
    "    Counts for bitstrings that are not consistent with the conservation of magnetization are set to zero. \n",
    "    \n",
    "    Args:\n",
    "        - result : The Qiskit Result object containing the counts for the state tomography \n",
    "        \n",
    "    Returns:\n",
    "        Qiskit Result object where the unphyiscal counts are set to zero\n",
    "    '''\n",
    "\n",
    "    # Loop over the result that is obtained from the tomography \n",
    "    # and remove the bitstrings that violate the conservation of the magnetization\n",
    "    result_physical = copy.copy(result)\n",
    "    for i in range(len(result_physical)):\n",
    "        name = result_physical[i].results[0].header.name\n",
    "        res = \"\".join(re.findall(\"[XYZ]+\", name))\n",
    "        res_2 = \"\".join(re.findall(\"[Z]+\", res))\n",
    "        \n",
    "        # Set unphysical bitstrings to zero if all qubits are measured in the z-basis\n",
    "        if len(res_2) == 3:\n",
    "            bitstring_1 = res.replace('Z', '0')\n",
    "            bitstring_2 = res.replace('Z', '1')\n",
    "            result_physical[i].results[0].data.counts[bitstring_1] = 0\n",
    "            result_physical[i].results[0].data.counts[bitstring_2] = 0\n",
    "\n",
    "         # Set unphysical bitstrings to zero if two qubits (out of three) are measured in the z-basis\n",
    "        if len(res_2) == 2:    \n",
    "            bitstring = res.replace('Z', '0')\n",
    "            bitstring_1 = bitstring.replace('X', '0')\n",
    "            bitstring_1 = bitstring_1.replace('Y', '0')\n",
    "            bitstring_2 = bitstring.replace('X', '1')\n",
    "            bitstring_2 = bitstring_2.replace('Y', '1')\n",
    "            result_physical[i].results[0].data.counts[bitstring_1] = 0\n",
    "            result_physical[i].results[0].data.counts[bitstring_2] = 0\n",
    "\n",
    "    return result_physical"
   ]
  },
  {
   "cell_type": "markdown",
   "id": "41343a90",
   "metadata": {},
   "source": [
    "# 3 Execution  <a class=\"anchor\" id=\"3-execution\"></a>\n",
    "\n",
    "Finally, after all of this work we are ready to run the circuit and measure the fidelity!"
   ]
  },
  {
   "cell_type": "code",
   "execution_count": 78,
   "id": "2ff485b6",
   "metadata": {},
   "outputs": [],
   "source": [
    "# For convenience we load the pVQD parameters here again.\n",
    "pvqd_file = json.load(open(\"pvqd_logfile.dat\",\"r\"))\n",
    "pvqd_final_params = pvqd_file[\"pvqd_final_params\"]"
   ]
  },
  {
   "cell_type": "code",
   "execution_count": 79,
   "id": "0532584d",
   "metadata": {},
   "outputs": [
    {
     "data": {
      "text/plain": [
       "<qiskit.circuit.instructionset.InstructionSet at 0x7fabbdc27fa0>"
      ]
     },
     "execution_count": 79,
     "metadata": {},
     "output_type": "execute_result"
    }
   ],
   "source": [
    "# Define the final circuit that is used to compute the fidelity \n",
    "fqr = QuantumRegister(7)\n",
    "fqc = QuantumCircuit(fqr)\n",
    "# Note that in an earlier version of Mitiq, X gates were not supported for unfolding. \n",
    "# Therefore, in earlier hardware runs we had to use Rx(pi), which is iX, the fidelity remains uneffected\n",
    "fqc.x([3, 5]) #  Use Mitiq >= 0.11.1 to put X gates in the initialization circuit\n",
    "fqc.id([0, 1, 2, 4, 6]) # We need to put identities since Mitiq cannot handle unused qubits\n",
    "fqc.append(Heisenberg_YBE_variational(pvqd_final_params), [fqr[1], fqr[3], fqr[5]])"
   ]
  },
  {
   "cell_type": "code",
   "execution_count": 80,
   "id": "5fc5bf9e",
   "metadata": {},
   "outputs": [
    {
     "data": {
      "image/png": "[encoded data removed]",
      "text/plain": [
       "<Figure size 1657.66x927.08 with 1 Axes>"
      ]
     },
     "execution_count": 80,
     "metadata": {},
     "output_type": "execute_result"
    }
   ],
   "source": [
    "# Draw the the circuit for which we will perform full state tomography\n",
    "fqc.decompose().draw(output=\"mpl\")"
   ]
  },
  {
   "cell_type": "code",
   "execution_count": 81,
   "id": "14a457c5-1df6-4994-a843-ef627af5f5d4",
   "metadata": {},
   "outputs": [],
   "source": [
    "## Import functions that are needed for the tomography\n",
    "from qiskit.ignis.verification.tomography import state_tomography_circuits, StateTomographyFitter\n",
    "from qiskit.quantum_info                  import state_fidelity"
   ]
  },
  {
   "cell_type": "code",
   "execution_count": null,
   "id": "70c83ae5-ee16-4288-8d05-b1328c5a70dd",
   "metadata": {},
   "outputs": [],
   "source": [
    "# Load up the IBMQ account\n",
    "provider = IBMQ.load_account()"
   ]
  },
  {
   "cell_type": "code",
   "execution_count": 85,
   "id": "04cc9192",
   "metadata": {},
   "outputs": [],
   "source": [
    "provider = IBMQ.get_provider(hub='ibm-q-community', group='ibmquantumawards', project='open-science-22')\n",
    "jakarta = provider.get_backend('ibmq_jakarta')\n",
    "# Simulated backend based on ibmq_jakarta's device noise profile\n",
    "sim_noisy_jakarta = QasmSimulator.from_backend(provider.get_backend('ibmq_jakarta'))"
   ]
  },
  {
   "cell_type": "code",
   "execution_count": 86,
   "id": "b574702c",
   "metadata": {},
   "outputs": [],
   "source": [
    "# Create the tomography circuits\n",
    "st_qcs = state_tomography_circuits(fqc.decompose(), [fqr[1], fqr[3], fqr[5]])"
   ]
  },
  {
   "cell_type": "markdown",
   "id": "d5ab3637",
   "metadata": {},
   "source": [
    "Finally, the function given in the challenge notebook, to compute the state tomography of the circuit"
   ]
  },
  {
   "cell_type": "code",
   "execution_count": 87,
   "id": "82d77d18",
   "metadata": {},
   "outputs": [],
   "source": [
    "# Compute the state tomography based on the st_qcs quantum circuits and the results from those ciricuits\n",
    "def state_tomo(result, st_qcs):\n",
    "    # The expected final state; necessary to determine state tomography fidelity\n",
    "    target_state = (One^One^Zero).to_matrix()  # DO NOT MODIFY (|q_5,q_3,q_1> = |110>)\n",
    "    # Fit state tomography results\n",
    "    tomo_fitter = StateTomographyFitter(result, st_qcs)\n",
    "    rho_fit = tomo_fitter.fit(method='lstsq')\n",
    "    # Compute fidelity\n",
    "    fid = state_fidelity(rho_fit, target_state)\n",
    "    return fid"
   ]
  },
  {
   "cell_type": "markdown",
   "id": "ea53af83",
   "metadata": {},
   "source": [
    "## 3.1 - On noisy simulator <a class=\"anchor\" id=\"31-noisy-simulator\"></a>\n",
    "\n",
    "First, we test our method using a simulator with the noise model of the Jakarta backend.\n",
    "\n",
    "### 3.1.1 Submit jobs  <a class=\"anchor\" id=\"311-submit-jobs\"></a>"
   ]
  },
  {
   "cell_type": "code",
   "execution_count": 88,
   "id": "effc6815-14bf-4a4b-b3d8-ea44702670c5",
   "metadata": {},
   "outputs": [],
   "source": [
    "# Setting the number of shots and backend \n",
    "shots = 8192\n",
    "backend = sim_noisy_jakarta"
   ]
  },
  {
   "cell_type": "code",
   "execution_count": 89,
   "id": "f2619fcf",
   "metadata": {},
   "outputs": [
    {
     "name": "stdout",
     "output_type": "stream",
     "text": [
      "\n",
      " REPETITION:  0\n",
      "JOB a8f5b0a2-5b2f-4ea5-b4ba-1e5cdf2fb99f SUBMITTED\n",
      "\n",
      " REPETITION:  1\n",
      "JOB 971334cc-4c09-451e-926a-f6d1fa7cfd64 SUBMITTED\n",
      "\n",
      " REPETITION:  2\n",
      "JOB 5a833300-f5aa-4627-8347-a05ca40ad988 SUBMITTED\n",
      "\n",
      " REPETITION:  3\n",
      "JOB 0a2bbef2-9e79-4753-bef5-fc592fde39eb SUBMITTED\n",
      "\n",
      " REPETITION:  4\n",
      "JOB be368cb4-e814-4b64-9aef-bd711b734aae SUBMITTED\n",
      "\n",
      " REPETITION:  5\n",
      "JOB da5ac8de-bd81-4342-9273-852a05aa696a SUBMITTED\n",
      "\n",
      " REPETITION:  6\n",
      "JOB 41baa439-c9c3-47ff-8d59-e364c3ad78a7 SUBMITTED\n",
      "\n",
      " REPETITION:  7\n",
      "JOB 4a425384-3d94-4263-ad1a-0e1d93de9d03 SUBMITTED\n"
     ]
    }
   ],
   "source": [
    "sim_jobs = []\n",
    "sim_reps = 8\n",
    "\n",
    "# Launch the execution of the state tomography circuits\n",
    "for count in range(sim_reps):\n",
    "    print(\"\\n REPETITION: \",count)\n",
    "    jobid, job = zne_launch(tomo_circs=st_qcs,backend=backend,optimization_level=0,\n",
    "                                    shots=shots, scale_factors=scale_factors)\n",
    "    sim_jobs.append(job)"
   ]
  },
  {
   "cell_type": "markdown",
   "id": "30bd2ef7",
   "metadata": {},
   "source": [
    "### 3.1.2 Collect results and compute fidelity <a class=\"anchor\" id=\"312-collect-results-and-compute-fidelity\"></a>"
   ]
  },
  {
   "cell_type": "code",
   "execution_count": 49,
   "id": "9e2d07eb",
   "metadata": {},
   "outputs": [
    {
     "name": "stdout",
     "output_type": "stream",
     "text": [
      "\n",
      "REPETITION:  0\n",
      "\n",
      "REPETITION:  1\n",
      "\n",
      "REPETITION:  2\n",
      "\n",
      "REPETITION:  3\n",
      "\n",
      "REPETITION:  4\n",
      "\n",
      "REPETITION:  5\n",
      "\n",
      "REPETITION:  6\n",
      "\n",
      "REPETITION:  7\n"
     ]
    }
   ],
   "source": [
    "sim_fids = []\n",
    "\n",
    "# Loop over the 8 fidelity measurements, perform error mitigation on the counts \n",
    "# and compute the fidelity for every experiment\n",
    "for count, job in enumerate(sim_jobs):\n",
    "    print(\"\\nREPETITION: \",count)\n",
    "    zne_res = zne_collect(real_hardware=False, backend=backend, jobid=job,tomo_circs=st_qcs,\n",
    "                                             zne_order=3, shots=shots, scale_factors=scale_factors, job=job)\n",
    "    zne_res_physical = remove_unphysical_bitstrings(zne_res)\n",
    "    sim_fids.append(state_tomo(zne_res_physical, st_qcs))"
   ]
  },
  {
   "cell_type": "code",
   "execution_count": 50,
   "id": "b91e159a",
   "metadata": {},
   "outputs": [
    {
     "name": "stdout",
     "output_type": "stream",
     "text": [
      "Noisy simulator state tomography fidelity = 0.9355 ± 0.0100\n"
     ]
    }
   ],
   "source": [
    "# Print the final result\n",
    "print('Noisy simulator state tomography fidelity = {:.4f} \\u00B1 {:.4f}'.format(np.mean(sim_fids), np.std(sim_fids)))"
   ]
  },
  {
   "cell_type": "markdown",
   "id": "49570bc4",
   "metadata": {},
   "source": [
    "## 3.2 - On hardware <a class=\"anchor\" id=\"32-hardware\"></a>\n",
    "\n",
    "Now that we have tested our method on simulator, we can finally submit jobs on hardware!\n",
    "\n",
    "### 3.2.1 Submit jobs  <a class=\"anchor\" id=\"321-submit-jobs\"></a>"
   ]
  },
  {
   "cell_type": "code",
   "execution_count": 90,
   "id": "cd9e54db",
   "metadata": {},
   "outputs": [],
   "source": [
    "# Setting the number of shots and backend \n",
    "shots = 8192\n",
    "backend = jakarta"
   ]
  },
  {
   "cell_type": "code",
   "execution_count": null,
   "id": "851f6ca5",
   "metadata": {},
   "outputs": [],
   "source": [
    "# Repeat fidelity measurement 8 times\n",
    "reps = 8 \n",
    "ibm_job_ids = []\n",
    "    \n",
    "# Now launch the jobs\n",
    "for count in range(reps):\n",
    "    print(\"\\n REPETITION \"+str(count+1)+\"\\n\")\n",
    "    job_id, job = zne_launch(tomo_circs=st_qcs, backend=backend, optimization_level=0, shots=shots,\n",
    "                                scale_factors=scale_factors)\n",
    "    ibm_job_ids.append(job_id)"
   ]
  },
  {
   "cell_type": "code",
   "execution_count": 93,
   "id": "06b15a40",
   "metadata": {},
   "outputs": [],
   "source": [
    "# These are the jobids of the runs on hardware that we submit as a solution\n",
    "ibm_job_ids = ['623f2b1ed97bffed4c69508b',\n",
    "'623f2b3f0af65dbf3dd93d91',\n",
    "'623f2b60d97bff7ce369508f',\n",
    "'623f2b8219e6894babc81713',\n",
    "'623f2ba309995c2ba64932af',\n",
    "'623f2bc374de0ec93f85b846',\n",
    "'623f2be4d97bff59ad695094',\n",
    "'623f2c058293e94ac21e66d4']"
   ]
  },
  {
   "cell_type": "markdown",
   "id": "90c82d84",
   "metadata": {},
   "source": [
    "### 3.2.2 Collect results and compute fidelity <a class=\"anchor\" id=\"322-collect-results-and-compute-fidelity\"></a>"
   ]
  },
  {
   "cell_type": "code",
   "execution_count": 54,
   "id": "c8d1753f-32ba-4faa-98ef-238f06f163a0",
   "metadata": {},
   "outputs": [
    {
     "name": "stdout",
     "output_type": "stream",
     "text": [
      "\n",
      "REPETITION:  0\n",
      "\n",
      "REPETITION:  1\n",
      "\n",
      "REPETITION:  2\n",
      "\n",
      "REPETITION:  3\n",
      "\n",
      "REPETITION:  4\n",
      "\n",
      "REPETITION:  5\n",
      "\n",
      "REPETITION:  6\n",
      "\n",
      "REPETITION:  7\n"
     ]
    }
   ],
   "source": [
    "ibmq_fids = []\n",
    "\n",
    "# Loop over the 8 fidelity measurements, perform error mitigation on the counts \n",
    "# and compute the fidelity for every experiment\n",
    "for count, jobid in enumerate(ibm_job_ids):\n",
    "    print(\"\\n REPETITION: \",count)\n",
    "    zne_res = zne_collect(real_hardware=True, backend=backend, tomo_circs=st_qcs,\n",
    "                                             zne_order=3, shots=shots, scale_factors=scale_factors, jobid=jobid)\n",
    "    zne_res_physical = remove_unphysical_bitstrings(zne_res)\n",
    "    ibmq_fids.append(state_tomo(zne_res_physical, st_qcs))"
   ]
  },
  {
   "cell_type": "code",
   "execution_count": 55,
   "id": "038e6753-9e25-4609-8c86-07e5a55e4dcf",
   "metadata": {},
   "outputs": [
    {
     "name": "stdout",
     "output_type": "stream",
     "text": [
      "state tomography fidelity = 0.8822 ± 0.0197\n"
     ]
    }
   ],
   "source": [
    "# Print the final result\n",
    "print('state tomography fidelity = {:.4f} \\u00B1 {:.4f}'.format(np.mean(ibmq_fids), np.std(ibmq_fids)))"
   ]
  },
  {
   "cell_type": "markdown",
   "id": "0dcb45f2",
   "metadata": {},
   "source": [
    "This notebook has been created with the following Qiskit version:"
   ]
  },
  {
   "cell_type": "code",
   "execution_count": 56,
   "id": "48576bf9",
   "metadata": {},
   "outputs": [
    {
     "data": {
      "text/html": [
       "<h3>Version Information</h3><table><tr><th>Qiskit Software</th><th>Version</th></tr><tr><td>Qiskit</td><td>0.25.0</td></tr><tr><td>Terra</td><td>0.17.0</td></tr><tr><td>Aer</td><td>0.8.0</td></tr><tr><td>Ignis</td><td>0.6.0</td></tr><tr><td>Aqua</td><td>0.9.0</td></tr><tr><td>IBM Q Provider</td><td>0.12.2</td></tr><tr><th>System information</th></tr><tr><td>Python</td><td>3.8.8 (default, Apr 13 2021, 12:59:45) \n",
       "[Clang 10.0.0 ]</td></tr><tr><td>OS</td><td>Darwin</td></tr><tr><td>CPUs</td><td>4</td></tr><tr><td>Memory (Gb)</td><td>16.0</td></tr><tr><td colspan='2'>Tue Apr 12 16:08:24 2022 CEST</td></tr></table>"
      ],
      "text/plain": [
       "<IPython.core.display.HTML object>"
      ]
     },
     "metadata": {},
     "output_type": "display_data"
    }
   ],
   "source": [
    "import qiskit.tools.jupyter\n",
    "%qiskit_version_table"
   ]
  },
  {
   "cell_type": "code",
   "execution_count": null,
   "id": "9e1201ec",
   "metadata": {},
   "outputs": [],
   "source": []
  }
 ],
 "metadata": {
  "kernelspec": {
   "display_name": "Python 3 (ipykernel)",
   "language": "python",
   "name": "python3"
  },
  "language_info": {
   "codemirror_mode": {
    "name": "ipython",
    "version": 3
   },
   "file_extension": ".py",
   "mimetype": "text/x-python",
   "name": "python",
   "nbconvert_exporter": "python",
   "pygments_lexer": "ipython3",
   "version": "3.8.8"
  }
 },
 "nbformat": 4,
 "nbformat_minor": 5
}
