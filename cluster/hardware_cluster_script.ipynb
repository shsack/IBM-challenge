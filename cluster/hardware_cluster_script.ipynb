{
 "cells": [
  {
   "cell_type": "code",
   "execution_count": 26,
   "id": "3c3970c9",
   "metadata": {},
   "outputs": [],
   "source": [
    "## Import libraries\n",
    "import numpy as np\n",
    "import matplotlib.pyplot as plt\n",
    "plt.rcParams.update({'font.size': 16})  # enlarge matplotlib fonts\n",
    "import pickle\n",
    "import os"
   ]
  },
  {
   "cell_type": "code",
   "execution_count": 27,
   "id": "95f9bcc1",
   "metadata": {},
   "outputs": [],
   "source": [
    "# Import qubit states Zero (|0>) and One (|1>), and Pauli operators (X, Y, Z)\n",
    "from qiskit.opflow import Zero, One, I, X, Y, Z"
   ]
  },
  {
   "cell_type": "code",
   "execution_count": 28,
   "id": "5f11cad7",
   "metadata": {},
   "outputs": [],
   "source": [
    "# Suppress warnings\n",
    "import warnings\n",
    "warnings.filterwarnings('ignore')"
   ]
  },
  {
   "cell_type": "code",
   "execution_count": 29,
   "id": "3b37b57f",
   "metadata": {},
   "outputs": [],
   "source": [
    "## Import functions from Qiskit\n",
    "from qiskit                     import QuantumCircuit, QuantumRegister, IBMQ, execute, transpile, Aer\n",
    "from qiskit.providers.aer       import QasmSimulator\n",
    "from qiskit.tools.monitor       import job_monitor\n",
    "from qiskit.circuit             import Parameter, ParameterVector\n",
    "from qiskit.quantum_info        import Statevector, Pauli\n",
    "from qiskit.opflow.state_fns    import CircuitStateFn\n",
    "from qiskit.opflow.expectations import PauliExpectation\n",
    "from qiskit.utils               import QuantumInstance\n",
    "from qiskit.opflow              import PauliOp, SummedOp, CircuitSampler, StateFn"
   ]
  },
  {
   "cell_type": "code",
   "execution_count": 30,
   "id": "834ac702",
   "metadata": {},
   "outputs": [],
   "source": [
    "# Import state tomography modules\n",
    "from qiskit.ignis.verification.tomography import state_tomography_circuits, StateTomographyFitter\n",
    "from qiskit.quantum_info                  import state_fidelity"
   ]
  },
  {
   "cell_type": "code",
   "execution_count": 31,
   "id": "e6017639",
   "metadata": {},
   "outputs": [],
   "source": [
    "## Mitiq libraries\n",
    "from mitiq import zne\n",
    "from qiskit.result import Result\n",
    "from qiskit.result.models import ExperimentResult\n",
    "from qiskit.result.models import ExperimentResultData\n",
    "from qiskit.result.models import QobjExperimentHeader"
   ]
  },
  {
   "cell_type": "code",
   "execution_count": 32,
   "id": "6ab55031",
   "metadata": {},
   "outputs": [],
   "source": [
    "from itertools import chain"
   ]
  },
  {
   "cell_type": "markdown",
   "id": "300a56d1",
   "metadata": {},
   "source": [
    "## Create the circuit"
   ]
  },
  {
   "cell_type": "code",
   "execution_count": 33,
   "id": "afa69936",
   "metadata": {},
   "outputs": [],
   "source": [
    "def Heisenberg_YBE_variational(num_qubits,p):\n",
    "\n",
    "    circ  = QuantumCircuit(num_qubits)\n",
    "    count = 0\n",
    "    \n",
    "    def XYZ_variational(circ,i,j,params):\n",
    "        circ.cx(i,j)\n",
    "        circ.rx(params[0],i)\n",
    "        circ.rx(-np.pi/2,i)\n",
    "        circ.h(i)\n",
    "        circ.rz(params[1],j)\n",
    "\n",
    "        circ.cx(i,j)\n",
    "        circ.h(i)\n",
    "        circ.rz(params[2],j)\n",
    "\n",
    "        circ.cx(i,j)\n",
    "        circ.rx(np.pi/2,i)\n",
    "        circ.rx(-np.pi/2,j)\n",
    "\n",
    "    circ.rx(np.pi,[1,2])\n",
    "    \n",
    "    XYZ_variational(circ,1,2,p[count:count+3])\n",
    "    count += 3\n",
    "    XYZ_variational(circ,0,1,p[count:count+3])\n",
    "    count += 3\n",
    "    XYZ_variational(circ,1,2,p[count:count+3])\n",
    "    count += 3\n",
    "    XYZ_variational(circ,0,1,p[count:count+3])\n",
    "    count += 3\n",
    "    XYZ_variational(circ,1,2,p[count:count+3])\n",
    "    count += 3\n",
    "\n",
    "    return circ"
   ]
  },
  {
   "cell_type": "code",
   "execution_count": 34,
   "id": "5334e743",
   "metadata": {},
   "outputs": [],
   "source": [
    "pvqd_opt_params = [0.6382017062070897,\n",
    "0.5999999987484098,\n",
    "0.6382017062066773,\n",
    "3.0088034895496003,\n",
    "-3.0869200336945677,\n",
    "0.4709531470409451,\n",
    "2.163149581322057,\n",
    "3.480816125849344,\n",
    "-2.0741264452466974,\n",
    "1.2330206913091548,\n",
    "3.1275100711382064,\n",
    "1.593744340473751,\n",
    "6.107319841483039,\n",
    "3.0177717815840808,\n",
    "-3.24901805128811]"
   ]
  },
  {
   "cell_type": "code",
   "execution_count": 10,
   "id": "1799c046",
   "metadata": {},
   "outputs": [
    {
     "data": {
      "text/plain": [
       "<qiskit.circuit.instructionset.InstructionSet at 0x7f8d2484e1f0>"
      ]
     },
     "execution_count": 10,
     "metadata": {},
     "output_type": "execute_result"
    }
   ],
   "source": [
    "## Create the circuit\n",
    "# Define the final circuit that is used to compute the fidelity \n",
    "fqr = QuantumRegister(7)\n",
    "fqc = QuantumCircuit(fqr)\n",
    "#fqc.rx(np.pi, [3, 5]) # Cannot use X gate due to a bug in mitq, rx(pi) does the same thing\n",
    "fqc.id([0, 1, 2, 4, 6]) # Need to put identities since mitq cannot handle unused qubits\n",
    "fqc.append(Heisenberg_YBE_variational(3,pvqd_opt_params), [fqr[1], fqr[3], fqr[5]])"
   ]
  },
  {
   "cell_type": "markdown",
   "id": "48fa6a1d",
   "metadata": {},
   "source": [
    "## Run on hardware"
   ]
  },
  {
   "cell_type": "code",
   "execution_count": 36,
   "id": "1571c900",
   "metadata": {},
   "outputs": [
    {
     "name": "stderr",
     "output_type": "stream",
     "text": [
      "ibmqfactory.load_account:WARNING:2022-03-25 15:48:25,946: Credentials are already in use. The existing account in the session will be replaced.\n"
     ]
    },
    {
     "data": {
      "text/plain": [
       "<AccountProvider for IBMQ(hub='ibm-q', group='open', project='main')>"
      ]
     },
     "execution_count": 36,
     "metadata": {},
     "output_type": "execute_result"
    }
   ],
   "source": [
    "## Info for IBM\n",
    "#IBMQ.save_account('MY_API_TOKEN')\n",
    "#IBMQ.enable_account('MY_API_TOKEN')\n",
    "IBMQ.load_account()"
   ]
  },
  {
   "cell_type": "code",
   "execution_count": 37,
   "id": "4538886f",
   "metadata": {},
   "outputs": [],
   "source": [
    "provider = IBMQ.get_provider(hub='ibm-q-community', group='ibmquantumawards', project='open-science-22')\n",
    "#provider = IBMQ.get_provider(hub='ibm-q', group='open', project='main')\n",
    "jakarta = provider.get_backend('ibmq_jakarta')\n",
    "#bogota   = provider.get_backend('ibmq_bogota')\n",
    "\n",
    "# Simulated backend based on ibmq_jakarta's device noise profile\n",
    "#sim_noisy_jakarta = QasmSimulator.from_backend(provider.get_backend('ibmq_jakarta'))"
   ]
  },
  {
   "cell_type": "code",
   "execution_count": 38,
   "id": "e7f7bfd2",
   "metadata": {},
   "outputs": [],
   "source": [
    "shots = 8192\n",
    "#backend = sim_noisy_jakarta\n",
    "backend = jakarta\n",
    "#backend = bogota"
   ]
  },
  {
   "cell_type": "code",
   "execution_count": 39,
   "id": "ae3550e4",
   "metadata": {},
   "outputs": [],
   "source": [
    "# Compute the state tomography based on the st_qcs quantum circuits and the results from those ciricuits\n",
    "def state_tomo(result, st_qcs):\n",
    "    # The expected final state; necessary to determine state tomography fidelity\n",
    "    target_state = (One^One^Zero).to_matrix()  # DO NOT MODIFY (|q_5,q_3,q_1> = |110>)\n",
    "    # Fit state tomography results\n",
    "    tomo_fitter = StateTomographyFitter(result, st_qcs)\n",
    "    rho_fit = tomo_fitter.fit(method='lstsq')\n",
    "    # Compute fidelity\n",
    "    fid = state_fidelity(rho_fit, target_state)\n",
    "    return fid"
   ]
  },
  {
   "cell_type": "markdown",
   "id": "6b5c52c5",
   "metadata": {},
   "source": [
    "### Launch jobs"
   ]
  },
  {
   "cell_type": "code",
   "execution_count": 40,
   "id": "d70b953e",
   "metadata": {},
   "outputs": [],
   "source": [
    "def zne_job_launch(tomo_circs, backend, optimization_level, shots):\n",
    "\n",
    "    # This function runs the tomography circuits and unrolls the gates to increase the noise level\n",
    "    # The counts that are obtained for the differnt noise levels are then extrapolated to the zero-noise level\n",
    "\n",
    "    zne_result_list = []\n",
    "    scale_factors = [1.0, 2.0, 3.0]\n",
    "\n",
    "\n",
    "    # Unfold the tomography circuit by a scale factor and evaluate them \n",
    "    noise_scaled_circuits = [[zne.scaling.fold_global(circ, s) for s in scale_factors] for circ in tomo_circs] \n",
    "    noise_scaled_circuits = list(chain(*noise_scaled_circuits)) \n",
    "\n",
    "    \n",
    "    job    = execute(noise_scaled_circuits, backend=backend, optimization_level=optimization_level, shots=shots)\n",
    "    job_id = job.job_id()\n",
    "    ## Now we will save these results in a file, together with the circuits that have generated them\n",
    "    \n",
    "    pickle_file = \"./hw_data/job_\"+str(job_id)+\"_circuits\"\n",
    "    pickle_data = {}\n",
    "    pickle_data[\"tomo_circs\"]            = tomo_circs\n",
    "    pickle_data[\"scale_factors\"]         = scale_factors\n",
    "    pickle_data[\"noise_scaled_circuits\"] = noise_scaled_circuits\n",
    "    \n",
    "    # Dump on file\n",
    "    with open(pickle_file,'wb+') as f:\n",
    "        pickle.dump(pickle_data, f)\n",
    "    \n",
    "    print(\"JOB \"+str(job_id)+\" SUBMITTED\")\n",
    "    return str(job_id), job"
   ]
  },
  {
   "cell_type": "code",
   "execution_count": 41,
   "id": "f019322c",
   "metadata": {},
   "outputs": [],
   "source": [
    "# Create the tomography circuits\n",
    "st_qcs = state_tomography_circuits(fqc.decompose(), [fqr[1], fqr[3], fqr[5]])\n",
    "#st_qcs = state_tomography_circuits(fqc.decompose(), [fqr[0], fqr[1], fqr[2]])"
   ]
  },
  {
   "cell_type": "code",
   "execution_count": 42,
   "id": "34e4b22d",
   "metadata": {},
   "outputs": [
    {
     "name": "stdout",
     "output_type": "stream",
     "text": [
      "Previous file deleted\n",
      "\n",
      " REPETITION 1\n",
      "\n",
      "JOB 623dd6930af65d0ea1d938c5 SUBMITTED\n"
     ]
    }
   ],
   "source": [
    "# Repeat fidelity measurement\n",
    "reps = 1 # Needs to be 8 in the final execution\n",
    "job_list = [] # We don't actually need it...\n",
    "job_id_list = []\n",
    "\n",
    "job_file = \"submitted_jobs.txt\"\n",
    "\n",
    "## This part removes the file in order to not mix different launches (e.g. simulator and hw)\n",
    "if os.path.exists(job_file):\n",
    "    os.remove(job_file)\n",
    "    print(\"Previous file deleted\")\n",
    "else:\n",
    "    print(\"Can not delete the file as it doesn't exists\")\n",
    "\n",
    "    \n",
    "\n",
    "# Now launch the jobs\n",
    "for count in range(reps):\n",
    "    print(\"\\n REPETITION \"+str(count+1)+\"\\n\")\n",
    "    \n",
    "    zne_job_id, zne_job = zne_job_launch(st_qcs, backend=backend, optimization_level=0, shots=shots)\n",
    "    \n",
    "    with open(job_file,\"a\") as f:\n",
    "        f.write(zne_job_id)\n",
    "        f.write(\"\\n\")\n",
    "\n",
    "    job_list.append(zne_job)\n",
    "    job_id_list.append(zne_job_id)"
   ]
  },
  {
   "cell_type": "code",
   "execution_count": 44,
   "id": "50300ed8",
   "metadata": {},
   "outputs": [
    {
     "data": {
      "text/plain": [
       "['623dd6930af65d0ea1d938c5']"
      ]
     },
     "execution_count": 44,
     "metadata": {},
     "output_type": "execute_result"
    }
   ],
   "source": [
    "job_id_list"
   ]
  },
  {
   "cell_type": "markdown",
   "id": "be92089e",
   "metadata": {},
   "source": [
    "### Collect Jobs"
   ]
  },
  {
   "cell_type": "code",
   "execution_count": 45,
   "id": "d72b904b",
   "metadata": {},
   "outputs": [],
   "source": [
    "def zne_results_collect(backend,jobid, zne_order, shots):\n",
    "    \n",
    "    job    = backend.retrieve_job(jobid) # Maybe a [0] is needed if it doesn't work properly\n",
    "    result = job.result()\n",
    "    \n",
    "    filename = \"./hw_data/job_\"+str(jobid)+\"circuits\"\n",
    "    result_file = pickle.load(open(filename,'rb'))\n",
    "    print(\"\\nLOADED FILE: \"+filename)\n",
    "    \n",
    "    tomo_circs = result_file[\"tomo_circs\"]\n",
    "    \n",
    "    count_list = result.get_counts()\n",
    "    ordered_bitstrings = dict(sorted(count_list[0].items()))\n",
    "    \n",
    "    zne_result_list = []\n",
    "    scale_factors = [1.0, 2.0, 3.0]\n",
    "\n",
    "    for i in range(len(tomo_circs)):\n",
    "        counts_dict = {}\n",
    "\n",
    "        # Loop over the results of the scaled circuits and collect the data in the correct form\n",
    "        for key in ordered_bitstrings.keys():\n",
    "            counts_list_zne = []\n",
    "            for count in count_list[i*len(scale_factors):len(scale_factors)*(i+1)]:\n",
    "                counts_list_zne.append(count[key])\n",
    "            # Here we extrapolate the counts to zero noise and round to the closest integer \n",
    "            zne_counts_value = int(zne.PolyFactory.extrapolate(scale_factors, counts_list_zne, order=zne_order)) \n",
    "            if zne_counts_value < 0:\n",
    "                zne_counts_value = 0\n",
    "            counts_dict[key] = zne_counts_value\n",
    "        zne_result_list.append(counts_dict)\n",
    "        \n",
    "    # To work with the StateTomographyFitter we need to put the result into a Qiskit Result() object\n",
    "    name_list = [circ.name for circ in tomo_circs]\n",
    "    results_tmp = [[ExperimentResult(shots=shots, success=True, data=ExperimentResultData(counts=result_i), header=QobjExperimentHeader(name=name_i))] for (name_i, result_i) in zip(name_list, zne_result_list)]\n",
    "    results = [Result(backend_name=\"zne\", backend_version=\"zne\", qobj_id='0', job_id='0', success=True, results=result_i) for result_i in results_tmp]\n",
    "\n",
    "    return results, tomo_circs"
   ]
  },
  {
   "cell_type": "code",
   "execution_count": 46,
   "id": "b13aab67",
   "metadata": {},
   "outputs": [],
   "source": [
    "## Here we put the job_id_list created\n",
    "\n",
    "job_id_list = ['623dd6930af65d0ea1d938c5']"
   ]
  },
  {
   "cell_type": "code",
   "execution_count": 48,
   "id": "e6afa42d",
   "metadata": {},
   "outputs": [
    {
     "name": "stdout",
     "output_type": "stream",
     "text": [
      "\n",
      "LOADED FILE: ./hw_data/job_623dd6930af65d0ea1d938c5circuits\n"
     ]
    }
   ],
   "source": [
    "#backend = jakarta\n",
    "ibmq_fids     = []\n",
    "\n",
    "for job in job_id_list:\n",
    "    #print(job)\n",
    "    \n",
    "    job_file = \"./hw_data/tomography_id_\"+job\n",
    "    zne_res, zne_circs = zne_results_collect(backend=backend,jobid=job, zne_order=2, shots=shots)\n",
    "    ibmq_fids.append(state_tomo(zne_res, zne_circs))"
   ]
  },
  {
   "cell_type": "code",
   "execution_count": 49,
   "id": "a39a0469",
   "metadata": {},
   "outputs": [
    {
     "name": "stdout",
     "output_type": "stream",
     "text": [
      "state tomography fidelity = 0.6058 ± 0.0000\n"
     ]
    }
   ],
   "source": [
    "## Print the final result\n",
    "print('state tomography fidelity = {:.4f} \\u00B1 {:.4f}'.format(np.mean(ibmq_fids), np.std(ibmq_fids))) "
   ]
  },
  {
   "cell_type": "code",
   "execution_count": null,
   "id": "46996dba",
   "metadata": {},
   "outputs": [],
   "source": []
  }
 ],
 "metadata": {
  "kernelspec": {
   "display_name": "Python 3 (ipykernel)",
   "language": "python",
   "name": "python3"
  },
  "language_info": {
   "codemirror_mode": {
    "name": "ipython",
    "version": 3
   },
   "file_extension": ".py",
   "mimetype": "text/x-python",
   "name": "python",
   "nbconvert_exporter": "python",
   "pygments_lexer": "ipython3",
   "version": "3.8.12"
  }
 },
 "nbformat": 4,
 "nbformat_minor": 5
}
