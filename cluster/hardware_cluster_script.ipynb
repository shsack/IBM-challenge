{
 "cells": [
  {
   "cell_type": "code",
   "execution_count": 1,
   "id": "3c3970c9",
   "metadata": {},
   "outputs": [],
   "source": [
    "## Import libraries\n",
    "import numpy as np\n",
    "import matplotlib.pyplot as plt\n",
    "plt.rcParams.update({'font.size': 16})  # enlarge matplotlib fonts\n",
    "import pickle\n",
    "import os"
   ]
  },
  {
   "cell_type": "code",
   "execution_count": 2,
   "id": "95f9bcc1",
   "metadata": {},
   "outputs": [],
   "source": [
    "# Import qubit states Zero (|0>) and One (|1>), and Pauli operators (X, Y, Z)\n",
    "from qiskit.opflow import Zero, One, I, X, Y, Z"
   ]
  },
  {
   "cell_type": "code",
   "execution_count": 3,
   "id": "5f11cad7",
   "metadata": {},
   "outputs": [],
   "source": [
    "# Suppress warnings\n",
    "import warnings\n",
    "warnings.filterwarnings('ignore')"
   ]
  },
  {
   "cell_type": "code",
   "execution_count": 4,
   "id": "3b37b57f",
   "metadata": {},
   "outputs": [],
   "source": [
    "## Import functions from Qiskit\n",
    "from qiskit                     import QuantumCircuit, QuantumRegister, IBMQ, execute, transpile, Aer\n",
    "from qiskit.providers.aer       import QasmSimulator\n",
    "from qiskit.tools.monitor       import job_monitor\n",
    "from qiskit.circuit             import Parameter, ParameterVector\n",
    "from qiskit.quantum_info        import Statevector, Pauli\n",
    "from qiskit.opflow.state_fns    import CircuitStateFn\n",
    "from qiskit.opflow.expectations import PauliExpectation\n",
    "from qiskit.utils               import QuantumInstance\n",
    "from qiskit.opflow              import PauliOp, SummedOp, CircuitSampler, StateFn"
   ]
  },
  {
   "cell_type": "code",
   "execution_count": 5,
   "id": "834ac702",
   "metadata": {},
   "outputs": [],
   "source": [
    "# Import state tomography modules\n",
    "from qiskit.ignis.verification.tomography import state_tomography_circuits, StateTomographyFitter\n",
    "from qiskit.quantum_info                  import state_fidelity"
   ]
  },
  {
   "cell_type": "code",
   "execution_count": 6,
   "id": "e6017639",
   "metadata": {},
   "outputs": [],
   "source": [
    "## Mitiq libraries\n",
    "from mitiq import zne\n",
    "from qiskit.result import Result\n",
    "from qiskit.result.models import ExperimentResult\n",
    "from qiskit.result.models import ExperimentResultData\n",
    "from qiskit.result.models import QobjExperimentHeader"
   ]
  },
  {
   "cell_type": "code",
   "execution_count": 7,
   "id": "6ab55031",
   "metadata": {},
   "outputs": [],
   "source": [
    "from itertools import chain\n",
    "import re\n",
    "import copy"
   ]
  },
  {
   "cell_type": "markdown",
   "id": "300a56d1",
   "metadata": {},
   "source": [
    "## Create the circuit"
   ]
  },
  {
   "cell_type": "code",
   "execution_count": 8,
   "id": "afa69936",
   "metadata": {},
   "outputs": [],
   "source": [
    "def Heisenberg_YBE_variational(num_qubits,p):\n",
    "\n",
    "    circ  = QuantumCircuit(num_qubits)\n",
    "    count = 0\n",
    "    \n",
    "    def XYZ_variational(circ,i,j,params):\n",
    "        circ.cx(i,j)\n",
    "        circ.rx(params[0],i)\n",
    "        circ.rx(-np.pi/2,i)\n",
    "        circ.h(i)\n",
    "        circ.rz(params[1],j)\n",
    "\n",
    "        circ.cx(i,j)\n",
    "        circ.h(i)\n",
    "        circ.rz(params[2],j)\n",
    "\n",
    "        circ.cx(i,j)\n",
    "        circ.rx(np.pi/2,i)\n",
    "        circ.rx(-np.pi/2,j)\n",
    "\n",
    "    circ.rx(np.pi,[1,2])\n",
    "    \n",
    "    XYZ_variational(circ,1,2,p[count:count+3])\n",
    "    count += 3\n",
    "    XYZ_variational(circ,0,1,p[count:count+3])\n",
    "    count += 3\n",
    "    XYZ_variational(circ,1,2,p[count:count+3])\n",
    "    count += 3\n",
    "    XYZ_variational(circ,0,1,p[count:count+3])\n",
    "    count += 3\n",
    "    XYZ_variational(circ,1,2,p[count:count+3])\n",
    "    count += 3\n",
    "\n",
    "    return circ"
   ]
  },
  {
   "cell_type": "code",
   "execution_count": 9,
   "id": "5334e743",
   "metadata": {},
   "outputs": [],
   "source": [
    "pvqd_opt_params = [0.6382017062070897,\n",
    "0.5999999987484098,\n",
    "0.6382017062066773,\n",
    "3.0088034895496003,\n",
    "-3.0869200336945677,\n",
    "0.4709531470409451,\n",
    "2.163149581322057,\n",
    "3.480816125849344,\n",
    "-2.0741264452466974,\n",
    "1.2330206913091548,\n",
    "3.1275100711382064,\n",
    "1.593744340473751,\n",
    "6.107319841483039,\n",
    "3.0177717815840808,\n",
    "-3.24901805128811]"
   ]
  },
  {
   "cell_type": "code",
   "execution_count": 10,
   "id": "1799c046",
   "metadata": {},
   "outputs": [
    {
     "data": {
      "text/plain": [
       "<qiskit.circuit.instructionset.InstructionSet at 0x7fef9a9d5d00>"
      ]
     },
     "execution_count": 10,
     "metadata": {},
     "output_type": "execute_result"
    }
   ],
   "source": [
    "## Create the circuit\n",
    "# Define the final circuit that is used to compute the fidelity \n",
    "fqr = QuantumRegister(7)\n",
    "fqc = QuantumCircuit(fqr)\n",
    "#fqc.rx(np.pi, [3, 5]) # Cannot use X gate due to a bug in mitq, rx(pi) does the same thing\n",
    "fqc.id([0, 1, 2, 4, 6]) # Need to put identities since mitq cannot handle unused qubits\n",
    "fqc.append(Heisenberg_YBE_variational(3,pvqd_opt_params), [fqr[1], fqr[3], fqr[5]])"
   ]
  },
  {
   "cell_type": "markdown",
   "id": "48fa6a1d",
   "metadata": {},
   "source": [
    "## Run on hardware"
   ]
  },
  {
   "cell_type": "code",
   "execution_count": 8,
   "id": "1571c900",
   "metadata": {},
   "outputs": [
    {
     "data": {
      "text/plain": [
       "<AccountProvider for IBMQ(hub='ibm-q', group='open', project='main')>"
      ]
     },
     "execution_count": 8,
     "metadata": {},
     "output_type": "execute_result"
    }
   ],
   "source": [
    "## Info for IBM\n",
    "#IBMQ.save_account('MY_API_TOKEN')\n",
    "#IBMQ.enable_account('MY_API_TOKEN')\n",
    "IBMQ.load_account()"
   ]
  },
  {
   "cell_type": "code",
   "execution_count": 9,
   "id": "4538886f",
   "metadata": {},
   "outputs": [],
   "source": [
    "provider = IBMQ.get_provider(hub='ibm-q-community', group='ibmquantumawards', project='open-science-22')\n",
    "#provider = IBMQ.get_provider(hub='ibm-q', group='open', project='main')\n",
    "jakarta = provider.get_backend('ibmq_jakarta')\n",
    "#bogota   = provider.get_backend('ibmq_bogota')\n",
    "\n",
    "# Simulated backend based on ibmq_jakarta's device noise profile\n",
    "#sim_noisy_jakarta = QasmSimulator.from_backend(provider.get_backend('ibmq_jakarta'))"
   ]
  },
  {
   "cell_type": "code",
   "execution_count": 14,
   "id": "e7f7bfd2",
   "metadata": {},
   "outputs": [],
   "source": [
    "shots = 8192\n",
    "#backend = sim_noisy_jakarta\n",
    "backend = jakarta\n",
    "#backend = bogota"
   ]
  },
  {
   "cell_type": "code",
   "execution_count": 14,
   "id": "ae3550e4",
   "metadata": {},
   "outputs": [],
   "source": [
    "# Compute the state tomography based on the st_qcs quantum circuits and the results from those ciricuits\n",
    "def state_tomo(result, st_qcs):\n",
    "    # The expected final state; necessary to determine state tomography fidelity\n",
    "    target_state = (One^One^Zero).to_matrix()  # DO NOT MODIFY (|q_5,q_3,q_1> = |110>)\n",
    "    # Fit state tomography results\n",
    "    tomo_fitter = StateTomographyFitter(result, st_qcs)\n",
    "    rho_fit = tomo_fitter.fit(method='lstsq')\n",
    "    # Compute fidelity\n",
    "    fid = state_fidelity(rho_fit, target_state)\n",
    "    return fid"
   ]
  },
  {
   "cell_type": "markdown",
   "id": "6b5c52c5",
   "metadata": {},
   "source": [
    "### Launch jobs"
   ]
  },
  {
   "cell_type": "code",
   "execution_count": 131,
   "id": "d70b953e",
   "metadata": {},
   "outputs": [],
   "source": [
    "def zne_job_launch(tomo_circs, backend, optimization_level, shots):\n",
    "\n",
    "    # This function runs the tomography circuits and unrolls the gates to increase the noise level\n",
    "    # The counts that are obtained for the differnt noise levels are then extrapolated to the zero-noise level\n",
    "\n",
    "    zne_result_list = []\n",
    "    scale_factors = [1.0, 2.0, 3.0, 4.0, 5.0, 6.0]\n",
    "\n",
    "\n",
    "    # Unfold the tomography circuit by a scale factor and evaluate them \n",
    "    noise_scaled_circuits = [[zne.scaling.fold_global(circ, s) for s in scale_factors] for circ in tomo_circs] \n",
    "    noise_scaled_circuits = list(chain(*noise_scaled_circuits)) \n",
    "\n",
    "    \n",
    "    job    = execute(noise_scaled_circuits, backend=backend, optimization_level=optimization_level, shots=shots)\n",
    "    job_id = job.job_id()\n",
    "    ## Now we will save these results in a file, together with the circuits that have generated them\n",
    "    \n",
    "    pickle_file = \"./hw_data/job_\"+str(job_id)+\"_circuits_\"+str(len(scale_factors))+\"_unrolls\"\n",
    "    pickle_data = {}\n",
    "    pickle_data[\"tomo_circs\"]            = tomo_circs\n",
    "    pickle_data[\"scale_factors\"]         = scale_factors\n",
    "    pickle_data[\"noise_scaled_circuits\"] = noise_scaled_circuits\n",
    "    pickle_data[\"job_id\"]                = str(job_id)\n",
    "    \n",
    "    # Dump on file\n",
    "    with open(pickle_file,'wb+') as f:\n",
    "        pickle.dump(pickle_data, f)\n",
    "    \n",
    "    print(\"JOB \"+str(job_id)+\" SUBMITTED\")\n",
    "    return str(job_id), job"
   ]
  },
  {
   "cell_type": "code",
   "execution_count": 132,
   "id": "f019322c",
   "metadata": {},
   "outputs": [],
   "source": [
    "# Create the tomography circuits\n",
    "st_qcs = state_tomography_circuits(fqc.decompose(), [fqr[1], fqr[3], fqr[5]])\n",
    "#st_qcs = state_tomography_circuits(fqc.decompose(), [fqr[0], fqr[1], fqr[2]])"
   ]
  },
  {
   "cell_type": "code",
   "execution_count": 133,
   "id": "34e4b22d",
   "metadata": {},
   "outputs": [
    {
     "name": "stdout",
     "output_type": "stream",
     "text": [
      "Can not delete the file as it doesn't exists\n",
      "\n",
      " REPETITION 1\n",
      "\n",
      "JOB 6240a2c2a2f72dab74dac3d2 SUBMITTED\n",
      "\n",
      " REPETITION 2\n",
      "\n",
      "JOB 6240a2f674de0e467585bd3a SUBMITTED\n",
      "\n",
      " REPETITION 3\n",
      "\n",
      "JOB 6240a32809995c512b4937d8 SUBMITTED\n",
      "\n",
      " REPETITION 4\n",
      "\n",
      "JOB 6240a3550af65d4ef0d9423b SUBMITTED\n",
      "\n",
      " REPETITION 5\n",
      "\n",
      "JOB 6240a385e32b427ad0ece7e3 SUBMITTED\n",
      "\n",
      " REPETITION 6\n",
      "\n",
      "JOB 6240a3b3d97bff5edf695582 SUBMITTED\n",
      "\n",
      " REPETITION 7\n",
      "\n",
      "JOB 6240a3f00af65d4265d9423d SUBMITTED\n",
      "\n",
      " REPETITION 8\n",
      "\n",
      "JOB 6240a423a2f72dcd63dac3d8 SUBMITTED\n"
     ]
    }
   ],
   "source": [
    "# Repeat fidelity measurement\n",
    "reps = 8 # Needs to be 8 in the final execution\n",
    "job_list = [] # We don't actually need it...\n",
    "job_id_list = []\n",
    "\n",
    "job_file = \"submitted_jobs_6_unrolls.txt\"\n",
    "\n",
    "## This part removes the file in order to not mix different launches (e.g. simulator and hw)\n",
    "if os.path.exists(job_file):\n",
    "    os.remove(job_file)\n",
    "    print(\"Previous file deleted\")\n",
    "else:\n",
    "    print(\"Can not delete the file as it doesn't exists\")\n",
    "\n",
    "    \n",
    "\n",
    "# Now launch the jobs\n",
    "for count in range(reps):\n",
    "    print(\"\\n REPETITION \"+str(count+1)+\"\\n\")\n",
    "    \n",
    "    zne_job_id, zne_job = zne_job_launch(st_qcs, backend=backend, optimization_level=0, shots=shots)\n",
    "    \n",
    "    with open(job_file,\"a\") as f:\n",
    "        f.write(zne_job_id)\n",
    "        f.write(\"\\n\")\n",
    "\n",
    "    job_list.append(zne_job)\n",
    "    job_id_list.append(zne_job_id)"
   ]
  },
  {
   "cell_type": "code",
   "execution_count": 135,
   "id": "50300ed8",
   "metadata": {},
   "outputs": [
    {
     "data": {
      "text/plain": [
       "['6240a2c2a2f72dab74dac3d2',\n",
       " '6240a2f674de0e467585bd3a',\n",
       " '6240a32809995c512b4937d8',\n",
       " '6240a3550af65d4ef0d9423b',\n",
       " '6240a385e32b427ad0ece7e3',\n",
       " '6240a3b3d97bff5edf695582',\n",
       " '6240a3f00af65d4265d9423d',\n",
       " '6240a423a2f72dcd63dac3d8']"
      ]
     },
     "execution_count": 135,
     "metadata": {},
     "output_type": "execute_result"
    }
   ],
   "source": [
    "job_id_list"
   ]
  },
  {
   "cell_type": "markdown",
   "id": "be92089e",
   "metadata": {},
   "source": [
    "### Collect Jobs"
   ]
  },
  {
   "cell_type": "code",
   "execution_count": 10,
   "id": "d72b904b",
   "metadata": {},
   "outputs": [],
   "source": [
    "def zne_results_collect(backend,jobid, zne_order, shots):\n",
    "    \n",
    "    job    = backend.retrieve_job(jobid) # Maybe a [0] is needed if it doesn't work properly\n",
    "    result = job.result()\n",
    "    \n",
    "    filename = \"./hw_data/job_\"+str(jobid)+\"_circuits\"\n",
    "    result_file = pickle.load(open(filename,'rb'))\n",
    "    print(\"\\nLOADED FILE: \"+filename)\n",
    "    \n",
    "    tomo_circs = result_file[\"tomo_circs\"]\n",
    "    \n",
    "    count_list = result.get_counts()\n",
    "    ordered_bitstrings = dict(sorted(count_list[0].items()))\n",
    "    \n",
    "    zne_result_list = []\n",
    "    scale_factors = [1.0, 2.0, 3.0, 4.0, 5.0, 6.0]\n",
    "\n",
    "    for i in range(len(tomo_circs)):\n",
    "        counts_dict = {}\n",
    "\n",
    "        # Loop over the results of the scaled circuits and collect the data in the correct form\n",
    "        for key in ordered_bitstrings.keys():\n",
    "            counts_list_zne = []\n",
    "            for count in count_list[i*len(scale_factors):len(scale_factors)*(i+1)]:\n",
    "                counts_list_zne.append(count[key])\n",
    "            # Here we extrapolate the counts to zero noise and round to the closest integer\n",
    "            zne_counts_value = int(zne.PolyFactory.extrapolate(scale_factors, counts_list_zne, order=zne_order)) \n",
    "            if zne_counts_value < 0:\n",
    "                zne_counts_value = 0\n",
    "            counts_dict[key] = zne_counts_value\n",
    "        zne_result_list.append(counts_dict)\n",
    "        \n",
    "    # To work with the StateTomographyFitter we need to put the result into a Qiskit Result() object\n",
    "    name_list = [circ.name for circ in tomo_circs]\n",
    "    results_tmp = [[ExperimentResult(shots=shots, success=True, data=ExperimentResultData(counts=result_i), header=QobjExperimentHeader(name=name_i))] for (name_i, result_i) in zip(name_list, zne_result_list)]\n",
    "    results = [Result(backend_name=\"zne\", backend_version=\"zne\", qobj_id='0', job_id='0', success=True, results=result_i) for result_i in results_tmp]\n",
    "\n",
    "    return results, tomo_circs"
   ]
  },
  {
   "cell_type": "code",
   "execution_count": 11,
   "id": "e9b5537f-7c3a-4a40-a3bd-4c81ac83f496",
   "metadata": {},
   "outputs": [],
   "source": [
    "def remove_unphysical_bitstrings(result):\n",
    "    \n",
    "    result_new = copy.copy(result)\n",
    "    for i in range(len(result_new)):\n",
    "        name = result_new[i].results[0].header.name\n",
    "        res = \"\".join(re.findall(\"[XYZ]+\", name))\n",
    "        res_2 = \"\".join(re.findall(\"[Z]+\", res))\n",
    "        if len(res_2) == 3:\n",
    "            bitstring_1 = res.replace('Z', '0')\n",
    "            bitstring_2 = res.replace('Z', '1')\n",
    "            result_new[i].results[0].data.counts[bitstring_1] = 0\n",
    "            result_new[i].results[0].data.counts[bitstring_2] = 0\n",
    "        if len(res_2) == 2:    \n",
    "            bitstring = res.replace('Z', '0')\n",
    "            bitstring_1 = bitstring.replace('X', '0')\n",
    "            bitstring_1 = bitstring_1.replace('Y', '0')\n",
    "            bitstring_2 = bitstring.replace('X', '1')\n",
    "            bitstring_2 = bitstring_2.replace('Y', '1')\n",
    "            result_new[i].results[0].data.counts[bitstring_1] = 0\n",
    "            result_new[i].results[0].data.counts[bitstring_2] = 0\n",
    "    return result_new"
   ]
  },
  {
   "cell_type": "code",
   "execution_count": 12,
   "id": "b13aab67",
   "metadata": {},
   "outputs": [],
   "source": [
    "## Here we put the job_id_list created\n",
    "\n",
    "job_id_list = ['6240a2c2a2f72dab74dac3d2',\n",
    " '6240a2f674de0e467585bd3a',\n",
    " '6240a32809995c512b4937d8',\n",
    " '6240a3550af65d4ef0d9423b',\n",
    " '6240a385e32b427ad0ece7e3',\n",
    " '6240a3b3d97bff5edf695582',\n",
    " '6240a3f00af65d4265d9423d',\n",
    " '6240a423a2f72dcd63dac3d8']"
   ]
  },
  {
   "cell_type": "code",
   "execution_count": 15,
   "id": "e6afa42d",
   "metadata": {},
   "outputs": [
    {
     "ename": "UnpicklingError",
     "evalue": "state is not a dictionary",
     "output_type": "error",
     "traceback": [
      "\u001b[0;31m---------------------------------------------------------------------------\u001b[0m",
      "\u001b[0;31mUnpicklingError\u001b[0m                           Traceback (most recent call last)",
      "\u001b[0;32m<ipython-input-15-16828455e2c5>\u001b[0m in \u001b[0;36m<module>\u001b[0;34m\u001b[0m\n\u001b[1;32m      4\u001b[0m \u001b[0;32mfor\u001b[0m \u001b[0mjob\u001b[0m \u001b[0;32min\u001b[0m \u001b[0mjob_id_list\u001b[0m\u001b[0;34m:\u001b[0m\u001b[0;34m\u001b[0m\u001b[0;34m\u001b[0m\u001b[0m\n\u001b[1;32m      5\u001b[0m     \u001b[0;31m#print(job)\u001b[0m\u001b[0;34m\u001b[0m\u001b[0;34m\u001b[0m\u001b[0;34m\u001b[0m\u001b[0m\n\u001b[0;32m----> 6\u001b[0;31m     \u001b[0mzne_res\u001b[0m\u001b[0;34m,\u001b[0m \u001b[0mzne_circs\u001b[0m \u001b[0;34m=\u001b[0m \u001b[0mzne_results_collect\u001b[0m\u001b[0;34m(\u001b[0m\u001b[0mbackend\u001b[0m\u001b[0;34m=\u001b[0m\u001b[0mbackend\u001b[0m\u001b[0;34m,\u001b[0m\u001b[0mjobid\u001b[0m\u001b[0;34m=\u001b[0m\u001b[0mjob\u001b[0m\u001b[0;34m,\u001b[0m \u001b[0mzne_order\u001b[0m\u001b[0;34m=\u001b[0m\u001b[0;36m3\u001b[0m\u001b[0;34m,\u001b[0m \u001b[0mshots\u001b[0m\u001b[0;34m=\u001b[0m\u001b[0mshots\u001b[0m\u001b[0;34m)\u001b[0m\u001b[0;34m\u001b[0m\u001b[0;34m\u001b[0m\u001b[0m\n\u001b[0m\u001b[1;32m      7\u001b[0m     \u001b[0mzne_res_physical\u001b[0m \u001b[0;34m=\u001b[0m \u001b[0mremove_unphysical_bitstrings\u001b[0m\u001b[0;34m(\u001b[0m\u001b[0mzne_res\u001b[0m\u001b[0;34m)\u001b[0m\u001b[0;34m\u001b[0m\u001b[0;34m\u001b[0m\u001b[0m\n\u001b[1;32m      8\u001b[0m     \u001b[0mibmq_fids\u001b[0m\u001b[0;34m.\u001b[0m\u001b[0mappend\u001b[0m\u001b[0;34m(\u001b[0m\u001b[0mstate_tomo\u001b[0m\u001b[0;34m(\u001b[0m\u001b[0mzne_res_physical\u001b[0m\u001b[0;34m,\u001b[0m \u001b[0mzne_circs\u001b[0m\u001b[0;34m)\u001b[0m\u001b[0;34m)\u001b[0m\u001b[0;34m\u001b[0m\u001b[0;34m\u001b[0m\u001b[0m\n",
      "\u001b[0;32m<ipython-input-10-df61e56b7d36>\u001b[0m in \u001b[0;36mzne_results_collect\u001b[0;34m(backend, jobid, zne_order, shots)\u001b[0m\n\u001b[1;32m      5\u001b[0m \u001b[0;34m\u001b[0m\u001b[0m\n\u001b[1;32m      6\u001b[0m     \u001b[0mfilename\u001b[0m \u001b[0;34m=\u001b[0m \u001b[0;34m\"./hw_data/job_\"\u001b[0m\u001b[0;34m+\u001b[0m\u001b[0mstr\u001b[0m\u001b[0;34m(\u001b[0m\u001b[0mjobid\u001b[0m\u001b[0;34m)\u001b[0m\u001b[0;34m+\u001b[0m\u001b[0;34m\"_circuits\"\u001b[0m\u001b[0;34m\u001b[0m\u001b[0;34m\u001b[0m\u001b[0m\n\u001b[0;32m----> 7\u001b[0;31m     \u001b[0mresult_file\u001b[0m \u001b[0;34m=\u001b[0m \u001b[0mpickle\u001b[0m\u001b[0;34m.\u001b[0m\u001b[0mload\u001b[0m\u001b[0;34m(\u001b[0m\u001b[0mopen\u001b[0m\u001b[0;34m(\u001b[0m\u001b[0mfilename\u001b[0m\u001b[0;34m,\u001b[0m\u001b[0;34m'rb'\u001b[0m\u001b[0;34m)\u001b[0m\u001b[0;34m)\u001b[0m\u001b[0;34m\u001b[0m\u001b[0;34m\u001b[0m\u001b[0m\n\u001b[0m\u001b[1;32m      8\u001b[0m     \u001b[0mprint\u001b[0m\u001b[0;34m(\u001b[0m\u001b[0;34m\"\\nLOADED FILE: \"\u001b[0m\u001b[0;34m+\u001b[0m\u001b[0mfilename\u001b[0m\u001b[0;34m)\u001b[0m\u001b[0;34m\u001b[0m\u001b[0;34m\u001b[0m\u001b[0m\n\u001b[1;32m      9\u001b[0m \u001b[0;34m\u001b[0m\u001b[0m\n",
      "\u001b[0;31mUnpicklingError\u001b[0m: state is not a dictionary"
     ]
    }
   ],
   "source": [
    "#backend = jakarta\n",
    "ibmq_fids     = []\n",
    "\n",
    "for job in job_id_list:\n",
    "    #print(job)\n",
    "    zne_res, zne_circs = zne_results_collect(backend=backend,jobid=job, zne_order=3, shots=shots)\n",
    "    zne_res_physical = remove_unphysical_bitstrings(zne_res)\n",
    "    ibmq_fids.append(state_tomo(zne_res_physical, zne_circs))"
   ]
  },
  {
   "cell_type": "code",
   "execution_count": 130,
   "id": "a39a0469",
   "metadata": {},
   "outputs": [
    {
     "name": "stdout",
     "output_type": "stream",
     "text": [
      "state tomography fidelity = 0.8822 ± 0.0197\n"
     ]
    }
   ],
   "source": [
    "## Print the final result\n",
    "print('state tomography fidelity = {:.4f} \\u00B1 {:.4f}'.format(np.mean(ibmq_fids), np.std(ibmq_fids))) "
   ]
  },
  {
   "cell_type": "code",
   "execution_count": null,
   "id": "46996dba",
   "metadata": {},
   "outputs": [],
   "source": []
  }
 ],
 "metadata": {
  "kernelspec": {
   "display_name": "Python 3 (ipykernel)",
   "language": "python",
   "name": "python3"
  },
  "language_info": {
   "codemirror_mode": {
    "name": "ipython",
    "version": 3
   },
   "file_extension": ".py",
   "mimetype": "text/x-python",
   "name": "python",
   "nbconvert_exporter": "python",
   "pygments_lexer": "ipython3",
   "version": "3.8.8"
  }
 },
 "nbformat": 4,
 "nbformat_minor": 5
}
