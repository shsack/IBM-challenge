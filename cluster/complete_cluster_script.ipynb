{
 "cells": [
  {
   "cell_type": "code",
   "execution_count": 1,
   "id": "c1b69a0c",
   "metadata": {},
   "outputs": [],
   "source": [
    "## Import libraries\n",
    "import numpy as np\n",
    "import matplotlib.pyplot as plt\n",
    "plt.rcParams.update({'font.size': 16})  # enlarge matplotlib fonts\n",
    "import pickle"
   ]
  },
  {
   "cell_type": "code",
   "execution_count": 3,
   "id": "79d6aa1d",
   "metadata": {},
   "outputs": [
    {
     "name": "stderr",
     "output_type": "stream",
     "text": [
      "<frozen importlib._bootstrap>:219: RuntimeWarning: scipy._lib.messagestream.MessageStream size changed, may indicate binary incompatibility. Expected 56 from C header, got 64 from PyObject\n"
     ]
    }
   ],
   "source": [
    "# Import qubit states Zero (|0>) and One (|1>), and Pauli operators (X, Y, Z)\n",
    "from qiskit.opflow import Zero, One, I, X, Y, Z"
   ]
  },
  {
   "cell_type": "code",
   "execution_count": 4,
   "id": "6a3922cf",
   "metadata": {},
   "outputs": [],
   "source": [
    "# Suppress warnings\n",
    "import warnings\n",
    "warnings.filterwarnings('ignore')"
   ]
  },
  {
   "cell_type": "code",
   "execution_count": 5,
   "id": "2bfa7539",
   "metadata": {},
   "outputs": [],
   "source": [
    "## Import functions from Qiskit\n",
    "from qiskit                     import QuantumCircuit, QuantumRegister, IBMQ, execute, transpile, Aer\n",
    "from qiskit.providers.aer       import QasmSimulator\n",
    "from qiskit.tools.monitor       import job_monitor\n",
    "from qiskit.circuit             import Parameter, ParameterVector\n",
    "from qiskit.quantum_info        import Statevector, Pauli\n",
    "from qiskit.opflow.state_fns    import CircuitStateFn\n",
    "from qiskit.opflow.expectations import PauliExpectation\n",
    "from qiskit.utils               import QuantumInstance\n",
    "from qiskit.opflow              import PauliOp, SummedOp, CircuitSampler, StateFn"
   ]
  },
  {
   "cell_type": "code",
   "execution_count": 6,
   "id": "cc68bee8",
   "metadata": {},
   "outputs": [],
   "source": [
    "# Import state tomography modules\n",
    "from qiskit.ignis.verification.tomography import state_tomography_circuits, StateTomographyFitter\n",
    "from qiskit.quantum_info                  import state_fidelity"
   ]
  },
  {
   "cell_type": "code",
   "execution_count": 7,
   "id": "64077764",
   "metadata": {},
   "outputs": [],
   "source": [
    "## Mitiq libraries\n",
    "from mitiq import zne\n",
    "from qiskit.result import Result\n",
    "from qiskit.result.models import ExperimentResult\n",
    "from qiskit.result.models import ExperimentResultData\n",
    "from qiskit.result.models import QobjExperimentHeader"
   ]
  },
  {
   "cell_type": "code",
   "execution_count": 8,
   "id": "8ce621d2",
   "metadata": {},
   "outputs": [],
   "source": [
    "from itertools import chain"
   ]
  },
  {
   "cell_type": "markdown",
   "id": "27d41d2f",
   "metadata": {},
   "source": [
    "## Create the circuit"
   ]
  },
  {
   "cell_type": "code",
   "execution_count": 9,
   "id": "d36ccc13",
   "metadata": {},
   "outputs": [],
   "source": [
    "def Heisenberg_YBE_variational(num_qubits,p):\n",
    "\n",
    "    circ  = QuantumCircuit(num_qubits)\n",
    "    count = 0\n",
    "    \n",
    "    def XYZ_variational(circ,i,j,params):\n",
    "        circ.cx(i,j)\n",
    "        circ.rx(params[0],i)\n",
    "        circ.rx(-np.pi/2,i)\n",
    "        circ.h(i)\n",
    "        circ.rz(params[1],j)\n",
    "\n",
    "        circ.cx(i,j)\n",
    "        circ.h(i)\n",
    "        circ.rz(params[2],j)\n",
    "\n",
    "        circ.cx(i,j)\n",
    "        circ.rx(np.pi/2,i)\n",
    "        circ.rx(-np.pi/2,j)\n",
    "\n",
    "    circ.rx(np.pi,[1,2])\n",
    "    \n",
    "    XYZ_variational(circ,1,2,p[count:count+3])\n",
    "    count += 3\n",
    "    XYZ_variational(circ,0,1,p[count:count+3])\n",
    "    count += 3\n",
    "    XYZ_variational(circ,1,2,p[count:count+3])\n",
    "    count += 3\n",
    "    XYZ_variational(circ,0,1,p[count:count+3])\n",
    "    count += 3\n",
    "    XYZ_variational(circ,1,2,p[count:count+3])\n",
    "    count += 3\n",
    "\n",
    "    return circ"
   ]
  },
  {
   "cell_type": "code",
   "execution_count": 10,
   "id": "dd86e55e",
   "metadata": {},
   "outputs": [],
   "source": [
    "pvqd_opt_params = [0.6382017062070897,\n",
    "0.5999999987484098,\n",
    "0.6382017062066773,\n",
    "3.0088034895496003,\n",
    "-3.0869200336945677,\n",
    "0.4709531470409451,\n",
    "2.163149581322057,\n",
    "3.480816125849344,\n",
    "-2.0741264452466974,\n",
    "1.2330206913091548,\n",
    "3.1275100711382064,\n",
    "1.593744340473751,\n",
    "6.107319841483039,\n",
    "3.0177717815840808,\n",
    "-3.24901805128811]"
   ]
  },
  {
   "cell_type": "code",
   "execution_count": 11,
   "id": "37f72fad",
   "metadata": {},
   "outputs": [
    {
     "data": {
      "text/plain": [
       "<qiskit.circuit.instructionset.InstructionSet at 0x7f7c27b8ea30>"
      ]
     },
     "execution_count": 11,
     "metadata": {},
     "output_type": "execute_result"
    }
   ],
   "source": [
    "## Create the circuit\n",
    "# Define the final circuit that is used to compute the fidelity \n",
    "fqr = QuantumRegister(7)\n",
    "fqc = QuantumCircuit(fqr)\n",
    "#fqc.rx(np.pi, [3, 5]) # Cannot use X gate due to a bug in mitq, rx(pi) does the same thing\n",
    "fqc.id([0, 1, 2, 4, 6]) # Need to put identities since mitq cannot handle unused qubits\n",
    "fqc.append(Heisenberg_YBE_variational(3,pvqd_opt_params), [fqr[1], fqr[3], fqr[5]])"
   ]
  },
  {
   "cell_type": "markdown",
   "id": "0b8f60d5",
   "metadata": {},
   "source": [
    "## Run on hardware"
   ]
  },
  {
   "cell_type": "code",
   "execution_count": 12,
   "id": "1e04adb8",
   "metadata": {},
   "outputs": [
    {
     "data": {
      "text/plain": [
       "<AccountProvider for IBMQ(hub='ibm-q', group='open', project='main')>"
      ]
     },
     "execution_count": 12,
     "metadata": {},
     "output_type": "execute_result"
    }
   ],
   "source": [
    "## Info for IBM\n",
    "#IBMQ.save_account('MY_API_TOKEN')\n",
    "#IBMQ.enable_account('MY_API_TOKEN')\n",
    "IBMQ.load_account()"
   ]
  },
  {
   "cell_type": "code",
   "execution_count": 13,
   "id": "c08a231d",
   "metadata": {},
   "outputs": [],
   "source": [
    "provider = IBMQ.get_provider(hub='ibm-q-community', group='ibmquantumawards', project='open-science-22')\n",
    "jakarta = provider.get_backend('ibmq_jakarta')\n",
    "# Simulated backend based on ibmq_jakarta's device noise profile\n",
    "sim_noisy_jakarta = QasmSimulator.from_backend(provider.get_backend('ibmq_jakarta'))"
   ]
  },
  {
   "cell_type": "code",
   "execution_count": 14,
   "id": "263df5e7",
   "metadata": {},
   "outputs": [],
   "source": [
    "shots = 8192\n",
    "backend = sim_noisy_jakarta\n",
    "#backend = jakarta"
   ]
  },
  {
   "cell_type": "code",
   "execution_count": 15,
   "id": "ad06d998",
   "metadata": {},
   "outputs": [],
   "source": [
    "# Compute the state tomography based on the st_qcs quantum circuits and the results from those ciricuits\n",
    "def state_tomo(result, st_qcs):\n",
    "    # The expected final state; necessary to determine state tomography fidelity\n",
    "    target_state = (One^One^Zero).to_matrix()  # DO NOT MODIFY (|q_5,q_3,q_1> = |110>)\n",
    "    # Fit state tomography results\n",
    "    tomo_fitter = StateTomographyFitter(result, st_qcs)\n",
    "    rho_fit = tomo_fitter.fit(method='lstsq')\n",
    "    # Compute fidelity\n",
    "    fid = state_fidelity(rho_fit, target_state)\n",
    "    return fid"
   ]
  },
  {
   "cell_type": "code",
   "execution_count": 29,
   "id": "5f242663",
   "metadata": {},
   "outputs": [],
   "source": [
    "def zne_job(tomo_circs, backend, optimization_level, shots):\n",
    "\n",
    "    # This function runs the tomography circuits and unrolls the gates to increase the noise level\n",
    "    # The counts that are obtained for the differnt noise levels are then extrapolated to the zero-noise level\n",
    "\n",
    "    zne_result_list = []\n",
    "    scale_factors = [1.0, 2.0, 3.0]\n",
    "\n",
    "\n",
    "    # Unfold the tomography circuit by a scale factor and evaluate them \n",
    "    noise_scaled_circuits = [[zne.scaling.fold_global(circ, s) for s in scale_factors] for circ in tomo_circs] \n",
    "    noise_scaled_circuits = list(chain(*noise_scaled_circuits)) \n",
    "\n",
    "    \n",
    "    job    = execute(noise_scaled_circuits, backend=backend, optimization_level=optimization_level, shots=shots)\n",
    "    result = job.result()\n",
    "    ## Now we will save these results in a file, together witht the circuits that have generated them\n",
    "    \n",
    "    pickle_file = \"./hw_data/tomography_id_\"+str(job.job_id())\n",
    "    pickle_data = {}\n",
    "    pickle_data[\"result\"]          = result\n",
    "    pickle_data[\"tomo_circs\"]      = tomo_circs\n",
    "    \n",
    "    # Dump on file\n",
    "    with open(pickle_file,'wb+') as f:\n",
    "        pickle.dump(pickle_data, f)\n",
    "    \n",
    "    print(\"JOB \"+str(job.job_id())+\" SUCCESSFULLY RUN AND SAVED\")\n",
    "    return result"
   ]
  },
  {
   "cell_type": "code",
   "execution_count": 30,
   "id": "6b25f355",
   "metadata": {},
   "outputs": [],
   "source": [
    "# Create the tomography circuits\n",
    "st_qcs = state_tomography_circuits(fqc.decompose(), [fqr[1], fqr[3], fqr[5]])"
   ]
  },
  {
   "cell_type": "code",
   "execution_count": 31,
   "id": "055f599f",
   "metadata": {},
   "outputs": [
    {
     "name": "stdout",
     "output_type": "stream",
     "text": [
      "\n",
      " REPETITION 1\n",
      "\n",
      "JOB aa5796ac-c66c-40fc-9df5-1e7b9b1a6022 SUCCESSFULLY RUN AND SAVED\n"
     ]
    }
   ],
   "source": [
    "# Repeat fidelity measurement\n",
    "reps = 1 # Needs to be 8 in the final execution\n",
    "result_list = []\n",
    "for count in range(reps):\n",
    "    print(\"\\n REPETITION \"+str(count+1)+\"\\n\")\n",
    "    \n",
    "    zne_res = zne_job(st_qcs, backend=backend, optimization_level=0, shots=shots)\n",
    "    result_list.append(zne_res)"
   ]
  },
  {
   "cell_type": "markdown",
   "id": "3d55ad83",
   "metadata": {},
   "source": [
    "## Retrieve the results"
   ]
  },
  {
   "cell_type": "markdown",
   "id": "a70b25af",
   "metadata": {},
   "source": [
    "#### From result list of this notebook"
   ]
  },
  {
   "cell_type": "code",
   "execution_count": 37,
   "id": "2ea5a94a",
   "metadata": {},
   "outputs": [],
   "source": [
    "def zne_results_from_notebook(result,tomo_circs, zne_order, shots):\n",
    "\n",
    "    \n",
    "    count_list = result.get_counts()\n",
    "    ordered_bitstrings = dict(sorted(count_list[0].items()))\n",
    "    \n",
    "    zne_result_list = []\n",
    "    scale_factors = [1.0, 2.0, 3.0]\n",
    "\n",
    "    for i in range(len(tomo_circs)):\n",
    "        counts_dict = {}\n",
    "\n",
    "        # Loop over the results of the scaled circuits and collect the data in the correct form\n",
    "        for key in ordered_bitstrings.keys():\n",
    "            counts_list_zne = []\n",
    "            for count in count_list[i*len(scale_factors):len(scale_factors)*(i+1)]:\n",
    "                counts_list_zne.append(count[key])\n",
    "            # Here we extrapolate the counts to zero noise and round to the closest integer \n",
    "            zne_counts_value = int(zne.PolyFactory.extrapolate(scale_factors, counts_list_zne, order=zne_order)) \n",
    "            if zne_counts_value < 0:\n",
    "                zne_counts_value = 0\n",
    "            counts_dict[key] = zne_counts_value\n",
    "        zne_result_list.append(counts_dict)\n",
    "        \n",
    "    # To work with the StateTomographyFitter we need to put the result into a Qiskit Result() object\n",
    "    name_list = [circ.name for circ in tomo_circs]\n",
    "    results_tmp = [[ExperimentResult(shots=shots, success=True, data=ExperimentResultData(counts=result_i), header=QobjExperimentHeader(name=name_i))] for (name_i, result_i) in zip(name_list, zne_result_list)]\n",
    "    results = [Result(backend_name=\"zne\", backend_version=\"zne\", qobj_id='0', job_id='0', success=True, results=result_i) for result_i in results_tmp]\n",
    "\n",
    "    return results "
   ]
  },
  {
   "cell_type": "code",
   "execution_count": 39,
   "id": "53543a0c",
   "metadata": {},
   "outputs": [],
   "source": [
    "fids     = []\n",
    "for result in result_list:\n",
    "    #print(job)\n",
    "    zne_res  = zne_results_from_notebook(result=result,tomo_circs=st_qcs, zne_order=2, shots=shots)\n",
    "    fids.append(state_tomo(zne_res, st_qcs))"
   ]
  },
  {
   "cell_type": "code",
   "execution_count": 40,
   "id": "683f2481",
   "metadata": {},
   "outputs": [
    {
     "name": "stdout",
     "output_type": "stream",
     "text": [
      "state tomography fidelity = 0.8833 ± 0.0000\n"
     ]
    }
   ],
   "source": [
    "## Print the final result\n",
    "print('state tomography fidelity = {:.4f} \\u00B1 {:.4f}'.format(np.mean(fids), np.std(fids))) "
   ]
  },
  {
   "cell_type": "markdown",
   "id": "9101642b",
   "metadata": {},
   "source": [
    "#### From data file"
   ]
  },
  {
   "cell_type": "code",
   "execution_count": 34,
   "id": "c8612466",
   "metadata": {},
   "outputs": [],
   "source": [
    "def zne_results_from_file(filename, zne_order, shots):\n",
    "\n",
    "    \n",
    "    result_file = pickle.load(open(filename,'rb'))\n",
    "    print(\"\\nLOADED FILE: \"+filename)\n",
    "    \n",
    "    tomo_circs = result_file[\"tomo_circs\"]\n",
    "    result = result_file[\"result\"]\n",
    "    \n",
    "    count_list = result.get_counts()\n",
    "    ordered_bitstrings = dict(sorted(count_list[0].items()))\n",
    "    \n",
    "    zne_result_list = []\n",
    "    scale_factors = [1.0, 2.0, 3.0]\n",
    "\n",
    "    for i in range(len(tomo_circs)):\n",
    "        counts_dict = {}\n",
    "\n",
    "        # Loop over the results of the scaled circuits and collect the data in the correct form\n",
    "        for key in ordered_bitstrings.keys():\n",
    "            counts_list_zne = []\n",
    "            for count in count_list[i*len(scale_factors):len(scale_factors)*(i+1)]:\n",
    "                counts_list_zne.append(count[key])\n",
    "            # Here we extrapolate the counts to zero noise and round to the closest integer \n",
    "            zne_counts_value = int(zne.PolyFactory.extrapolate(scale_factors, counts_list_zne, order=zne_order)) \n",
    "            if zne_counts_value < 0:\n",
    "                zne_counts_value = 0\n",
    "            counts_dict[key] = zne_counts_value\n",
    "        zne_result_list.append(counts_dict)\n",
    "        \n",
    "    # To work with the StateTomographyFitter we need to put the result into a Qiskit Result() object\n",
    "    name_list = [circ.name for circ in tomo_circs]\n",
    "    results_tmp = [[ExperimentResult(shots=shots, success=True, data=ExperimentResultData(counts=result_i), header=QobjExperimentHeader(name=name_i))] for (name_i, result_i) in zip(name_list, zne_result_list)]\n",
    "    results = [Result(backend_name=\"zne\", backend_version=\"zne\", qobj_id='0', job_id='0', success=True, results=result_i) for result_i in results_tmp]\n",
    "\n",
    "    return results "
   ]
  },
  {
   "cell_type": "code",
   "execution_count": 35,
   "id": "d53aa8e4",
   "metadata": {},
   "outputs": [
    {
     "name": "stdout",
     "output_type": "stream",
     "text": [
      "aa5796ac-c66c-40fc-9df5-1e7b9b1a6022\n",
      "\n",
      "LOADED FILE: ./hw_data/tomography_id_aa5796ac-c66c-40fc-9df5-1e7b9b1a6022\n"
     ]
    }
   ],
   "source": [
    "# the list of job to evaluate\n",
    "job_list = ['aa5796ac-c66c-40fc-9df5-1e7b9b1a6022']\n",
    "file_fids     = []\n",
    "\n",
    "for job in job_list:\n",
    "    #print(job)\n",
    "    \n",
    "    job_file = \"./hw_data/tomography_id_\"+job\n",
    "    zne_res  = zne_results_from_file(filename=job_file, zne_order=2, shots=shots)\n",
    "    file_fids.append(state_tomo(zne_res, st_qcs))"
   ]
  },
  {
   "cell_type": "code",
   "execution_count": 36,
   "id": "f5dc197d",
   "metadata": {},
   "outputs": [
    {
     "name": "stdout",
     "output_type": "stream",
     "text": [
      "state tomography fidelity = 0.8833 ± 0.0000\n"
     ]
    }
   ],
   "source": [
    "## Print the final result\n",
    "print('state tomography fidelity = {:.4f} \\u00B1 {:.4f}'.format(np.mean(file_fids), np.std(file_fids))) "
   ]
  },
  {
   "cell_type": "markdown",
   "id": "a2cdd015",
   "metadata": {},
   "source": [
    "#### From IBM Quantum"
   ]
  },
  {
   "cell_type": "code",
   "execution_count": null,
   "id": "9d64ea2d",
   "metadata": {},
   "outputs": [],
   "source": [
    "def zne_results_from_IBMQ(backend,jobid,tomo_circs, zne_order, shots):\n",
    "    \n",
    "    job    = backend.retrieve_job('JobID') # Maybe a [0] is needed if it doesn't work properly\n",
    "    result = job.result()\n",
    "    \n",
    "    count_list = result.get_counts()\n",
    "    ordered_bitstrings = dict(sorted(count_list[0].items()))\n",
    "    \n",
    "    zne_result_list = []\n",
    "    scale_factors = [1.0, 2.0, 3.0]\n",
    "\n",
    "    for i in range(len(tomo_circs)):\n",
    "        counts_dict = {}\n",
    "\n",
    "        # Loop over the results of the scaled circuits and collect the data in the correct form\n",
    "        for key in ordered_bitstrings.keys():\n",
    "            counts_list_zne = []\n",
    "            for count in count_list[i*len(scale_factors):len(scale_factors)*(i+1)]:\n",
    "                counts_list_zne.append(count[key])\n",
    "            # Here we extrapolate the counts to zero noise and round to the closest integer \n",
    "            zne_counts_value = int(zne.PolyFactory.extrapolate(scale_factors, counts_list_zne, order=zne_order)) \n",
    "            if zne_counts_value < 0:\n",
    "                zne_counts_value = 0\n",
    "            counts_dict[key] = zne_counts_value\n",
    "        zne_result_list.append(counts_dict)\n",
    "        \n",
    "    # To work with the StateTomographyFitter we need to put the result into a Qiskit Result() object\n",
    "    name_list = [circ.name for circ in tomo_circs]\n",
    "    results_tmp = [[ExperimentResult(shots=shots, success=True, data=ExperimentResultData(counts=result_i), header=QobjExperimentHeader(name=name_i))] for (name_i, result_i) in zip(name_list, zne_result_list)]\n",
    "    results = [Result(backend_name=\"zne\", backend_version=\"zne\", qobj_id='0', job_id='0', success=True, results=result_i) for result_i in results_tmp]\n",
    "\n",
    "    return results"
   ]
  },
  {
   "cell_type": "code",
   "execution_count": null,
   "id": "0fa64889",
   "metadata": {},
   "outputs": [],
   "source": [
    "# the list of job to evaluate\n",
    "job_list = ['aa5796ac-c66c-40fc-9df5-1e7b9b1a6022']\n",
    "st_qcs   = state_tomography_circuits(fqc.decompose(), [fqr[1], fqr[3], fqr[5]])\n",
    "#backend = jakarta\n",
    "ibmq_fids     = []\n",
    "\n",
    "for job in job_list:\n",
    "    #print(job)\n",
    "    \n",
    "    job_file = \"./hw_data/tomography_id_\"+job\n",
    "    zne_res  = zne_results_from_IBMQ(backend=backend,jobid=job, zne_order=2, shots=shots)\n",
    "    ibmq_fids.append(state_tomo(zne_res, st_qcs))"
   ]
  },
  {
   "cell_type": "code",
   "execution_count": null,
   "id": "98f1e207",
   "metadata": {},
   "outputs": [],
   "source": [
    "## Print the final result\n",
    "print('state tomography fidelity = {:.4f} \\u00B1 {:.4f}'.format(np.mean(ibmq_fids), np.std(ibmq_fids))) "
   ]
  }
 ],
 "metadata": {
  "kernelspec": {
   "display_name": "Python 3 (ipykernel)",
   "language": "python",
   "name": "python3"
  },
  "language_info": {
   "codemirror_mode": {
    "name": "ipython",
    "version": 3
   },
   "file_extension": ".py",
   "mimetype": "text/x-python",
   "name": "python",
   "nbconvert_exporter": "python",
   "pygments_lexer": "ipython3",
   "version": "3.8.12"
  }
 },
 "nbformat": 4,
 "nbformat_minor": 5
}
