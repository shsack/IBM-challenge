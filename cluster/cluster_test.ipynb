{
 "cells": [
  {
   "cell_type": "code",
   "execution_count": 1,
   "metadata": {},
   "outputs": [],
   "source": [
    "## Import libraries\n",
    "import numpy as np\n",
    "import matplotlib.pyplot as plt\n",
    "plt.rcParams.update({'font.size': 16})  # enlarge matplotlib fonts\n",
    "import pickle\n",
    "\n",
    "# Import qubit states Zero (|0>) and One (|1>), and Pauli operators (X, Y, Z)\n",
    "from qiskit.opflow import Zero, One, I, X, Y, Z\n",
    "\n",
    "# Suppress warnings\n",
    "import warnings\n",
    "warnings.filterwarnings('ignore')\n",
    "\n",
    "## Import functions from Qiskit\n",
    "from qiskit                     import QuantumCircuit, QuantumRegister, IBMQ, execute, transpile, Aer\n",
    "from qiskit.providers.aer       import QasmSimulator\n",
    "from qiskit.tools.monitor       import job_monitor\n",
    "from qiskit.circuit             import Parameter, ParameterVector\n",
    "from qiskit.quantum_info        import Statevector, Pauli\n",
    "from qiskit.opflow.state_fns    import CircuitStateFn\n",
    "from qiskit.opflow.expectations import PauliExpectation\n",
    "from qiskit.utils               import QuantumInstance\n",
    "from qiskit.opflow              import PauliOp, SummedOp, CircuitSampler, StateFn\n",
    "\n",
    "# Import state tomography modules\n",
    "from qiskit.ignis.verification.tomography import state_tomography_circuits, StateTomographyFitter\n",
    "from qiskit.quantum_info                  import state_fidelity\n",
    "\n",
    "\n",
    "## Mitiq libraries\n",
    "from mitiq import zne\n",
    "from qiskit.result import Result\n",
    "from qiskit.result.models import ExperimentResult\n",
    "from qiskit.result.models import ExperimentResultData\n",
    "from qiskit.result.models import QobjExperimentHeader\n"
   ]
  },
  {
   "cell_type": "code",
   "execution_count": 40,
   "metadata": {},
   "outputs": [],
   "source": [
    "from itertools import chain\n",
    "import re"
   ]
  },
  {
   "cell_type": "code",
   "execution_count": 3,
   "metadata": {},
   "outputs": [],
   "source": [
    "def Heisenberg_YBE_variational(num_qubits,p):\n",
    "\n",
    "    circ  = QuantumCircuit(num_qubits)\n",
    "    count = 0\n",
    "    \n",
    "    def XYZ_variational(circ,i,j,params):\n",
    "        circ.cx(i,j)\n",
    "        circ.rx(params[0],i)\n",
    "        circ.rx(-np.pi/2,i)\n",
    "        circ.h(i)\n",
    "        circ.rz(params[1],j)\n",
    "\n",
    "        circ.cx(i,j)\n",
    "        circ.h(i)\n",
    "        circ.rz(params[2],j)\n",
    "\n",
    "        circ.cx(i,j)\n",
    "        circ.rx(np.pi/2,i)\n",
    "        circ.rx(-np.pi/2,j)\n",
    "\n",
    "    circ.rx(np.pi,[1,2])\n",
    "    \n",
    "    XYZ_variational(circ,1,2,p[count:count+3])\n",
    "    count += 3\n",
    "    XYZ_variational(circ,0,1,p[count:count+3])\n",
    "    count += 3\n",
    "    XYZ_variational(circ,1,2,p[count:count+3])\n",
    "    count += 3\n",
    "    XYZ_variational(circ,0,1,p[count:count+3])\n",
    "    count += 3\n",
    "    XYZ_variational(circ,1,2,p[count:count+3])\n",
    "    count += 3\n",
    "\n",
    "    return circ"
   ]
  },
  {
   "cell_type": "code",
   "execution_count": 4,
   "metadata": {},
   "outputs": [],
   "source": [
    "# And take the parameters from pVQD\n",
    "\n",
    "pvqd_opt_params = [0.6382017062070897,\n",
    "0.5999999987484098,\n",
    "0.6382017062066773,\n",
    "3.0088034895496003,\n",
    "-3.0869200336945677,\n",
    "0.4709531470409451,\n",
    "2.163149581322057,\n",
    "3.480816125849344,\n",
    "-2.0741264452466974,\n",
    "1.2330206913091548,\n",
    "3.1275100711382064,\n",
    "1.593744340473751,\n",
    "6.107319841483039,\n",
    "3.0177717815840808,\n",
    "-3.24901805128811]\n"
   ]
  },
  {
   "cell_type": "code",
   "execution_count": 5,
   "metadata": {},
   "outputs": [],
   "source": [
    "## Create the circuit\n",
    "# Define the final circuit that is used to compute the fidelity \n",
    "fqr = QuantumRegister(7)\n",
    "fqc = QuantumCircuit(fqr)\n",
    "#fqc.rx(np.pi, [3, 5]) # Cannot use X gate due to a bug in mitq, rx(pi) does the same thing\n",
    "fqc.id([0, 1, 2, 4, 6]) # Need to put identities since mitq cannot handle unused qubits\n",
    "fqc.append(Heisenberg_YBE_variational(3,pvqd_opt_params), [fqr[1], fqr[3], fqr[5]])\n",
    "\n",
    "\n",
    "## Info for IBM\n",
    "#IBMQ.save_account('MY_API_TOKEN')\n",
    "#IBMQ.enable_account('MY_API_TOKEN')\n",
    "IBMQ.load_account()\n",
    "\n",
    "provider = IBMQ.get_provider(hub='ibm-q-community', group='ibmquantumawards', project='open-science-22')\n",
    "jakarta = provider.get_backend('ibmq_jakarta')\n",
    "# Simulated backend based on ibmq_jakarta's device noise profile\n",
    "sim_noisy_jakarta = QasmSimulator.from_backend(provider.get_backend('ibmq_jakarta'))\n",
    "\n",
    "shots = 8192\n",
    "backend = sim_noisy_jakarta\n",
    "#backend = jakarta"
   ]
  },
  {
   "cell_type": "code",
   "execution_count": 6,
   "metadata": {},
   "outputs": [],
   "source": [
    "# Compute the state tomography based on the st_qcs quantum circuits and the results from those ciricuits\n",
    "def state_tomo(result, st_qcs):\n",
    "    # The expected final state; necessary to determine state tomography fidelity\n",
    "    target_state = (One^One^Zero).to_matrix()  # DO NOT MODIFY (|q_5,q_3,q_1> = |110>)\n",
    "    # Fit state tomography results\n",
    "    tomo_fitter = StateTomographyFitter(result, st_qcs)\n",
    "    rho_fit = tomo_fitter.fit(method='lstsq')\n",
    "    # Compute fidelity\n",
    "    fid = state_fidelity(rho_fit, target_state)\n",
    "    return fid\n"
   ]
  },
  {
   "cell_type": "code",
   "execution_count": 7,
   "metadata": {},
   "outputs": [],
   "source": [
    "def zne_results(tomo_circs, backend, optimization_level, zne_order, shots,job_list):\n",
    "\n",
    "    # This function runs the tomography circuits and unrolls the gates to increase the noise level\n",
    "    # The counts that are obtained for the differnt noise levels are then extrapolated to the zero-noise level\n",
    "\n",
    "    zne_result_list = []\n",
    "    scale_factors = [1.0, 2.0, 3.0]\n",
    "    # Loop over the tomography circuits\n",
    "    #for circ in tomo_circs:\n",
    "\n",
    "    #print(\"\\n\\n############### Running the \"+str(circ.name)+\" circuit   ############### \")\n",
    "    #job_list[str(circ.name)] = []\n",
    "    # Unfold the tomography circuit by a scale factor and evaluate them \n",
    "    noise_scaled_circuits = [[zne.scaling.fold_global(circ, s) for s in scale_factors] for circ in tomo_circs] \n",
    "    noise_scaled_circuits = list(chain(*noise_scaled_circuits))\n",
    "\n",
    "    #TODO: put transpile here\n",
    "    result = execute(noise_scaled_circuits, backend=backend, optimization_level=optimization_level, shots=shots).result()\n",
    "    count_list = result.get_counts()\n",
    "    ordered_bitstrings = dict(sorted(count_list[0].items()))\n",
    "\n",
    "    for i in range(len(tomo_circs)):\n",
    "        counts_dict = {}\n",
    "        # Loop over the results of the scaled circuits and collect the data in the correct form\n",
    "        for key in ordered_bitstrings.keys():\n",
    "            counts_list_zne = []\n",
    "            for count in count_list[i*len(scale_factors):len(scale_factors)*(i+1)]:\n",
    "                counts_list_zne.append(count[key])\n",
    "            # Here we extrapolate the counts to zero noise and round to the closest integer \n",
    "            zne_counts_value = int(zne.PolyFactory.extrapolate(scale_factors, counts_list_zne, order=zne_order)) \n",
    "            if zne_counts_value < 0:\n",
    "                zne_counts_value = 0\n",
    "            counts_dict[key] = zne_counts_value\n",
    "        zne_result_list.append(counts_dict)\n",
    "    \n",
    "    # To work with the StateTomographyFitter we need to put the result into a Qiskit Result() object\n",
    "    name_list = [circ.name for circ in tomo_circs]\n",
    "    results_tmp = [[ExperimentResult(shots=shots, success=True, data=ExperimentResultData(counts=result_i), header=QobjExperimentHeader(name=name_i))] for (name_i, result_i) in zip(name_list, zne_result_list)]\n",
    "    results = [Result(backend_name=\"zne\", backend_version=\"zne\", qobj_id='0', job_id='0', success=True, results=result_i) for result_i in results_tmp]\n",
    "\n",
    "    return results \n"
   ]
  },
  {
   "cell_type": "code",
   "execution_count": 69,
   "metadata": {},
   "outputs": [],
   "source": [
    "def remove_unphysical_bitstrings(result):\n",
    "    for result_i in result:\n",
    "        name = result_i.results[0].header.name\n",
    "        res = \"\".join(re.findall(\"[XYZ]+\", name))\n",
    "        res_2 = \"\".join(re.findall(\"[Z]+\", res))\n",
    "        if len(res_2) == 3:\n",
    "            bitstring_1 = res.replace('Z', '0')\n",
    "            bitstring_2 = res.replace('Z', '1')\n",
    "            result_i.results[0].data.counts[bitstring_1] = 0\n",
    "            result_i.results[0].data.counts[bitstring_2] = 0\n",
    "        if len(res_2) == 2:    \n",
    "            bitstring = res.replace('Z', '0')\n",
    "            bitstring_1 = bitstring.replace('X', '0')\n",
    "            bitstring_1 = bitstring_1.replace('Y', '0')\n",
    "            bitstring_2 = bitstring.replace('X', '1')\n",
    "            bitstring_2 = bitstring_2.replace('Y', '1')\n",
    "            result_i.results[0].data.counts[bitstring_1] = 0\n",
    "            result_i.results[0].data.counts[bitstring_2] = 0\n",
    "    return result"
   ]
  },
  {
   "cell_type": "code",
   "execution_count": 70,
   "metadata": {},
   "outputs": [
    {
     "name": "stdout",
     "output_type": "stream",
     "text": [
      "\n",
      " REPETITION 1\n",
      "\n",
      "\n",
      "state tomography fidelity = 0.9074 ± 0.0000\n",
      "\n",
      "\n",
      "\n",
      " JOB LIST:\n",
      "{}\n"
     ]
    }
   ],
   "source": [
    "# Create the tomography circuits\n",
    "st_qcs = state_tomography_circuits(fqc.decompose(), [fqr[1], fqr[3], fqr[5]])\n",
    "\n",
    "# Repeat fidelity measurement\n",
    "reps = 1 # Needs to be 8 in the final execution\n",
    "fids = []\n",
    "job_list = {}\n",
    "for count in range(reps):\n",
    "    print(\"\\n REPETITION \"+str(count+1)+\"\\n\\n\")\n",
    "    \n",
    "    zne_res = zne_results(st_qcs, backend=backend, optimization_level=0, zne_order=2, shots=shots,job_list=job_list)\n",
    "    res = remove_unphysical_bitstrings(zne_res)\n",
    "    fids.append(state_tomo(res, st_qcs))\n",
    "\n",
    "## Print the final result\n",
    "print('state tomography fidelity = {:.4f} \\u00B1 {:.4f}'.format(np.mean(fids), np.std(fids))) \n",
    "\n",
    "print(\"\\n\\n\\n JOB LIST:\")\n",
    "print(job_list)"
   ]
  },
  {
   "cell_type": "code",
   "execution_count": 71,
   "metadata": {},
   "outputs": [
    {
     "name": "stdout",
     "output_type": "stream",
     "text": [
      "[Result(backend_name='zne', backend_version='zne', qobj_id='0', job_id='0', success=True, results=[ExperimentResult(shots=8192, success=True, meas_level=2, data=ExperimentResultData(counts={'000': 958, '001': 900, '010': 1267, '011': 981, '100': 942, '101': 1453, '110': 739, '111': 946}), header=QobjExperimentHeader(name=\"('X', 'X', 'X')\"))]), Result(backend_name='zne', backend_version='zne', qobj_id='0', job_id='0', success=True, results=[ExperimentResult(shots=8192, success=True, meas_level=2, data=ExperimentResultData(counts={'000': 1290, '001': 1301, '010': 959, '011': 591, '100': 729, '101': 1077, '110': 1086, '111': 1152}), header=QobjExperimentHeader(name=\"('X', 'X', 'Y')\"))]), Result(backend_name='zne', backend_version='zne', qobj_id='0', job_id='0', success=True, results=[ExperimentResult(shots=8192, success=True, meas_level=2, data=ExperimentResultData(counts={'000': 325, '001': 185, '010': 378, '011': 241, '100': 1486, '101': 2086, '110': 1879, '111': 1605}), header=QobjExperimentHeader(name=\"('X', 'X', 'Z')\"))]), Result(backend_name='zne', backend_version='zne', qobj_id='0', job_id='0', success=True, results=[ExperimentResult(shots=8192, success=True, meas_level=2, data=ExperimentResultData(counts={'000': 1032, '001': 1315, '010': 1179, '011': 490, '100': 753, '101': 1124, '110': 1084, '111': 1208}), header=QobjExperimentHeader(name=\"('X', 'Y', 'X')\"))]), Result(backend_name='zne', backend_version='zne', qobj_id='0', job_id='0', success=True, results=[ExperimentResult(shots=8192, success=True, meas_level=2, data=ExperimentResultData(counts={'000': 1427, '001': 1128, '010': 990, '011': 643, '100': 813, '101': 1089, '110': 1152, '111': 943}), header=QobjExperimentHeader(name=\"('X', 'Y', 'Y')\"))]), Result(backend_name='zne', backend_version='zne', qobj_id='0', job_id='0', success=True, results=[ExperimentResult(shots=8192, success=True, meas_level=2, data=ExperimentResultData(counts={'000': 390, '001': 342, '010': 253, '011': 264, '100': 1720, '101': 1871, '110': 1870, '111': 1475}), header=QobjExperimentHeader(name=\"('X', 'Y', 'Z')\"))]), Result(backend_name='zne', backend_version='zne', qobj_id='0', job_id='0', success=True, results=[ExperimentResult(shots=8192, success=True, meas_level=2, data=ExperimentResultData(counts={'000': 0, '001': 68, '010': 2483, '011': 1676, '100': 109, '101': 0, '110': 1535, '111': 2424}), header=QobjExperimentHeader(name=\"('X', 'Z', 'X')\"))]), Result(backend_name='zne', backend_version='zne', qobj_id='0', job_id='0', success=True, results=[ExperimentResult(shots=8192, success=True, meas_level=2, data=ExperimentResultData(counts={'000': 96, '001': 0, '010': 2293, '011': 1958, '100': 29, '101': 0, '110': 1709, '111': 2267}), header=QobjExperimentHeader(name=\"('X', 'Z', 'Y')\"))]), Result(backend_name='zne', backend_version='zne', qobj_id='0', job_id='0', success=True, results=[ExperimentResult(shots=8192, success=True, meas_level=2, data=ExperimentResultData(counts={'000': 0, '001': 19, '010': 524, '011': 596, '100': 0, '101': 35, '110': 3683, '111': 3355}), header=QobjExperimentHeader(name=\"('X', 'Z', 'Z')\"))]), Result(backend_name='zne', backend_version='zne', qobj_id='0', job_id='0', success=True, results=[ExperimentResult(shots=8192, success=True, meas_level=2, data=ExperimentResultData(counts={'000': 753, '001': 845, '010': 929, '011': 1165, '100': 1438, '101': 1066, '110': 743, '111': 1246}), header=QobjExperimentHeader(name=\"('Y', 'X', 'X')\"))]), Result(backend_name='zne', backend_version='zne', qobj_id='0', job_id='0', success=True, results=[ExperimentResult(shots=8192, success=True, meas_level=2, data=ExperimentResultData(counts={'000': 1836, '001': 920, '010': 818, '011': 517, '100': 729, '101': 1200, '110': 725, '111': 1441}), header=QobjExperimentHeader(name=\"('Y', 'X', 'Y')\"))]), Result(backend_name='zne', backend_version='zne', qobj_id='0', job_id='0', success=True, results=[ExperimentResult(shots=8192, success=True, meas_level=2, data=ExperimentResultData(counts={'000': 268, '001': 158, '010': 342, '011': 349, '100': 1669, '101': 1819, '110': 1640, '111': 1940}), header=QobjExperimentHeader(name=\"('Y', 'X', 'Z')\"))]), Result(backend_name='zne', backend_version='zne', qobj_id='0', job_id='0', success=True, results=[ExperimentResult(shots=8192, success=True, meas_level=2, data=ExperimentResultData(counts={'000': 1060, '001': 1558, '010': 799, '011': 807, '100': 1010, '101': 675, '110': 1229, '111': 1047}), header=QobjExperimentHeader(name=\"('Y', 'Y', 'X')\"))]), Result(backend_name='zne', backend_version='zne', qobj_id='0', job_id='0', success=True, results=[ExperimentResult(shots=8192, success=True, meas_level=2, data=ExperimentResultData(counts={'000': 1186, '001': 1158, '010': 1066, '011': 589, '100': 756, '101': 1208, '110': 1066, '111': 1156}), header=QobjExperimentHeader(name=\"('Y', 'Y', 'Y')\"))]), Result(backend_name='zne', backend_version='zne', qobj_id='0', job_id='0', success=True, results=[ExperimentResult(shots=8192, success=True, meas_level=2, data=ExperimentResultData(counts={'000': 331, '001': 317, '010': 291, '011': 243, '100': 1837, '101': 1807, '110': 1866, '111': 1495}), header=QobjExperimentHeader(name=\"('Y', 'Y', 'Z')\"))]), Result(backend_name='zne', backend_version='zne', qobj_id='0', job_id='0', success=True, results=[ExperimentResult(shots=8192, success=True, meas_level=2, data=ExperimentResultData(counts={'000': 46, '001': 82, '010': 1611, '011': 2243, '100': 41, '101': 119, '110': 2399, '111': 1644}), header=QobjExperimentHeader(name=\"('Y', 'Z', 'X')\"))]), Result(backend_name='zne', backend_version='zne', qobj_id='0', job_id='0', success=True, results=[ExperimentResult(shots=8192, success=True, meas_level=2, data=ExperimentResultData(counts={'000': 82, '001': 0, '010': 2197, '011': 1740, '100': 80, '101': 38, '110': 1702, '111': 2390}), header=QobjExperimentHeader(name=\"('Y', 'Z', 'Y')\"))]), Result(backend_name='zne', backend_version='zne', qobj_id='0', job_id='0', success=True, results=[ExperimentResult(shots=8192, success=True, meas_level=2, data=ExperimentResultData(counts={'000': 0, '001': 146, '010': 754, '011': 401, '100': 0, '101': 5, '110': 3724, '111': 3107}), header=QobjExperimentHeader(name=\"('Y', 'Z', 'Z')\"))]), Result(backend_name='zne', backend_version='zne', qobj_id='0', job_id='0', success=True, results=[ExperimentResult(shots=8192, success=True, meas_level=2, data=ExperimentResultData(counts={'000': 1670, '001': 0, '010': 2184, '011': 229, '100': 2118, '101': 150, '110': 1784, '111': 119}), header=QobjExperimentHeader(name=\"('Z', 'X', 'X')\"))]), Result(backend_name='zne', backend_version='zne', qobj_id='0', job_id='0', success=True, results=[ExperimentResult(shots=8192, success=True, meas_level=2, data=ExperimentResultData(counts={'000': 2222, '001': 185, '010': 1688, '011': 0, '100': 1753, '101': 0, '110': 2340, '111': 165}), header=QobjExperimentHeader(name=\"('Z', 'X', 'Y')\"))]), Result(backend_name='zne', backend_version='zne', qobj_id='0', job_id='0', success=True, results=[ExperimentResult(shots=8192, success=True, meas_level=2, data=ExperimentResultData(counts={'000': 0, '001': 402, '010': 0, '011': 169, '100': 3868, '101': 0, '110': 3277, '111': 0}), header=QobjExperimentHeader(name=\"('Z', 'X', 'Z')\"))]), Result(backend_name='zne', backend_version='zne', qobj_id='0', job_id='0', success=True, results=[ExperimentResult(shots=8192, success=True, meas_level=2, data=ExperimentResultData(counts={'000': 2239, '001': 204, '010': 1506, '011': 49, '100': 2046, '101': 0, '110': 2004, '111': 189}), header=QobjExperimentHeader(name=\"('Z', 'Y', 'X')\"))]), Result(backend_name='zne', backend_version='zne', qobj_id='0', job_id='0', success=True, results=[ExperimentResult(shots=8192, success=True, meas_level=2, data=ExperimentResultData(counts={'000': 2010, '001': 257, '010': 1742, '011': 132, '100': 2020, '101': 34, '110': 1979, '111': 11}), header=QobjExperimentHeader(name=\"('Z', 'Y', 'Y')\"))]), Result(backend_name='zne', backend_version='zne', qobj_id='0', job_id='0', success=True, results=[ExperimentResult(shots=8192, success=True, meas_level=2, data=ExperimentResultData(counts={'000': 0, '001': 190, '010': 0, '011': 326, '100': 3578, '101': 119, '110': 3372, '111': 127}), header=QobjExperimentHeader(name=\"('Z', 'Y', 'Z')\"))]), Result(backend_name='zne', backend_version='zne', qobj_id='0', job_id='0', success=True, results=[ExperimentResult(shots=8192, success=True, meas_level=2, data=ExperimentResultData(counts={'000': 0, '001': 0, '010': 3520, '011': 325, '100': 111, '101': 0, '110': 4041, '111': 185}), header=QobjExperimentHeader(name=\"('Z', 'Z', 'X')\"))]), Result(backend_name='zne', backend_version='zne', qobj_id='0', job_id='0', success=True, results=[ExperimentResult(shots=8192, success=True, meas_level=2, data=ExperimentResultData(counts={'000': 0, '001': 0, '010': 3588, '011': 258, '100': 70, '101': 0, '110': 3756, '111': 514}), header=QobjExperimentHeader(name=\"('Z', 'Z', 'Y')\"))]), Result(backend_name='zne', backend_version='zne', qobj_id='0', job_id='0', success=True, results=[ExperimentResult(shots=8192, success=True, meas_level=2, data=ExperimentResultData(counts={'000': 0, '001': 0, '010': 551, '011': 471, '100': 423, '101': 0, '110': 7059, '111': 0}), header=QobjExperimentHeader(name=\"('Z', 'Z', 'Z')\"))])]\n"
     ]
    }
   ],
   "source": [
    "print(res)"
   ]
  },
  {
   "cell_type": "code",
   "execution_count": null,
   "metadata": {},
   "outputs": [],
   "source": []
  }
 ],
 "metadata": {
  "interpreter": {
   "hash": "9e945b1449651ef439f1d5ebfe593e29de412749513c54308536f393476adde4"
  },
  "kernelspec": {
   "display_name": "Python 3 (ipykernel)",
   "language": "python",
   "name": "python3"
  },
  "language_info": {
   "codemirror_mode": {
    "name": "ipython",
    "version": 3
   },
   "file_extension": ".py",
   "mimetype": "text/x-python",
   "name": "python",
   "nbconvert_exporter": "python",
   "pygments_lexer": "ipython3",
   "version": "3.9.9"
  }
 },
 "nbformat": 4,
 "nbformat_minor": 4
}
