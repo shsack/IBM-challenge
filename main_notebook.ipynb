{
 "cells": [
  {
   "cell_type": "markdown",
   "id": "2d79f811-56d9-453a-bd2b-1dc6c6bfc014",
   "metadata": {},
   "source": [
    "# IBM Open Science Prize 2022 \n",
    "\n",
    "**Group:** _Stefan Sack, Stefano Barison_"
   ]
  },
  {
   "cell_type": "code",
   "execution_count": null,
   "id": "24bb05f3",
   "metadata": {},
   "outputs": [],
   "source": [
    "## TODO: little introduction?"
   ]
  },
  {
   "cell_type": "code",
   "execution_count": null,
   "id": "19d1f2ac",
   "metadata": {},
   "outputs": [],
   "source": []
  },
  {
   "cell_type": "code",
   "execution_count": 1,
   "id": "6ded4eac",
   "metadata": {},
   "outputs": [],
   "source": [
    "import numpy as np\n",
    "import matplotlib.pyplot as plt\n",
    "plt.rcParams.update({'font.size': 16})  # enlarge matplotlib fonts\n",
    "\n",
    "# Import qubit states Zero (|0>) and One (|1>), and Pauli operators (X, Y, Z)\n",
    "from qiskit.opflow import Zero, One, I, X, Y, Z\n",
    "\n",
    "# Suppress warnings\n",
    "import warnings\n",
    "warnings.filterwarnings('ignore')"
   ]
  },
  {
   "cell_type": "markdown",
   "id": "3050649e",
   "metadata": {},
   "source": [
    "## 1 - Classical simulation "
   ]
  },
  {
   "cell_type": "code",
   "execution_count": 2,
   "id": "3739dad3-1874-4133-8703-7ff1d157622c",
   "metadata": {},
   "outputs": [],
   "source": [
    "# Returns the matrix representation of the XXX Heisenberg model for 3 spin-1/2 particles in a line\n",
    "def H_heis3():\n",
    "    # Interactions (I is the identity matrix; X, Y, and Z are Pauli matricies; ^ is a tensor product)\n",
    "    XXs = (I^X^X) + (X^X^I)\n",
    "    YYs = (I^Y^Y) + (Y^Y^I)\n",
    "    ZZs = (I^Z^Z) + (Z^Z^I)\n",
    "    \n",
    "    # Sum interactions\n",
    "    H = XXs + YYs + ZZs\n",
    "    \n",
    "    # Return Hamiltonian\n",
    "    return H"
   ]
  },
  {
   "cell_type": "code",
   "execution_count": 3,
   "id": "7ea74155",
   "metadata": {},
   "outputs": [],
   "source": [
    "# Returns the matrix representation of U_heis3(t) for a given time t assuming an XXX Heisenberg Hamiltonian for 3 spins-1/2 particles in a line\n",
    "def U_heis3(t):\n",
    "    # Compute XXX Hamiltonian for 3 spins in a line\n",
    "    H = H_heis3()\n",
    "    \n",
    "    # Return the exponential of -i multipled by time t multipled by the 3 spin XXX Heisenberg Hamilonian \n",
    "    return (t * H).exp_i()"
   ]
  },
  {
   "cell_type": "code",
   "execution_count": 6,
   "id": "2fb4e328",
   "metadata": {},
   "outputs": [
    {
     "data": {
      "image/png": "[encoded data removed]",
      "text/plain": [
       "<Figure size 432x288 with 1 Axes>"
      ]
     },
     "metadata": {
      "needs_background": "light"
     },
     "output_type": "display_data"
    }
   ],
   "source": [
    "# Define array of time points\n",
    "ts = np.linspace(0, np.pi, 100)\n",
    "\n",
    "# Define initial state |110>\n",
    "initial_state = One^One^Zero\n",
    "\n",
    "# Compute probability of remaining in |110> state over the array of time points\n",
    " # ~initial_state gives the bra of the initial state (<110|)\n",
    " # @ is short hand for matrix multiplication\n",
    " # U_heis3(t) is the unitary time evolution at time t\n",
    " # t needs to be wrapped with float(t) to avoid a bug\n",
    " # (...).eval() returns the inner product <110|U_heis3(t)|110>\n",
    " #  np.abs(...)**2 is the modulus squared of the innner product which is the expectation value, or probability, of remaining in |110>\n",
    "probs_110_exact = [np.abs((~initial_state @ U_heis3(float(t)) @ initial_state).eval())**2 for t in ts]\n",
    "\n",
    "# Plot evolution of |110>\n",
    "plt.plot(ts, probs_110_exact,linestyle=\"dashed\",color=\"black\")\n",
    "plt.xlabel('time')\n",
    "plt.ylabel(r'probability of state $|110\\rangle$')\n",
    "plt.title(r'Evolution of state $|110\\rangle$ under $H_{Heis3}$')\n",
    "plt.grid()\n",
    "plt.show()"
   ]
  },
  {
   "cell_type": "markdown",
   "id": "f689414c",
   "metadata": {},
   "source": [
    "## 2- The Open Science Prize"
   ]
  },
  {
   "cell_type": "markdown",
   "id": "c136b9a0",
   "metadata": {},
   "source": [
    "The aim is to time evolve the state $|110\\rangle$ to time $t=\\pi$ under the $XXX$ Heisenberg model Hamiltonian $H_{\\text{heis3}}$. The evolution must be done using Trotterization with at least 4 steps ($n\\geq4$)."
   ]
  },
  {
   "cell_type": "markdown",
   "id": "6a41a81d",
   "metadata": {},
   "source": [
    "### 2.1 - Trotterization comparison\n",
    "\n",
    "For this reason, we will start analysing how a Trotterization on a perfect quantum device will evolve the state $|110\\rangle$ to time $t=\\pi$ given a fixed number of Trotter steps."
   ]
  },
  {
   "cell_type": "code",
   "execution_count": 7,
   "id": "a847a957",
   "metadata": {},
   "outputs": [],
   "source": [
    "## Import functions from Qiskit\n",
    "from qiskit                  import QuantumCircuit, QuantumRegister, IBMQ, execute, transpile\n",
    "from qiskit.providers.aer    import QasmSimulator\n",
    "from qiskit.tools.monitor    import job_monitor\n",
    "from qiskit.circuit          import Parameter\n",
    "from qiskit.quantum_info     import Statevector\n",
    "from qiskit.opflow.state_fns import CircuitStateFn\n",
    "\n",
    "# Import state tomography modules\n",
    "from qiskit.ignis.verification.tomography import state_tomography_circuits, StateTomographyFitter\n",
    "from qiskit.quantum_info                  import state_fidelity"
   ]
  },
  {
   "cell_type": "code",
   "execution_count": 8,
   "id": "04a7d9b9",
   "metadata": {},
   "outputs": [],
   "source": [
    "## In the \"trotter_function.py\" file are contained all the functions useful for a perfect Trotter simulation\n",
    "from trotter_functions import Heisenberg_Trotter_1st_ord"
   ]
  },
  {
   "cell_type": "code",
   "execution_count": 27,
   "id": "07d32eab",
   "metadata": {},
   "outputs": [
    {
     "name": "stdout",
     "output_type": "stream",
     "text": [
      "4 steps completed\n",
      "8 steps completed\n",
      "12 steps completed\n"
     ]
    }
   ],
   "source": [
    "## Let's simulate the system with a different number of Trotter steps and compare with the matrix exponentiation\n",
    "t_steps = [4,8,12]\n",
    "probs_110_trott = {4:[],8:[],12:[]}\n",
    "t = Parameter(\"t\")\n",
    "\n",
    "for t_n in t_steps:\n",
    "    for sim_t in ts:\n",
    "        # Initialise the circuit\n",
    "        trott_qr = QuantumRegister(3)\n",
    "        trott_qc = QuantumCircuit(trott_qr)\n",
    "        trott_qc.x([1,2])\n",
    "    \n",
    "        # Append the Trotterization\n",
    "        trott_step  = Heisenberg_Trotter_1st_ord(num_qubits=3,trotter_steps=t_n,p=t,target_time=sim_t).to_instruction()\n",
    "        trott_qc.append(trott_step, [trott_qr[0], trott_qr[1], trott_qr[2]])\n",
    "    \n",
    "    \n",
    "        trott_wfn = CircuitStateFn(trott_qc)\n",
    "        trott_ovp = np.abs((~initial_state@trott_wfn).eval())**2\n",
    "        probs_110_trott[t_n].append(trott_ovp)\n",
    "    print(str(t_n)+\" steps completed\")"
   ]
  },
  {
   "cell_type": "code",
   "execution_count": 26,
   "id": "66a6a9b6",
   "metadata": {},
   "outputs": [
    {
     "data": {
      "image/png": "[encoded data removed]",
      "text/plain": [
       "<Figure size 432x288 with 1 Axes>"
      ]
     },
     "metadata": {
      "needs_background": "light"
     },
     "output_type": "display_data"
    }
   ],
   "source": [
    "# Now plot the comparison\n",
    "plt.plot(ts, probs_110_exact,linestyle=\"dashed\",color=\"black\",label=\"Exact\")\n",
    "for (i,t_n) in enumerate(t_steps):\n",
    "    plt.plot(ts, probs_110_trott[t_n],color=\"C\"+str(i),label=str(t_n)+\" steps\")\n",
    "plt.xlabel('time')\n",
    "plt.ylabel(r'probability of state $|110\\rangle$')\n",
    "plt.title(r'Trotterization comparison')\n",
    "plt.legend()\n",
    "plt.grid()\n",
    "plt.show()"
   ]
  },
  {
   "cell_type": "markdown",
   "id": "459d6d97",
   "metadata": {},
   "source": [
    "As we can see, four Trotter steps are not enough to correctly time evolve the target state to $t=\\pi$.\n",
    "As expected, increasing the Trotter steps we get closer and closer to the exact simulation.\n",
    "\n",
    "However, we are limited in the circuit depth that we can implement on hardware. For this reason, the aim of this notebook will be to compress the greatest Trotterization accuracy into the shortest possible circuit, before even applying error mitigation techniques."
   ]
  },
  {
   "cell_type": "markdown",
   "id": "ed1da18d",
   "metadata": {},
   "source": [
    "### 2.2 Compress the Trotter step\n",
    "\n",
    "The first step is to reduce the number of gates required by a single Trotter step. \n",
    "To this point, a single Trotter step requires $12$ CNOTs.\n",
    "\n",
    "We can easily reduce it to $6$ using an optimal circuit for the $XX+YY+ZZ$ rotation presented in [Quantum computers as universal quantum simulators: state-of-art and perspectives](https://arxiv.org/abs/1907.03505).\n",
    "\n",
    "In particular, we will consider the decomposition in Fig. 4b, while the initial Trotterization corresponds to the decomposition in Fig. 4a.\n",
    "\n",
    "With this decomposition, 4 Trotter steps on 3 qubits will now require 24 CNOTs instead of 48."
   ]
  },
  {
   "cell_type": "code",
   "execution_count": null,
   "id": "430ee5ad",
   "metadata": {},
   "outputs": [],
   "source": [
    "## TODO:Here we show that the two decompositions are equivalent"
   ]
  },
  {
   "cell_type": "code",
   "execution_count": null,
   "id": "ebe9709d",
   "metadata": {},
   "outputs": [],
   "source": []
  },
  {
   "cell_type": "markdown",
   "id": "fed70138",
   "metadata": {},
   "source": [
    "### 2.3 Variational compression - the pVQD algorithm"
   ]
  },
  {
   "cell_type": "code",
   "execution_count": null,
   "id": "33149086",
   "metadata": {},
   "outputs": [],
   "source": [
    "## TODO: add the pVQD algorithm + explanation"
   ]
  },
  {
   "cell_type": "code",
   "execution_count": null,
   "id": "7f6a3f8a",
   "metadata": {},
   "outputs": [],
   "source": []
  },
  {
   "cell_type": "markdown",
   "id": "8441aeca",
   "metadata": {},
   "source": [
    "### 2.4 Final compression"
   ]
  },
  {
   "cell_type": "code",
   "execution_count": 28,
   "id": "fa91c929",
   "metadata": {},
   "outputs": [],
   "source": [
    "## TODO: reduction to 15 qubits?"
   ]
  },
  {
   "cell_type": "markdown",
   "id": "7aaa4c2b",
   "metadata": {},
   "source": [
    "## 3- Final Implementation"
   ]
  },
  {
   "cell_type": "markdown",
   "id": "d0f6cbc4",
   "metadata": {},
   "source": [
    "From this point, I guess the notebook will have to look like the one they gave us..."
   ]
  },
  {
   "cell_type": "code",
   "execution_count": null,
   "id": "04cc9192",
   "metadata": {},
   "outputs": [],
   "source": [
    "## TODO"
   ]
  },
  {
   "cell_type": "code",
   "execution_count": null,
   "id": "01f27c9a",
   "metadata": {},
   "outputs": [],
   "source": []
  },
  {
   "cell_type": "code",
   "execution_count": null,
   "id": "3d7bf1c6",
   "metadata": {},
   "outputs": [],
   "source": []
  }
 ],
 "metadata": {
  "kernelspec": {
   "display_name": "Python 3 (ipykernel)",
   "language": "python",
   "name": "python3"
  },
  "language_info": {
   "codemirror_mode": {
    "name": "ipython",
    "version": 3
   },
   "file_extension": ".py",
   "mimetype": "text/x-python",
   "name": "python",
   "nbconvert_exporter": "python",
   "pygments_lexer": "ipython3",
   "version": "3.8.12"
  }
 },
 "nbformat": 4,
 "nbformat_minor": 5
}
