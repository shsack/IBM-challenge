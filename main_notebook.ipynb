{
 "cells": [
  {
   "cell_type": "markdown",
   "id": "2d79f811-56d9-453a-bd2b-1dc6c6bfc014",
   "metadata": {},
   "source": [
    "# IBM Open Science Prize 2022 \n",
    "\n",
    "**Group:** _Stefan Sack, Stefano Barison_"
   ]
  },
  {
   "cell_type": "code",
   "execution_count": 1,
   "id": "24bb05f3",
   "metadata": {},
   "outputs": [],
   "source": [
    "## TODO: little introduction?"
   ]
  },
  {
   "cell_type": "code",
   "execution_count": null,
   "id": "19d1f2ac",
   "metadata": {},
   "outputs": [],
   "source": []
  },
  {
   "cell_type": "code",
   "execution_count": 2,
   "id": "6ded4eac",
   "metadata": {},
   "outputs": [],
   "source": [
    "import numpy as np\n",
    "import matplotlib.pyplot as plt\n",
    "plt.rcParams.update({'font.size': 16})  # enlarge matplotlib fonts\n",
    "\n",
    "# Import qubit states Zero (|0>) and One (|1>), and Pauli operators (X, Y, Z)\n",
    "from qiskit.opflow import Zero, One, I, X, Y, Z\n",
    "\n",
    "# Suppress warnings\n",
    "import warnings\n",
    "warnings.filterwarnings('ignore')"
   ]
  },
  {
   "cell_type": "markdown",
   "id": "3050649e",
   "metadata": {},
   "source": [
    "## 1 - Classical simulation "
   ]
  },
  {
   "cell_type": "code",
   "execution_count": 3,
   "id": "3739dad3-1874-4133-8703-7ff1d157622c",
   "metadata": {},
   "outputs": [],
   "source": [
    "# Returns the matrix representation of the XXX Heisenberg model for 3 spin-1/2 particles in a line\n",
    "def H_heis3():\n",
    "    # Interactions (I is the identity matrix; X, Y, and Z are Pauli matricies; ^ is a tensor product)\n",
    "    XXs = (I^X^X) + (X^X^I)\n",
    "    YYs = (I^Y^Y) + (Y^Y^I)\n",
    "    ZZs = (I^Z^Z) + (Z^Z^I)\n",
    "    \n",
    "    # Sum interactions\n",
    "    H = XXs + YYs + ZZs\n",
    "    \n",
    "    # Return Hamiltonian\n",
    "    return H"
   ]
  },
  {
   "cell_type": "code",
   "execution_count": 4,
   "id": "7ea74155",
   "metadata": {},
   "outputs": [],
   "source": [
    "# Returns the matrix representation of U_heis3(t) for a given time t assuming an XXX Heisenberg Hamiltonian for 3 spins-1/2 particles in a line\n",
    "def U_heis3(t):\n",
    "    # Compute XXX Hamiltonian for 3 spins in a line\n",
    "    H = H_heis3()\n",
    "    \n",
    "    # Return the exponential of -i multipled by time t multipled by the 3 spin XXX Heisenberg Hamilonian \n",
    "    return (t * H).exp_i()"
   ]
  },
  {
   "cell_type": "code",
   "execution_count": 5,
   "id": "2fb4e328",
   "metadata": {},
   "outputs": [
    {
     "data": {
      "image/png": "[encoded data removed]",
      "text/plain": [
       "<Figure size 432x288 with 1 Axes>"
      ]
     },
     "metadata": {
      "needs_background": "light"
     },
     "output_type": "display_data"
    }
   ],
   "source": [
    "# Define array of time points\n",
    "ts = np.linspace(0, np.pi, 100)\n",
    "\n",
    "# Define initial state |110>\n",
    "initial_state = One^One^Zero\n",
    "\n",
    "# Compute probability of remaining in |110> state over the array of time points\n",
    " # ~initial_state gives the bra of the initial state (<110|)\n",
    " # @ is short hand for matrix multiplication\n",
    " # U_heis3(t) is the unitary time evolution at time t\n",
    " # t needs to be wrapped with float(t) to avoid a bug\n",
    " # (...).eval() returns the inner product <110|U_heis3(t)|110>\n",
    " #  np.abs(...)**2 is the modulus squared of the innner product which is the expectation value, or probability, of remaining in |110>\n",
    "probs_110_exact = [np.abs((~initial_state @ U_heis3(float(t)) @ initial_state).eval())**2 for t in ts]\n",
    "\n",
    "# Plot evolution of |110>\n",
    "plt.plot(ts, probs_110_exact,linestyle=\"dashed\",color=\"black\")\n",
    "plt.xlabel('time')\n",
    "plt.ylabel(r'probability of state $|110\\rangle$')\n",
    "plt.title(r'Evolution of state $|110\\rangle$ under $H_{Heis3}$')\n",
    "plt.grid()\n",
    "plt.show()"
   ]
  },
  {
   "cell_type": "markdown",
   "id": "f689414c",
   "metadata": {},
   "source": [
    "## 2- The Open Science Prize"
   ]
  },
  {
   "cell_type": "markdown",
   "id": "c136b9a0",
   "metadata": {},
   "source": [
    "The aim is to time evolve the state $|110\\rangle$ to time $t=\\pi$ under the $XXX$ Heisenberg model Hamiltonian $H_{\\text{heis3}}$. The evolution must be done using Trotterization with at least 4 steps ($n\\geq4$)."
   ]
  },
  {
   "cell_type": "markdown",
   "id": "6a41a81d",
   "metadata": {},
   "source": [
    "### 2.1 - Trotterization comparison\n",
    "\n",
    "For this reason, we will start analysing how a Trotterization on a perfect quantum device will evolve the state $|110\\rangle$ to time $t=\\pi$ given a fixed number of Trotter steps."
   ]
  },
  {
   "cell_type": "code",
   "execution_count": 6,
   "id": "a847a957",
   "metadata": {},
   "outputs": [],
   "source": [
    "## Import functions from Qiskit\n",
    "from qiskit                  import QuantumCircuit, QuantumRegister, IBMQ, execute, transpile\n",
    "from qiskit.providers.aer    import QasmSimulator\n",
    "from qiskit.tools.monitor    import job_monitor\n",
    "from qiskit.circuit          import Parameter\n",
    "from qiskit.quantum_info     import Statevector\n",
    "from qiskit.opflow.state_fns import CircuitStateFn\n",
    "\n",
    "# Import state tomography modules\n",
    "from qiskit.ignis.verification.tomography import state_tomography_circuits, StateTomographyFitter\n",
    "from qiskit.quantum_info                  import state_fidelity"
   ]
  },
  {
   "cell_type": "code",
   "execution_count": 7,
   "id": "04a7d9b9",
   "metadata": {},
   "outputs": [],
   "source": [
    "## In the \"trotter_function.py\" file are contained all the functions useful for a perfect Trotter simulation\n",
    "from trotter_functions import Heisenberg_Trotter_1st_ord, Heisenberg_Trotter_1st_ord_compressed"
   ]
  },
  {
   "cell_type": "code",
   "execution_count": 8,
   "id": "07d32eab",
   "metadata": {},
   "outputs": [
    {
     "name": "stdout",
     "output_type": "stream",
     "text": [
      "4 steps completed\n",
      "8 steps completed\n",
      "12 steps completed\n"
     ]
    }
   ],
   "source": [
    "## Let's simulate the system with a different number of Trotter steps and compare with the matrix exponentiation\n",
    "t_steps = [4,8,12]\n",
    "probs_110_trott = {4:[],8:[],12:[]}\n",
    "t = Parameter(\"t\")\n",
    "\n",
    "for t_n in t_steps:\n",
    "    for sim_t in ts:\n",
    "        # Initialise the circuit\n",
    "        trott_qr = QuantumRegister(3)\n",
    "        trott_qc = QuantumCircuit(trott_qr)\n",
    "        trott_qc.x([1,2])\n",
    "    \n",
    "        # Append the Trotterization\n",
    "        trott_step  = Heisenberg_Trotter_1st_ord(num_qubits=3,trotter_steps=t_n,p=t,target_time=sim_t).to_instruction()\n",
    "        trott_qc.append(trott_step, [trott_qr[0], trott_qr[1], trott_qr[2]])\n",
    "    \n",
    "    \n",
    "        trott_wfn = CircuitStateFn(trott_qc)\n",
    "        trott_ovp = np.abs((~initial_state@trott_wfn).eval())**2\n",
    "        probs_110_trott[t_n].append(trott_ovp)\n",
    "    print(str(t_n)+\" steps completed\")"
   ]
  },
  {
   "cell_type": "code",
   "execution_count": 9,
   "id": "66a6a9b6",
   "metadata": {},
   "outputs": [
    {
     "data": {
      "image/png": "[encoded data removed]",
      "text/plain": [
       "<Figure size 432x288 with 1 Axes>"
      ]
     },
     "metadata": {
      "needs_background": "light"
     },
     "output_type": "display_data"
    }
   ],
   "source": [
    "# Now plot the comparison\n",
    "plt.plot(ts, probs_110_exact,linestyle=\"dashed\",color=\"black\",label=\"Exact\")\n",
    "for (i,t_n) in enumerate(t_steps):\n",
    "    plt.plot(ts, probs_110_trott[t_n],color=\"C\"+str(i),label=str(t_n)+\" steps\")\n",
    "plt.xlabel('time')\n",
    "plt.ylabel(r'probability of state $|110\\rangle$')\n",
    "plt.title(r'Trotterization comparison')\n",
    "plt.legend()\n",
    "plt.grid()\n",
    "plt.show()"
   ]
  },
  {
   "cell_type": "markdown",
   "id": "459d6d97",
   "metadata": {},
   "source": [
    "As we can see, four Trotter steps are not enough to correctly time evolve the target state to $t=\\pi$.\n",
    "As expected, increasing the Trotter steps we get closer and closer to the exact simulation.\n",
    "\n",
    "However, we are limited in the circuit depth that we can implement on hardware. For this reason, the aim of this notebook will be to compress the greatest Trotterization accuracy into the shortest possible circuit, before even applying error mitigation techniques."
   ]
  },
  {
   "cell_type": "markdown",
   "id": "ed1da18d",
   "metadata": {},
   "source": [
    "### 2.2 Compress the Trotter step\n",
    "\n",
    "The first step is to reduce the number of gates required by a single Trotter step. \n",
    "To this point, a single Trotter step requires $12$ CNOTs.\n",
    "\n",
    "We can easily reduce it to $6$ using an optimal circuit for the $XX+YY+ZZ$ rotation presented in [Quantum computers as universal quantum simulators: state-of-art and perspectives](https://arxiv.org/abs/1907.03505).\n",
    "\n",
    "In particular, we will consider the decomposition in Fig. 4b, while the initial Trotterization corresponds to the decomposition in Fig. 4a.\n",
    "\n",
    "With this decomposition, 4 Trotter steps on 3 qubits will now require 24 CNOTs instead of 48."
   ]
  },
  {
   "cell_type": "markdown",
   "id": "455bdaa1-343a-410f-a0a2-83dcaf8433f8",
   "metadata": {},
   "source": [
    "To show that the two decompositions are equivalent, let us compare a single uncompressed & compressed Trotter step."
   ]
  },
  {
   "cell_type": "code",
   "execution_count": 11,
   "id": "8469562b-c0c5-4681-9834-a1a5b5373b45",
   "metadata": {},
   "outputs": [
    {
     "data": {
      "image/png": "[encoded data removed]",
      "text/plain": [
       "<Figure size 1644.39x445.48 with 1 Axes>"
      ]
     },
     "execution_count": 11,
     "metadata": {},
     "output_type": "execute_result"
    }
   ],
   "source": [
    "qc_1st_ord = Heisenberg_Trotter_1st_ord(3, 1, np.pi, np.pi)\n",
    "qc_1st_ord.decompose().decompose().draw(\"mpl\")"
   ]
  },
  {
   "cell_type": "code",
   "execution_count": 12,
   "id": "7bccc2ca-adc7-49ee-bbbd-e9c4490fcd9c",
   "metadata": {},
   "outputs": [
    {
     "data": {
      "image/png": "[encoded data removed]",
      "text/plain": [
       "<Figure size 1042.54x204.68 with 1 Axes>"
      ]
     },
     "execution_count": 12,
     "metadata": {},
     "output_type": "execute_result"
    }
   ],
   "source": [
    "qc_1st_ord_compressed = Heisenberg_Trotter_1st_ord_compressed(3, 1, np.pi, np.pi)\n",
    "qc_1st_ord_compressed.decompose().decompose().draw(\"mpl\")"
   ]
  },
  {
   "cell_type": "code",
   "execution_count": 13,
   "id": "1ed2e404-9d77-4bf0-94ed-f36f360feec1",
   "metadata": {},
   "outputs": [],
   "source": [
    "#TODO: maybe better to put arbitrary angles here"
   ]
  },
  {
   "cell_type": "markdown",
   "id": "00192a6e-1ac0-47a4-85c5-ac1be3a643e9",
   "metadata": {},
   "source": [
    "Using the qiskit Operator object we can check that they are exactly the same.\n",
    "A detailed derivation of the equivalence can be found in the original paper, mentioned above."
   ]
  },
  {
   "cell_type": "code",
   "execution_count": 14,
   "id": "687869ec-571f-4111-93e4-1be0dc08566a",
   "metadata": {},
   "outputs": [],
   "source": [
    "from qiskit.quantum_info import Operator"
   ]
  },
  {
   "cell_type": "code",
   "execution_count": 15,
   "id": "7dcf4ab9-c169-4337-9a45-8320b1951447",
   "metadata": {},
   "outputs": [
    {
     "name": "stdout",
     "output_type": "stream",
     "text": [
      "The two circuits are the same:  True\n"
     ]
    }
   ],
   "source": [
    "Op_1st_order = Operator(qc_1st_ord)\n",
    "Op_1st_order_compressed = Operator(qc_1st_ord_compressed)\n",
    "\n",
    "print(\"The two circuits are the same: \", Op_1st_order.equiv(Op_1st_order_compressed))"
   ]
  },
  {
   "cell_type": "markdown",
   "id": "a38fee47-3c2a-4ae5-9f36-878c84c4243e",
   "metadata": {},
   "source": [
    "Great, we will thus form now on use the compressed circuit!"
   ]
  },
  {
   "cell_type": "markdown",
   "id": "fed70138",
   "metadata": {},
   "source": [
    "### 2.3 Variational compression - the pVQD algorithm"
   ]
  },
  {
   "cell_type": "code",
   "execution_count": 16,
   "id": "33149086",
   "metadata": {},
   "outputs": [],
   "source": [
    "## TODO: add the pVQD algorithm + explanation"
   ]
  },
  {
   "cell_type": "code",
   "execution_count": 17,
   "id": "7bc6192b-a480-406d-8f05-4f80fb631dbd",
   "metadata": {},
   "outputs": [],
   "source": [
    "# What I need is a one fuction that creates the whole cirucit and the optimal paramters are simply passed "
   ]
  },
  {
   "cell_type": "code",
   "execution_count": 18,
   "id": "6dc607fa-4175-4f3c-befa-8466c89a1b36",
   "metadata": {},
   "outputs": [],
   "source": [
    "from qiskit.circuit import Parameter, ParameterVector\n",
    "from qiskit.aqua.components.optimizers import COBYLA\n",
    "from qiskit import Aer\n",
    "num_qubits = 3"
   ]
  },
  {
   "cell_type": "code",
   "execution_count": 19,
   "id": "7f6a3f8a",
   "metadata": {},
   "outputs": [],
   "source": [
    "# TODO: integrate this into the trotter_functions.py\n",
    "def R_xyz_variational(theta):\n",
    "    \n",
    "    t_qr = QuantumRegister(2)\n",
    "    t_qc = QuantumCircuit(t_qr, name='XYZ')\n",
    "    \n",
    "    t_qc.cnot(0,1)\n",
    "    t_qc.rx(2*theta-np.pi/2, 0)\n",
    "    t_qc.rz(2 * theta, 1)\n",
    "    t_qc.h(0)\n",
    "    t_qc.cnot(0,1)\n",
    "    t_qc.h(0)\n",
    "    t_qc.rz(-2 * theta, 1)\n",
    "    t_qc.cnot(0,1)\n",
    "    t_qc.rx(np.pi/2,0)\n",
    "    t_qc.rx(-np.pi/2,1)\n",
    "\n",
    "    return t_qc"
   ]
  },
  {
   "cell_type": "code",
   "execution_count": 20,
   "id": "0e130b6f-e819-4b10-b1d6-dec6f9634d89",
   "metadata": {},
   "outputs": [],
   "source": [
    "# TODO: integrate this into the trotter_functions.py\n",
    "def get_var_form(theta):\n",
    "    qr = QuantumRegister(7)\n",
    "    qc = QuantumCircuit(qr)\n",
    "    \n",
    "    # This need to be slightly adopted due to a bug in the error mitigation software mitiq\n",
    "    qc.rx(np.pi, [3, 5]) \n",
    "    qc.id([0, 1, 2, 4, 6])\n",
    "\n",
    "    Trot_qr = QuantumRegister(num_qubits)\n",
    "    Trot_qc = QuantumCircuit(Trot_qr, name='Trot')\n",
    "\n",
    "    for trotter_step in range(0, 4):\n",
    "        for i in range(0, num_qubits - 1):\n",
    "            Trot_qc.append(R_xyz_variational(theta[trotter_step]).to_instruction(), [Trot_qr[i], Trot_qr[i+1]])\n",
    "    \n",
    "    Trot_gate = Trot_qc.to_instruction()\n",
    "    qc.append(Trot_gate, [qr[1], qr[3], qr[5]])\n",
    "    # qc.measure(qr, [qr[1], qr[3], qr[5]])\n",
    "    return qc, qr"
   ]
  },
  {
   "cell_type": "code",
   "execution_count": 21,
   "id": "e10f2a55-6d39-441e-8803-e9148be32dc7",
   "metadata": {},
   "outputs": [],
   "source": [
    "theta = ParameterVector('theta', 4) # there are 4 Trotter steps which we now treat as variational parameters"
   ]
  },
  {
   "cell_type": "code",
   "execution_count": 22,
   "id": "9fb49cd1-50bd-4cfd-889b-f15b00e07618",
   "metadata": {},
   "outputs": [],
   "source": [
    "# This is the cost function to find the optimal parameters, this should be done via the pVQD instead!\n",
    "def objective_function(params):\n",
    "\n",
    "    backend = Aer.get_backend('statevector_simulator')\n",
    "\n",
    "    qr = QuantumRegister(7)\n",
    "    qc = QuantumCircuit(qr)\n",
    "    # This need to be slightly adopted due to a bug in the error mitigation software mitiq\n",
    "    qc.rx(np.pi, [3, 5]) \n",
    "    qc.id([0, 1, 2, 4, 6])\n",
    "    result = execute(qc, backend).result()\n",
    "    target_state = result.get_statevector(qc) \n",
    "\n",
    "    qc, _ = get_var_form(theta)\n",
    "    qc = qc.bind_parameters({theta: params})\n",
    "\n",
    "    result = execute(qc, backend).result()\n",
    "    state = result.get_statevector(qc)\n",
    "    cost = 1 - state_fidelity(target_state, state)\n",
    "    \n",
    "    return cost"
   ]
  },
  {
   "cell_type": "code",
   "execution_count": 23,
   "id": "59921182-4250-496b-afaa-343ef4869764",
   "metadata": {},
   "outputs": [],
   "source": [
    "# This will be replaced by the pVQD!!!\n",
    "\n",
    "# Optimize the circuit parameters\n",
    "optimizer = COBYLA(maxiter=500, tol=0.0001)\n",
    "params = (np.pi/4)*np.ones(4)\n",
    "ret = optimizer.optimize(num_vars=4, objective_function=objective_function, initial_point=params)"
   ]
  },
  {
   "cell_type": "code",
   "execution_count": 26,
   "id": "af5e82b1-3fa9-4f44-9083-117aec0e1b45",
   "metadata": {},
   "outputs": [],
   "source": [
    "qc, qr = get_var_form(ret[0])"
   ]
  },
  {
   "cell_type": "markdown",
   "id": "8441aeca",
   "metadata": {},
   "source": [
    "### 2.4 Final compression"
   ]
  },
  {
   "cell_type": "code",
   "execution_count": 27,
   "id": "fa91c929",
   "metadata": {},
   "outputs": [],
   "source": [
    "## TODO: reduction to 15 CNOTs?"
   ]
  },
  {
   "cell_type": "markdown",
   "id": "7aaa4c2b",
   "metadata": {},
   "source": [
    "## 3- Final Implementation"
   ]
  },
  {
   "cell_type": "code",
   "execution_count": 28,
   "id": "b4084774-fca2-4c5c-941a-17274349a6e9",
   "metadata": {},
   "outputs": [],
   "source": [
    "# 3-1 Error mitigation"
   ]
  },
  {
   "cell_type": "markdown",
   "id": "dd9b01a3-b1be-4da3-a46c-8f920b949847",
   "metadata": {},
   "source": [
    "Here we will use error mitigation to further improve the result. In particular we will be using Zero Noise Extrapolation (ZNE). For this the circuit depth is extended by unfolding gates, $G \\rightarrow G G^\\dagger G$. The circuit remains the same this way (since $G^\\dagger G = I$), though the noise is increased. This way we can obtain results for different noise levels and extrapolate to the ideal, zero noise case. This prodecure is nicely wrapped into a single function provided by [mitiq](https://mitiq.readthedocs.io/en/stable/from). One simply has to be careful with minor bugs present in mitiq, we will comment on them below. "
   ]
  },
  {
   "cell_type": "code",
   "execution_count": 29,
   "id": "14a457c5-1df6-4994-a843-ef627af5f5d4",
   "metadata": {},
   "outputs": [],
   "source": [
    "from mitiq.zne.inference import PolyFactory\n",
    "from mitiq.zne.zne import execute_with_zne"
   ]
  },
  {
   "cell_type": "code",
   "execution_count": 30,
   "id": "70c83ae5-ee16-4288-8d05-b1328c5a70dd",
   "metadata": {},
   "outputs": [],
   "source": [
    "provider = IBMQ.load_account()"
   ]
  },
  {
   "cell_type": "code",
   "execution_count": 31,
   "id": "04cc9192",
   "metadata": {},
   "outputs": [],
   "source": [
    "provider = IBMQ.get_provider(hub='ibm-q-community', group='ibmquantumawards', project='open-science-22')\n",
    "jakarta = provider.get_backend('ibmq_jakarta')\n",
    "# Simulated backend based on ibmq_jakarta's device noise profile\n",
    "sim_noisy_jakarta = QasmSimulator.from_backend(provider.get_backend('ibmq_jakarta'))"
   ]
  },
  {
   "cell_type": "code",
   "execution_count": 32,
   "id": "effc6815-14bf-4a4b-b3d8-ea44702670c5",
   "metadata": {},
   "outputs": [],
   "source": [
    "# Setting all the parameters that are need\n",
    "shots = 8192\n",
    "backend = sim_noisy_jakarta"
   ]
  },
  {
   "cell_type": "code",
   "execution_count": 33,
   "id": "1c82fd8f-e3a9-4502-8fb5-d79f5e9509f1",
   "metadata": {},
   "outputs": [],
   "source": [
    "# Compute the state tomography based on the st_qcs quantum circuits and the results from those ciricuits\n",
    "def state_tomo(result, st_qcs):\n",
    "    # The expected final state; necessary to determine state tomography fidelity\n",
    "    target_state = (One^One^Zero).to_matrix()  # DO NOT MODIFY (|q_5,q_3,q_1> = |110>)\n",
    "    # Fit state tomography results\n",
    "    tomo_fitter = StateTomographyFitter(result, st_qcs)\n",
    "    rho_fit = tomo_fitter.fit(method='lstsq')\n",
    "    # Compute fidelity\n",
    "    fid = state_fidelity(rho_fit, target_state)\n",
    "    return fid"
   ]
  },
  {
   "cell_type": "markdown",
   "id": "ee9bc92e-d6ae-406b-9ca7-255931e8d2c2",
   "metadata": {},
   "source": [
    "To use mitiq for noise mitigation we need to wrap the fidelity estimation via state tomography into a single \"executor\" function."
   ]
  },
  {
   "cell_type": "code",
   "execution_count": 34,
   "id": "22d7b44c-6860-46f1-bc92-4b3dd30c6b06",
   "metadata": {},
   "outputs": [],
   "source": [
    "# Function that does state tomography and returns the fidelity\n",
    "# To be used in the error mitigation (mitq)\n",
    "def executor(circ):\n",
    "    \n",
    "    # Create list of state tomography circuits out of circ\n",
    "    st_qcs = state_tomography_circuits(circ, [qr[1], qr[3], qr[5]])\n",
    "\n",
    "    # Execute the state tomography circuits \n",
    "    job = execute(st_qcs, backend, optimization_level=3, shots=shots)\n",
    "    print('Job ID', job.job_id())\n",
    "    \n",
    "    return state_tomo(job.result(), st_qcs)"
   ]
  },
  {
   "cell_type": "code",
   "execution_count": 35,
   "id": "01f27c9a",
   "metadata": {},
   "outputs": [],
   "source": [
    "# method: scale noise by 1, 2, 3, and 4, then extrapolate quadratically to the zero noise limit.\n",
    "poly_fac = PolyFactory(scale_factors=[1.0, 2.0, 3.0], order=2)"
   ]
  },
  {
   "cell_type": "code",
   "execution_count": 36,
   "id": "c8d1753f-32ba-4faa-98ef-238f06f163a0",
   "metadata": {},
   "outputs": [
    {
     "name": "stdout",
     "output_type": "stream",
     "text": [
      "Job ID 13ce3f0b-efd8-4822-b0be-9aa81de35e9f\n",
      "Job ID 90da9b72-5b54-45b7-9c63-75cd5b813dbc\n",
      "Job ID 6f5c881b-1c98-475b-95d4-7ee3021c445d\n",
      "Job ID 6f5d2630-6e66-4613-a60b-6b62805b0e9d\n",
      "Job ID ddac6bdd-74a3-4ca3-b91c-89de43ea2477\n",
      "Job ID 5ce8b958-fb43-4a97-a6c5-053138253efb\n"
     ]
    }
   ],
   "source": [
    "# Repeat fidelity measurement\n",
    "reps = 2 # Needs to be 8 in the final execution\n",
    "fids = []\n",
    "for _ in range(reps):\n",
    "    \n",
    "    # Circuit needs to be decomposed for mitq\n",
    "    fids.append(execute_with_zne(qc.decompose().decompose(), executor, factory=poly_fac)) "
   ]
  },
  {
   "cell_type": "code",
   "execution_count": 37,
   "id": "038e6753-9e25-4609-8c86-07e5a55e4dcf",
   "metadata": {},
   "outputs": [
    {
     "name": "stdout",
     "output_type": "stream",
     "text": [
      "state tomography fidelity = 0.7051 ± 0.0086\n"
     ]
    }
   ],
   "source": [
    "print('state tomography fidelity = {:.4f} \\u00B1 {:.4f}'.format(np.mean(fids), np.std(fids)))"
   ]
  },
  {
   "cell_type": "code",
   "execution_count": null,
   "id": "8a96cc74-6e81-4ece-a091-3e73c09dd847",
   "metadata": {},
   "outputs": [],
   "source": []
  }
 ],
 "metadata": {
  "kernelspec": {
   "display_name": "Python 3",
   "language": "python",
   "name": "python3"
  },
  "language_info": {
   "codemirror_mode": {
    "name": "ipython",
    "version": 3
   },
   "file_extension": ".py",
   "mimetype": "text/x-python",
   "name": "python",
   "nbconvert_exporter": "python",
   "pygments_lexer": "ipython3",
   "version": "3.8.8"
  }
 },
 "nbformat": 4,
 "nbformat_minor": 5
}
