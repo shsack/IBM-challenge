{
 "cells": [
  {
   "cell_type": "markdown",
   "id": "2d79f811-56d9-453a-bd2b-1dc6c6bfc014",
   "metadata": {},
   "source": [
    "# IBM Open Science Prize 2022 \n",
    "\n",
    "**Group:** _Stefan Sack, Stefano Barison_"
   ]
  },
  {
   "cell_type": "code",
   "execution_count": 1,
   "id": "24bb05f3",
   "metadata": {},
   "outputs": [],
   "source": [
    "## TODO: little introduction?"
   ]
  },
  {
   "cell_type": "code",
   "execution_count": null,
   "id": "19d1f2ac",
   "metadata": {},
   "outputs": [],
   "source": []
  },
  {
   "cell_type": "code",
   "execution_count": 2,
   "id": "6ded4eac",
   "metadata": {},
   "outputs": [],
   "source": [
    "import numpy as np\n",
    "import matplotlib.pyplot as plt\n",
    "plt.rcParams.update({'font.size': 16})  # enlarge matplotlib fonts\n",
    "\n",
    "# Import qubit states Zero (|0>) and One (|1>), and Pauli operators (X, Y, Z)\n",
    "from qiskit.opflow import Zero, One, I, X, Y, Z\n",
    "\n",
    "# Suppress warnings\n",
    "import warnings\n",
    "warnings.filterwarnings('ignore')"
   ]
  },
  {
   "cell_type": "markdown",
   "id": "3050649e",
   "metadata": {},
   "source": [
    "## 1 - Classical simulation "
   ]
  },
  {
   "cell_type": "code",
   "execution_count": 3,
   "id": "3739dad3-1874-4133-8703-7ff1d157622c",
   "metadata": {},
   "outputs": [],
   "source": [
    "# Returns the matrix representation of the XXX Heisenberg model for 3 spin-1/2 particles in a line\n",
    "def H_heis3():\n",
    "    # Interactions (I is the identity matrix; X, Y, and Z are Pauli matricies; ^ is a tensor product)\n",
    "    XXs = (I^X^X) + (X^X^I)\n",
    "    YYs = (I^Y^Y) + (Y^Y^I)\n",
    "    ZZs = (I^Z^Z) + (Z^Z^I)\n",
    "    \n",
    "    # Sum interactions\n",
    "    H = XXs + YYs + ZZs\n",
    "    \n",
    "    # Return Hamiltonian\n",
    "    return H"
   ]
  },
  {
   "cell_type": "code",
   "execution_count": 4,
   "id": "7ea74155",
   "metadata": {},
   "outputs": [],
   "source": [
    "# Returns the matrix representation of U_heis3(t) for a given time t assuming an XXX Heisenberg Hamiltonian for 3 spins-1/2 particles in a line\n",
    "def U_heis3(t):\n",
    "    # Compute XXX Hamiltonian for 3 spins in a line\n",
    "    H = H_heis3()\n",
    "    \n",
    "    # Return the exponential of -i multipled by time t multipled by the 3 spin XXX Heisenberg Hamilonian \n",
    "    return (t * H).exp_i()"
   ]
  },
  {
   "cell_type": "code",
   "execution_count": 5,
   "id": "2fb4e328",
   "metadata": {},
   "outputs": [
    {
     "data": {
      "image/png": "[encoded data removed]",
      "text/plain": [
       "<Figure size 432x288 with 1 Axes>"
      ]
     },
     "metadata": {
      "needs_background": "light"
     },
     "output_type": "display_data"
    }
   ],
   "source": [
    "# Define array of time points\n",
    "ts = np.linspace(0, np.pi, 100)\n",
    "\n",
    "# Define initial state |110>\n",
    "initial_state = One^One^Zero\n",
    "\n",
    "# Compute probability of remaining in |110> state over the array of time points\n",
    " # ~initial_state gives the bra of the initial state (<110|)\n",
    " # @ is short hand for matrix multiplication\n",
    " # U_heis3(t) is the unitary time evolution at time t\n",
    " # t needs to be wrapped with float(t) to avoid a bug\n",
    " # (...).eval() returns the inner product <110|U_heis3(t)|110>\n",
    " #  np.abs(...)**2 is the modulus squared of the innner product which is the expectation value, or probability, of remaining in |110>\n",
    "probs_110_exact = [np.abs((~initial_state @ U_heis3(float(t)) @ initial_state).eval())**2 for t in ts]\n",
    "\n",
    "# Plot evolution of |110>\n",
    "plt.plot(ts, probs_110_exact,linestyle=\"dashed\",color=\"black\")\n",
    "plt.xlabel('time')\n",
    "plt.ylabel(r'probability of state $|110\\rangle$')\n",
    "plt.title(r'Evolution of state $|110\\rangle$ under $H_{Heis3}$')\n",
    "plt.grid()\n",
    "plt.show()"
   ]
  },
  {
   "cell_type": "markdown",
   "id": "f689414c",
   "metadata": {},
   "source": [
    "## 2- The Open Science Prize"
   ]
  },
  {
   "cell_type": "markdown",
   "id": "c136b9a0",
   "metadata": {},
   "source": [
    "The aim is to time evolve the state $|110\\rangle$ to time $t=\\pi$ under the $XXX$ Heisenberg model Hamiltonian $H_{\\text{heis3}}$. The evolution must be done using Trotterization with at least 4 steps ($n\\geq4$)."
   ]
  },
  {
   "cell_type": "markdown",
   "id": "6a41a81d",
   "metadata": {},
   "source": [
    "### 2.1 - Trotterization comparison\n",
    "\n",
    "For this reason, we will start analysing how a Trotterization on a perfect quantum device will evolve the state $|110\\rangle$ to time $t=\\pi$ given a fixed number of Trotter steps."
   ]
  },
  {
   "cell_type": "code",
   "execution_count": 6,
   "id": "a847a957",
   "metadata": {},
   "outputs": [],
   "source": [
    "## Import functions from Qiskit\n",
    "from qiskit                  import QuantumCircuit, QuantumRegister, IBMQ, execute, transpile\n",
    "from qiskit.providers.aer    import QasmSimulator\n",
    "from qiskit.tools.monitor    import job_monitor\n",
    "from qiskit.circuit          import Parameter\n",
    "from qiskit.quantum_info     import Statevector\n",
    "from qiskit.opflow.state_fns import CircuitStateFn\n",
    "\n",
    "# Import state tomography modules\n",
    "from qiskit.ignis.verification.tomography import state_tomography_circuits, StateTomographyFitter\n",
    "from qiskit.quantum_info                  import state_fidelity"
   ]
  },
  {
   "cell_type": "code",
   "execution_count": 7,
   "id": "04a7d9b9",
   "metadata": {},
   "outputs": [],
   "source": [
    "## In the \"trotter_function.py\" file are contained all the functions useful for a perfect Trotter simulation\n",
    "from trotter_functions import Heisenberg_Trotter_1st_ord, Heisenberg_Trotter_1st_ord_compressed"
   ]
  },
  {
   "cell_type": "code",
   "execution_count": 8,
   "id": "07d32eab",
   "metadata": {},
   "outputs": [
    {
     "name": "stdout",
     "output_type": "stream",
     "text": [
      "4 steps completed\n",
      "8 steps completed\n",
      "12 steps completed\n"
     ]
    }
   ],
   "source": [
    "## Let's simulate the system with a different number of Trotter steps and compare with the matrix exponentiation\n",
    "t_steps = [4,8,12]\n",
    "probs_110_trott = {4:[],8:[],12:[]}\n",
    "t = Parameter(\"t\")\n",
    "\n",
    "for t_n in t_steps:\n",
    "    for sim_t in ts:\n",
    "        # Initialise the circuit\n",
    "        trott_qr = QuantumRegister(3)\n",
    "        trott_qc = QuantumCircuit(trott_qr)\n",
    "        trott_qc.x([1,2])\n",
    "    \n",
    "        # Append the Trotterization\n",
    "        trott_step = Heisenberg_Trotter_1st_ord(num_qubits=3,trotter_steps=t_n,p=t,target_time=sim_t).to_instruction()\n",
    "        trott_qc.append(trott_step, [trott_qr[0], trott_qr[1], trott_qr[2]])\n",
    "    \n",
    "    \n",
    "        trott_wfn = CircuitStateFn(trott_qc)\n",
    "        trott_ovp = np.abs((~initial_state@trott_wfn).eval())**2\n",
    "        probs_110_trott[t_n].append(trott_ovp)\n",
    "    print(str(t_n)+\" steps completed\")"
   ]
  },
  {
   "cell_type": "code",
   "execution_count": 9,
   "id": "66a6a9b6",
   "metadata": {},
   "outputs": [
    {
     "data": {
      "image/png": "[encoded data removed]",
      "text/plain": [
       "<Figure size 432x288 with 1 Axes>"
      ]
     },
     "metadata": {
      "needs_background": "light"
     },
     "output_type": "display_data"
    }
   ],
   "source": [
    "# Now plot the comparison\n",
    "plt.plot(ts, probs_110_exact,linestyle=\"dashed\",color=\"black\",label=\"Exact\")\n",
    "for (i,t_n) in enumerate(t_steps):\n",
    "    plt.plot(ts, probs_110_trott[t_n],color=\"C\"+str(i),label=str(t_n)+\" steps\")\n",
    "plt.xlabel('time')\n",
    "plt.ylabel(r'probability of state $|110\\rangle$')\n",
    "plt.title(r'Trotterization comparison')\n",
    "plt.legend()\n",
    "plt.grid()\n",
    "plt.show()"
   ]
  },
  {
   "cell_type": "markdown",
   "id": "459d6d97",
   "metadata": {},
   "source": [
    "As we can see, four Trotter steps are not enough to correctly time evolve the target state to $t=\\pi$.\n",
    "As expected, increasing the Trotter steps we get closer and closer to the exact simulation.\n",
    "\n",
    "However, we are limited in the circuit depth that we can implement on hardware. For this reason, the aim of this notebook will be to compress the greatest Trotterization accuracy into the shortest possible circuit, before even applying error mitigation techniques."
   ]
  },
  {
   "cell_type": "markdown",
   "id": "ed1da18d",
   "metadata": {},
   "source": [
    "### 2.2 Compress the Trotter step\n",
    "\n",
    "The first step is to reduce the number of gates required by a single Trotter step. \n",
    "To this point, a single Trotter step requires $12$ CNOTs.\n",
    "\n",
    "We can easily reduce it to $6$ using an optimal circuit for the $XX+YY+ZZ$ rotation presented in [Quantum computers as universal quantum simulators: state-of-art and perspectives](https://arxiv.org/abs/1907.03505).\n",
    "\n",
    "In particular, we will consider the decomposition in Fig. 4b, while the initial Trotterization corresponds to the decomposition in Fig. 4a.\n",
    "\n",
    "With this decomposition, 4 Trotter steps on 3 qubits will now require 24 CNOTs instead of 48."
   ]
  },
  {
   "cell_type": "markdown",
   "id": "455bdaa1-343a-410f-a0a2-83dcaf8433f8",
   "metadata": {},
   "source": [
    "To show that the two decompositions are equivalent, let us compare a single uncompressed & compressed Trotter step."
   ]
  },
  {
   "cell_type": "code",
   "execution_count": 10,
   "id": "8469562b-c0c5-4681-9834-a1a5b5373b45",
   "metadata": {},
   "outputs": [
    {
     "data": {
      "image/png": "[encoded data removed]",
      "text/plain": [
       "<Figure size 1644.39x445.48 with 1 Axes>"
      ]
     },
     "execution_count": 10,
     "metadata": {},
     "output_type": "execute_result"
    }
   ],
   "source": [
    "qc_1st_ord = Heisenberg_Trotter_1st_ord(3, 1, np.pi, np.pi)\n",
    "qc_1st_ord.decompose().decompose().draw(\"mpl\")"
   ]
  },
  {
   "cell_type": "code",
   "execution_count": 11,
   "id": "7bccc2ca-adc7-49ee-bbbd-e9c4490fcd9c",
   "metadata": {},
   "outputs": [
    {
     "data": {
      "image/png": "[encoded data removed]",
      "text/plain": [
       "<Figure size 1042.39x204.68 with 1 Axes>"
      ]
     },
     "execution_count": 11,
     "metadata": {},
     "output_type": "execute_result"
    }
   ],
   "source": [
    "qc_1st_ord_compressed = Heisenberg_Trotter_1st_ord_compressed(3, 1, np.pi, np.pi)\n",
    "qc_1st_ord_compressed.decompose().decompose().draw(\"mpl\")"
   ]
  },
  {
   "cell_type": "code",
   "execution_count": 12,
   "id": "1ed2e404-9d77-4bf0-94ed-f36f360feec1",
   "metadata": {},
   "outputs": [],
   "source": [
    "#TODO: maybe better to put arbitrary angles here"
   ]
  },
  {
   "cell_type": "markdown",
   "id": "00192a6e-1ac0-47a4-85c5-ac1be3a643e9",
   "metadata": {},
   "source": [
    "Using the qiskit Operator object we can check that they are exactly the same.\n",
    "A detailed derivation of the equivalence can be found in the original paper, mentioned above."
   ]
  },
  {
   "cell_type": "code",
   "execution_count": 13,
   "id": "7dcf4ab9-c169-4337-9a45-8320b1951447",
   "metadata": {},
   "outputs": [
    {
     "name": "stdout",
     "output_type": "stream",
     "text": [
      "The two circuits are the same:  True\n"
     ]
    }
   ],
   "source": [
    "from qiskit.quantum_info import Operator\n",
    "Op_1st_order = Operator(qc_1st_ord)\n",
    "Op_1st_order_compressed = Operator(qc_1st_ord_compressed)\n",
    "\n",
    "print(\"The two circuits are the same: \", Op_1st_order.equiv(Op_1st_order_compressed))"
   ]
  },
  {
   "cell_type": "markdown",
   "id": "a38fee47-3c2a-4ae5-9f36-878c84c4243e",
   "metadata": {},
   "source": [
    "Great, we will thus from now on use the compressed circuit!"
   ]
  },
  {
   "cell_type": "markdown",
   "id": "fed70138",
   "metadata": {},
   "source": [
    "### 2.3 Variational compression - the pVQD algorithm"
   ]
  },
  {
   "cell_type": "code",
   "execution_count": 14,
   "id": "33149086",
   "metadata": {},
   "outputs": [],
   "source": [
    "## TODO: add the pVQD algorithm + explanation\n",
    "\n",
    "# Some nice explanation for what it does and code that is self explanatory (routines such as SPSA can be stored in external file)\n",
    "# pVQD should return vector of variational time steps that we can used in the further steps"
   ]
  },
  {
   "cell_type": "code",
   "execution_count": 15,
   "id": "7361edd6",
   "metadata": {},
   "outputs": [],
   "source": [
    "## This part has to be similar to the \"run_pVQD\" function in the pVQD.py file"
   ]
  },
  {
   "cell_type": "code",
   "execution_count": 16,
   "id": "61467939",
   "metadata": {},
   "outputs": [],
   "source": [
    "# I have given up on the pVQD, the code is too complicated for me. I have zero idea what is happening\n",
    "# I hope we can make it more accessible "
   ]
  },
  {
   "cell_type": "markdown",
   "id": "883e9f9b",
   "metadata": {},
   "source": [
    "### Please, please, please do no delete this part!!! "
   ]
  },
  {
   "cell_type": "markdown",
   "id": "d1f3ad8a",
   "metadata": {},
   "source": [
    "### It is currently the only working way of obtaining optimal parameters"
   ]
  },
  {
   "cell_type": "code",
   "execution_count": 17,
   "id": "a591588f",
   "metadata": {},
   "outputs": [],
   "source": [
    "## Import the variational function \n",
    "# TODO: Use the same function for trotter and variational\n",
    "from trotter_functions import Heisenberg_Trotter_1st_ord_compressed_variational"
   ]
  },
  {
   "cell_type": "code",
   "execution_count": 18,
   "id": "ca44532a",
   "metadata": {},
   "outputs": [],
   "source": [
    "from qiskit.circuit import Parameter, ParameterVector\n",
    "from qiskit.aqua.components.optimizers import COBYLA\n",
    "from qiskit import Aer\n"
   ]
  },
  {
   "cell_type": "code",
   "execution_count": 19,
   "id": "2227011b",
   "metadata": {},
   "outputs": [],
   "source": [
    "θ = ParameterVector('θ', 4)"
   ]
  },
  {
   "cell_type": "code",
   "execution_count": 39,
   "id": "f485a0e4",
   "metadata": {},
   "outputs": [],
   "source": [
    "# This is the cost function to find the optimal parameters, this should be done via the pVQD instead!\n",
    "def objective_function(params):\n",
    "\n",
    "    backend = Aer.get_backend('statevector_simulator')\n",
    "\n",
    "    qr = QuantumRegister(7)\n",
    "    qc = QuantumCircuit(qr)\n",
    "    qc.x([3,5])\n",
    "    result = execute(qc, backend).result()\n",
    "    target_state = result.get_statevector(qc) \n",
    "\n",
    "    qc.append(Heisenberg_Trotter_1st_ord_compressed_variational(3, 4, θ), [qr[1], qr[3], qr[5]])\n",
    "    qc = qc.bind_parameters({θ: params})\n",
    "\n",
    "    result = execute(qc, backend).result()\n",
    "    state = result.get_statevector(qc)\n",
    "    cost = 1 - state_fidelity(target_state, state)\n",
    "    \n",
    "    return cost"
   ]
  },
  {
   "cell_type": "code",
   "execution_count": 40,
   "id": "8476e62e",
   "metadata": {},
   "outputs": [],
   "source": [
    "# This will be replaced by the pVQD!!!\n",
    "\n",
    "# Optimize the circuit parameters\n",
    "optimizer = COBYLA(maxiter=50, tol=0.001)\n",
    "params = (np.pi/4)*np.ones(4)\n",
    "ret = optimizer.optimize(num_vars=4, objective_function=objective_function, initial_point=params)"
   ]
  },
  {
   "cell_type": "code",
   "execution_count": 41,
   "id": "c0d28a97",
   "metadata": {},
   "outputs": [
    {
     "data": {
      "text/plain": [
       "array([2.43782622, 0.30323572, 0.68987612, 0.40946295])"
      ]
     },
     "execution_count": 41,
     "metadata": {},
     "output_type": "execute_result"
    }
   ],
   "source": [
    "ret[0]"
   ]
  },
  {
   "cell_type": "code",
   "execution_count": 24,
   "id": "b94d2356",
   "metadata": {},
   "outputs": [
    {
     "data": {
      "text/plain": [
       "<qiskit.circuit.instructionset.InstructionSet at 0x7fb46b81ad90>"
      ]
     },
     "execution_count": 24,
     "metadata": {},
     "output_type": "execute_result"
    }
   ],
   "source": [
    "# Define the final circuit that is used to compute the fidelity \n",
    "qr = QuantumRegister(7)\n",
    "qc = QuantumCircuit(qr)\n",
    "qc.rx(np.pi, [3, 5]) # Cannot use X gate due to a bug in mitq, rx(pi) does the same thing\n",
    "qc.id([0, 1, 2, 4, 6]) # Need to put identities since mitq cannot handle unused qubits\n",
    "qc.append(Heisenberg_Trotter_1st_ord_compressed_variational(3, 4, ret[0]), [qr[1], qr[3], qr[5]])"
   ]
  },
  {
   "cell_type": "markdown",
   "id": "8441aeca",
   "metadata": {},
   "source": [
    "### 2.4 Final compression"
   ]
  },
  {
   "cell_type": "code",
   "execution_count": 340,
   "id": "fa91c929",
   "metadata": {},
   "outputs": [],
   "source": [
    "## TODO: reduction to 15 CNOTs?"
   ]
  },
  {
   "cell_type": "markdown",
   "id": "bf47f359",
   "metadata": {},
   "source": [
    "The circuit now has 24 CNOTs which is already very good, though it can be compressed even further! To this end we will be using the [Yang-Baxter Equation](https://www.worldscientific.com/doi/epdf/10.1142/S0217751X89001503) (YBE) which has recently been used by [Gulania et. al](https://arxiv.org/pdf/2112.01690.pdf) to compress the circuit for a Trotterized time evolution of the XY Heisenberg model. \n",
    "\n",
    "The YBE equation works in the following way:\n",
    "\n"
   ]
  },
  {
   "cell_type": "code",
   "execution_count": 54,
   "id": "0b84a074",
   "metadata": {},
   "outputs": [],
   "source": [
    "# TODO: there is also a conjecture that we should cite.\n",
    "# TODO: Import figure to illustrate the procedure, compute new variables variationally similar to the pVQD precedure (minimizing a local cost function)."
   ]
  },
  {
   "cell_type": "code",
   "execution_count": 55,
   "id": "63dd0278",
   "metadata": {},
   "outputs": [],
   "source": [
    "# First try with fidelity estimation (please do not remove)"
   ]
  },
  {
   "cell_type": "code",
   "execution_count": 61,
   "id": "4073b33e",
   "metadata": {},
   "outputs": [],
   "source": [
    "θ2 = ParameterVector('θ2', 5)"
   ]
  },
  {
   "cell_type": "code",
   "execution_count": 62,
   "id": "f8d1e52f",
   "metadata": {},
   "outputs": [
    {
     "data": {
      "text/plain": [
       "<qiskit.circuit.quantumcircuit.QuantumCircuit at 0x7fb452965e20>"
      ]
     },
     "execution_count": 62,
     "metadata": {},
     "output_type": "execute_result"
    }
   ],
   "source": [
    "qc"
   ]
  },
  {
   "cell_type": "code",
   "execution_count": 63,
   "id": "fd73beca",
   "metadata": {},
   "outputs": [],
   "source": [
    "# This is the cost function to find the optimal parameters, this should be done via the pVQD instead!\n",
    "def objective_function(params):\n",
    "\n",
    "    backend = Aer.get_backend('statevector_simulator')\n",
    "\n",
    "    qr = QuantumRegister(7)\n",
    "    qc = QuantumCircuit(qr)\n",
    "    qc.rx(np.pi, [3, 5]) # Cannot use X gate due to a bug in mitq, rx(pi) does the same thing\n",
    "    qc.append(Heisenberg_Trotter_1st_ord_compressed_variational(3, 4, ret[0]), [qr[1], qr[3], qr[5]])\n",
    "    result = execute(qc, backend).result()\n",
    "    target_state = result.get_statevector(qc) \n",
    "\n",
    "    qr = QuantumRegister(7)\n",
    "    qc = QuantumCircuit(qr)\n",
    "    qc.rx(np.pi, [3, 5]) # Cannot use X gate due to a bug in mitq, rx(pi) does the same thing\n",
    "    qc.append(Heisenberg_Trotter_1st_ord_compressed_variational_YBE(3, θ2),  [qr[1], qr[3], qr[5]])\n",
    "    qc = qc.bind_parameters({θ2: params})\n",
    "\n",
    "    result = execute(qc, backend).result()\n",
    "    state = result.get_statevector(qc)\n",
    "    cost = 1 - state_fidelity(target_state, state)\n",
    "    \n",
    "    return cost"
   ]
  },
  {
   "cell_type": "code",
   "execution_count": 64,
   "id": "7629a4f6",
   "metadata": {},
   "outputs": [],
   "source": [
    "# Optimize the circuit parameters\n",
    "optimizer = COBYLA(maxiter=50, tol=0.001)\n",
    "params = (np.pi/4)*np.ones(5)\n",
    "ret2 = optimizer.optimize(num_vars=5, objective_function=objective_function, initial_point=params)"
   ]
  },
  {
   "cell_type": "code",
   "execution_count": 65,
   "id": "d8874ad4",
   "metadata": {},
   "outputs": [
    {
     "data": {
      "text/plain": [
       "(array([0.79418723, 1.30183221, 1.57003833, 1.8463565 , 0.81220337]),\n",
       " 7.726481114789241e-05,\n",
       " 50)"
      ]
     },
     "execution_count": 65,
     "metadata": {},
     "output_type": "execute_result"
    }
   ],
   "source": [
    "ret2"
   ]
  },
  {
   "cell_type": "code",
   "execution_count": null,
   "id": "e66aeac2",
   "metadata": {},
   "outputs": [],
   "source": [
    "##### Second try with VQE (please do not remove)"
   ]
  },
  {
   "cell_type": "code",
   "execution_count": 60,
   "id": "d5c183d7",
   "metadata": {},
   "outputs": [],
   "source": [
    "from trotter_functions import Heisenberg_Trotter_1st_ord_compressed_variational_YBE\n",
    "from pVQD import projector_zero_local\n",
    "from qiskit.utils import QuantumInstance"
   ]
  },
  {
   "cell_type": "code",
   "execution_count": 242,
   "id": "636d688f",
   "metadata": {},
   "outputs": [
    {
     "data": {
      "text/plain": [
       "<qiskit.circuit.instructionset.InstructionSet at 0x7ff55e9c6be0>"
      ]
     },
     "execution_count": 242,
     "metadata": {},
     "output_type": "execute_result"
    }
   ],
   "source": [
    "qr = QuantumRegister(7)\n",
    "qc = QuantumCircuit(qr)\n",
    "qc.rx(np.pi, [3, 5]) # Cannot use X gate due to a bug in mitq, rx(pi) does the same thing\n",
    "qc.id([0, 1, 2, 4, 6]) # Need to put identities since mitq cannot handle unused qubits"
   ]
  },
  {
   "cell_type": "code",
   "execution_count": 243,
   "id": "e6fcbada",
   "metadata": {},
   "outputs": [],
   "source": [
    "θ2 = ParameterVector('θ2', 5)"
   ]
  },
  {
   "cell_type": "code",
   "execution_count": 244,
   "id": "388d1203",
   "metadata": {},
   "outputs": [
    {
     "data": {
      "text/plain": [
       "<qiskit.circuit.instructionset.InstructionSet at 0x7ff557193c70>"
      ]
     },
     "execution_count": 244,
     "metadata": {},
     "output_type": "execute_result"
    }
   ],
   "source": [
    "\n",
    "qc.append(Heisenberg_Trotter_1st_ord_compressed_variational(num_qubits, 4, ret[0]), [qr[1], qr[3], qr[5]]).inverse()\n",
    "qc.append(Heisenberg_Trotter_1st_ord_compressed_variational_YBE(num_qubits, θ2), [qr[1], qr[3], qr[5]])\n"
   ]
  },
  {
   "cell_type": "code",
   "execution_count": 245,
   "id": "f912eca4",
   "metadata": {},
   "outputs": [
    {
     "data": {
      "image/png": "[encoded data removed]",
      "text/plain": [
       "<Figure size 1008.59x445.48 with 1 Axes>"
      ]
     },
     "execution_count": 245,
     "metadata": {},
     "output_type": "execute_result"
    }
   ],
   "source": [
    "qc.decompose().draw(\"mpl\")"
   ]
  },
  {
   "cell_type": "code",
   "execution_count": 246,
   "id": "e164acdd",
   "metadata": {},
   "outputs": [],
   "source": [
    "from qiskit.algorithms import VQE\n",
    "from qiskit.algorithms.optimizers import SLSQP\n",
    "from qiskit.opflow import I"
   ]
  },
  {
   "cell_type": "code",
   "execution_count": 247,
   "id": "1dacd509",
   "metadata": {},
   "outputs": [],
   "source": [
    "tmp = I^I^I^I^I^I^I"
   ]
  },
  {
   "cell_type": "code",
   "execution_count": 249,
   "id": "d5373a50",
   "metadata": {},
   "outputs": [],
   "source": [
    "seed = 50\n",
    "qi = QuantumInstance(Aer.get_backend('statevector_simulator'), seed_transpiler=seed, seed_simulator=seed)\n",
    "\n",
    "# slsqp = SLSQP(maxiter=1000)\n",
    "optimizer = COBYLA(maxiter=50, tol=0.001)\n",
    "\n",
    "vqe = VQE(qc, optimizer=optimizer, quantum_instance=qi)\n",
    "result = vqe.compute_minimum_eigenvalue(operator=tmp-projector_zero_local(7))\n",
    "optimizer_evals = result.optimizer_evals"
   ]
  },
  {
   "cell_type": "code",
   "execution_count": 250,
   "id": "d3a15550",
   "metadata": {},
   "outputs": [
    {
     "name": "stdout",
     "output_type": "stream",
     "text": [
      "OrderedDict([   ('aux_operator_eigenvalues', None),\n",
      "                ('cost_function_evals', 40),\n",
      "                (   'eigenstate',\n",
      "                    array([-6.35543793e-16-1.86363871e-16j,  0.00000000e+00+0.00000000e+00j,\n",
      "        9.72281893e-17-2.86932526e-16j,  0.00000000e+00+0.00000000e+00j,\n",
      "        0.00000000e+00+0.00000000e+00j,  0.00000000e+00+0.00000000e+00j,\n",
      "        0.00000000e+00+0.00000000e+00j,  0.00000000e+00+0.00000000e+00j,\n",
      "        4.00948622e-16+2.10711904e-16j,  0.00000000e+00+0.00000000e+00j,\n",
      "        6.08594762e-01-6.48456718e-01j,  0.00000000e+00+0.00000000e+00j,\n",
      "        0.00000000e+00+0.00000000e+00j,  0.00000000e+00+0.00000000e+00j,\n",
      "        0.00000000e+00+0.00000000e+00j,  0.00000000e+00+0.00000000e+00j,\n",
      "        0.00000000e+00+0.00000000e+00j,  0.00000000e+00+0.00000000e+00j,\n",
      "        0.00000000e+00+0.00000000e+00j,  0.00000000e+00+0.00000000e+00j,\n",
      "        0.00000000e+00+0.00000000e+00j,  0.00000000e+00+0.00000000e+00j,\n",
      "        0.00000000e+00+0.00000000e+00j,  0.00000000e+00+0.00000000e+00j,\n",
      "        0.00000000e+00+0.00000000e+00j,  0.00000000e+00+0.00000000e+00j,\n",
      "        0.00000000e+00+0.00000000e+00j,  0.00000000e+00+0.00000000e+00j,\n",
      "        0.00000000e+00+0.00000000e+00j,  0.00000000e+00+0.00000000e+00j,\n",
      "        0.00000000e+00+0.00000000e+00j,  0.00000000e+00+0.00000000e+00j,\n",
      "       -2.61632425e-16+4.49199298e-17j,  0.00000000e+00+0.00000000e+00j,\n",
      "        3.26731301e-01+2.55052422e-01j,  0.00000000e+00+0.00000000e+00j,\n",
      "        0.00000000e+00+0.00000000e+00j,  0.00000000e+00+0.00000000e+00j,\n",
      "        0.00000000e+00+0.00000000e+00j,  0.00000000e+00+0.00000000e+00j,\n",
      "        4.33978892e-02+1.88222853e-01j,  0.00000000e+00+0.00000000e+00j,\n",
      "       -3.99639167e-17-5.57164468e-16j,  0.00000000e+00+0.00000000e+00j,\n",
      "        0.00000000e+00+0.00000000e+00j,  0.00000000e+00+0.00000000e+00j,\n",
      "        0.00000000e+00+0.00000000e+00j,  0.00000000e+00+0.00000000e+00j,\n",
      "        0.00000000e+00+0.00000000e+00j,  0.00000000e+00+0.00000000e+00j,\n",
      "        0.00000000e+00+0.00000000e+00j,  0.00000000e+00+0.00000000e+00j,\n",
      "        0.00000000e+00+0.00000000e+00j,  0.00000000e+00+0.00000000e+00j,\n",
      "        0.00000000e+00+0.00000000e+00j,  0.00000000e+00+0.00000000e+00j,\n",
      "        0.00000000e+00+0.00000000e+00j,  0.00000000e+00+0.00000000e+00j,\n",
      "        0.00000000e+00+0.00000000e+00j,  0.00000000e+00+0.00000000e+00j,\n",
      "        0.00000000e+00+0.00000000e+00j,  0.00000000e+00+0.00000000e+00j,\n",
      "        0.00000000e+00+0.00000000e+00j,  0.00000000e+00+0.00000000e+00j,\n",
      "        0.00000000e+00+0.00000000e+00j,  0.00000000e+00+0.00000000e+00j,\n",
      "        0.00000000e+00+0.00000000e+00j,  0.00000000e+00+0.00000000e+00j,\n",
      "        0.00000000e+00+0.00000000e+00j,  0.00000000e+00+0.00000000e+00j,\n",
      "        0.00000000e+00+0.00000000e+00j,  0.00000000e+00+0.00000000e+00j,\n",
      "        0.00000000e+00+0.00000000e+00j,  0.00000000e+00+0.00000000e+00j,\n",
      "        0.00000000e+00+0.00000000e+00j,  0.00000000e+00+0.00000000e+00j,\n",
      "        0.00000000e+00+0.00000000e+00j,  0.00000000e+00+0.00000000e+00j,\n",
      "        0.00000000e+00+0.00000000e+00j,  0.00000000e+00+0.00000000e+00j,\n",
      "        0.00000000e+00+0.00000000e+00j,  0.00000000e+00+0.00000000e+00j,\n",
      "        0.00000000e+00+0.00000000e+00j,  0.00000000e+00+0.00000000e+00j,\n",
      "        0.00000000e+00+0.00000000e+00j,  0.00000000e+00+0.00000000e+00j,\n",
      "        0.00000000e+00+0.00000000e+00j,  0.00000000e+00+0.00000000e+00j,\n",
      "        0.00000000e+00+0.00000000e+00j,  0.00000000e+00+0.00000000e+00j,\n",
      "        0.00000000e+00+0.00000000e+00j,  0.00000000e+00+0.00000000e+00j,\n",
      "        0.00000000e+00+0.00000000e+00j,  0.00000000e+00+0.00000000e+00j,\n",
      "        0.00000000e+00+0.00000000e+00j,  0.00000000e+00+0.00000000e+00j,\n",
      "        0.00000000e+00+0.00000000e+00j,  0.00000000e+00+0.00000000e+00j,\n",
      "        0.00000000e+00+0.00000000e+00j,  0.00000000e+00+0.00000000e+00j,\n",
      "        0.00000000e+00+0.00000000e+00j,  0.00000000e+00+0.00000000e+00j,\n",
      "        0.00000000e+00+0.00000000e+00j,  0.00000000e+00+0.00000000e+00j,\n",
      "        0.00000000e+00+0.00000000e+00j,  0.00000000e+00+0.00000000e+00j,\n",
      "        0.00000000e+00+0.00000000e+00j,  0.00000000e+00+0.00000000e+00j,\n",
      "        0.00000000e+00+0.00000000e+00j,  0.00000000e+00+0.00000000e+00j,\n",
      "        0.00000000e+00+0.00000000e+00j,  0.00000000e+00+0.00000000e+00j,\n",
      "        0.00000000e+00+0.00000000e+00j,  0.00000000e+00+0.00000000e+00j,\n",
      "        0.00000000e+00+0.00000000e+00j,  0.00000000e+00+0.00000000e+00j,\n",
      "        0.00000000e+00+0.00000000e+00j,  0.00000000e+00+0.00000000e+00j,\n",
      "        0.00000000e+00+0.00000000e+00j,  0.00000000e+00+0.00000000e+00j,\n",
      "        0.00000000e+00+0.00000000e+00j,  0.00000000e+00+0.00000000e+00j,\n",
      "        0.00000000e+00+0.00000000e+00j,  0.00000000e+00+0.00000000e+00j,\n",
      "        0.00000000e+00+0.00000000e+00j,  0.00000000e+00+0.00000000e+00j,\n",
      "        0.00000000e+00+0.00000000e+00j,  0.00000000e+00+0.00000000e+00j])),\n",
      "                ('eigenvalue', 0.2857142857142857),\n",
      "                (   'optimal_parameters',\n",
      "                    {   ParameterVectorElement(θ2[1]): 5.426020053036466,\n",
      "                        ParameterVectorElement(θ2[2]): -4.289462614547465,\n",
      "                        ParameterVectorElement(θ2[3]): 6.241026844285098,\n",
      "                        ParameterVectorElement(θ2[4]): -3.0083401600364184,\n",
      "                        ParameterVectorElement(θ2[0]): 1.5212423384760803}),\n",
      "                (   'optimal_point',\n",
      "                    array([ 1.52124234,  5.42602005, -4.28946261,  6.24102684, -3.00834016])),\n",
      "                ('optimal_value', 0.2857142857142857),\n",
      "                ('optimizer_evals', 40),\n",
      "                ('optimizer_time', 0.33928871154785156)])\n"
     ]
    }
   ],
   "source": [
    "print(result)"
   ]
  },
  {
   "cell_type": "code",
   "execution_count": 240,
   "id": "b993e34c",
   "metadata": {},
   "outputs": [
    {
     "data": {
      "text/plain": [
       "array([ 6.11172291, -2.89823478, -4.58773143, -3.19948246, -4.33438666])"
      ]
     },
     "execution_count": 240,
     "metadata": {},
     "output_type": "execute_result"
    }
   ],
   "source": [
    "result.optimal_point"
   ]
  },
  {
   "cell_type": "markdown",
   "id": "7aaa4c2b",
   "metadata": {},
   "source": [
    "## 3- Final Implementation"
   ]
  },
  {
   "cell_type": "markdown",
   "id": "1eac92d7",
   "metadata": {},
   "source": [
    "### 3.1 Error mitigation"
   ]
  },
  {
   "cell_type": "markdown",
   "id": "dd9b01a3-b1be-4da3-a46c-8f920b949847",
   "metadata": {},
   "source": [
    "Here we will use error mitigation to further improve the result. In particular we will be using Zero Noise Extrapolation (ZNE). For this the circuit depth is extended by unfolding gates, $G \\rightarrow G G^\\dagger G$. The circuit remains the same this way (since $G^\\dagger G = I$), though the noise is increased. This way we can obtain results for different noise levels and extrapolate to the ideal, zero noise case. This prodecure is nicely wrapped into a single function provided by [mitiq](https://mitiq.readthedocs.io/en/stable/from). One simply has to be careful with minor bugs present in mitiq, we will comment on them below. "
   ]
  },
  {
   "cell_type": "code",
   "execution_count": 42,
   "id": "14a457c5-1df6-4994-a843-ef627af5f5d4",
   "metadata": {},
   "outputs": [],
   "source": [
    "from mitiq.zne.inference import PolyFactory\n",
    "from mitiq.zne.zne import execute_with_zne"
   ]
  },
  {
   "cell_type": "code",
   "execution_count": 43,
   "id": "70c83ae5-ee16-4288-8d05-b1328c5a70dd",
   "metadata": {},
   "outputs": [
    {
     "name": "stderr",
     "output_type": "stream",
     "text": [
      "ibmqfactory.load_account:WARNING:2022-02-26 22:19:26,669: Credentials are already in use. The existing account in the session will be replaced.\n"
     ]
    }
   ],
   "source": [
    "provider = IBMQ.load_account()"
   ]
  },
  {
   "cell_type": "code",
   "execution_count": 44,
   "id": "04cc9192",
   "metadata": {},
   "outputs": [],
   "source": [
    "provider = IBMQ.get_provider(hub='ibm-q-community', group='ibmquantumawards', project='open-science-22')\n",
    "jakarta = provider.get_backend('ibmq_jakarta')\n",
    "# Simulated backend based on ibmq_jakarta's device noise profile\n",
    "sim_noisy_jakarta = QasmSimulator.from_backend(provider.get_backend('ibmq_jakarta'))"
   ]
  },
  {
   "cell_type": "code",
   "execution_count": 45,
   "id": "effc6815-14bf-4a4b-b3d8-ea44702670c5",
   "metadata": {},
   "outputs": [],
   "source": [
    "# Setting all the parameters that are need\n",
    "shots = 8192\n",
    "backend = sim_noisy_jakarta"
   ]
  },
  {
   "cell_type": "code",
   "execution_count": 66,
   "id": "63825f72",
   "metadata": {},
   "outputs": [
    {
     "data": {
      "text/plain": [
       "<qiskit.circuit.instructionset.InstructionSet at 0x7fb46b47e1f0>"
      ]
     },
     "execution_count": 66,
     "metadata": {},
     "output_type": "execute_result"
    }
   ],
   "source": [
    "qr = QuantumRegister(7)\n",
    "qc = QuantumCircuit(qr)\n",
    "qc.rx(np.pi, [3, 5]) # Cannot use X gate due to a bug in mitq, rx(pi) does the same thing\n",
    "qc.id([0, 1, 2, 4, 6]) # Need to put identities since mitq cannot handle unused qubits\n",
    "qc.append(Heisenberg_Trotter_1st_ord_compressed_variational_YBE(3, ret2[0]),  [qr[1], qr[3], qr[5]])\n",
    "#qc.append(Heisenberg_Trotter_1st_ord_compressed_variational(3, 4, ret[0]),  [qr[1], qr[3], qr[5]])\n"
   ]
  },
  {
   "cell_type": "code",
   "execution_count": 67,
   "id": "1c82fd8f-e3a9-4502-8fb5-d79f5e9509f1",
   "metadata": {},
   "outputs": [],
   "source": [
    "# Compute the state tomography based on the st_qcs quantum circuits and the results from those ciricuits\n",
    "def state_tomo(result, st_qcs):\n",
    "    # The expected final state; necessary to determine state tomography fidelity\n",
    "    target_state = (One^One^Zero).to_matrix()  # DO NOT MODIFY (|q_5,q_3,q_1> = |110>)\n",
    "    # Fit state tomography results\n",
    "    tomo_fitter = StateTomographyFitter(result, st_qcs)\n",
    "    rho_fit = tomo_fitter.fit(method='lstsq')\n",
    "    # Compute fidelity\n",
    "    fid = state_fidelity(rho_fit, target_state)\n",
    "    return fid"
   ]
  },
  {
   "cell_type": "markdown",
   "id": "ee9bc92e-d6ae-406b-9ca7-255931e8d2c2",
   "metadata": {},
   "source": [
    "To use mitiq for noise mitigation we need to wrap the fidelity estimation via state tomography into a single \"executor\" function."
   ]
  },
  {
   "cell_type": "code",
   "execution_count": 68,
   "id": "22d7b44c-6860-46f1-bc92-4b3dd30c6b06",
   "metadata": {},
   "outputs": [],
   "source": [
    "# Function that does state tomography and returns the fidelity\n",
    "# To be used in the error mitigation (mitq)\n",
    "def executor(circ):\n",
    "    \n",
    "    # Create list of state tomography circuits out of circ\n",
    "    st_qcs = state_tomography_circuits(circ, [qr[1], qr[3], qr[5]])\n",
    "\n",
    "    # Execute the state tomography circuits \n",
    "    job = execute(st_qcs, backend, optimization_level=3, shots=shots)\n",
    "    print('Job ID', job.job_id())\n",
    "    \n",
    "    return state_tomo(job.result(), st_qcs)"
   ]
  },
  {
   "cell_type": "code",
   "execution_count": 69,
   "id": "01f27c9a",
   "metadata": {},
   "outputs": [],
   "source": [
    "# method: scale noise by 1, 2, 3, and 4, then extrapolate quadratically to the zero noise limit.\n",
    "poly_fac = PolyFactory(scale_factors=[1.0, 2.0, 3.0], order=2)"
   ]
  },
  {
   "cell_type": "code",
   "execution_count": 70,
   "id": "fde38926",
   "metadata": {},
   "outputs": [
    {
     "data": {
      "image/png": "[encoded data removed]",
      "text/plain": [
       "<Figure size 514.009x445.48 with 1 Axes>"
      ]
     },
     "execution_count": 70,
     "metadata": {},
     "output_type": "execute_result"
    }
   ],
   "source": [
    "qc.decompose().draw(\"mpl\")"
   ]
  },
  {
   "cell_type": "code",
   "execution_count": 71,
   "id": "c8d1753f-32ba-4faa-98ef-238f06f163a0",
   "metadata": {},
   "outputs": [
    {
     "name": "stdout",
     "output_type": "stream",
     "text": [
      "Job ID 39e693ba-56a4-4104-ac2f-59d93afb1e84\n",
      "Job ID adaa102e-7550-4eff-9246-1f7516463479\n",
      "Job ID be6f7a49-4b24-4a45-80b3-f64b7ac00fa8\n",
      "Job ID e9c2dc0b-eda5-4b86-8271-da0157493f45\n",
      "Job ID 32f12c2f-46f5-45c3-bccf-46e77df843e2\n",
      "Job ID be4b8da0-2078-49a0-a164-e324212e088e\n"
     ]
    }
   ],
   "source": [
    "# Repeat fidelity measurement\n",
    "reps = 2 # Needs to be 8 in the final execution\n",
    "fids = []\n",
    "for _ in range(reps):\n",
    "    \n",
    "    # Circuit needs to be decomposed for mitq\n",
    "    fids.append(execute_with_zne(qc.decompose().decompose(), executor, factory=poly_fac)) "
   ]
  },
  {
   "cell_type": "code",
   "execution_count": 73,
   "id": "038e6753-9e25-4609-8c86-07e5a55e4dcf",
   "metadata": {},
   "outputs": [
    {
     "name": "stdout",
     "output_type": "stream",
     "text": [
      "state tomography fidelity = 0.8044 ± 0.0081\n"
     ]
    }
   ],
   "source": [
    "print('state tomography fidelity = {:.4f} \\u00B1 {:.4f}'.format(np.mean(fids), np.std(fids)))"
   ]
  },
  {
   "cell_type": "code",
   "execution_count": null,
   "id": "44165ef0",
   "metadata": {},
   "outputs": [],
   "source": [
    "# Compression does wonders! :) "
   ]
  }
 ],
 "metadata": {
  "kernelspec": {
   "display_name": "Python 3 (ipykernel)",
   "language": "python",
   "name": "python3"
  },
  "language_info": {
   "codemirror_mode": {
    "name": "ipython",
    "version": 3
   },
   "file_extension": ".py",
   "mimetype": "text/x-python",
   "name": "python",
   "nbconvert_exporter": "python",
   "pygments_lexer": "ipython3",
   "version": "3.8.12"
  }
 },
 "nbformat": 4,
 "nbformat_minor": 5
}
